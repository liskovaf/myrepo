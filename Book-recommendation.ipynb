{
 "cells": [
  {
   "cell_type": "markdown",
   "id": "4dfda4dd-6711-4080-a865-7d12ad50ee20",
   "metadata": {
    "tags": []
   },
   "source": [
    "<b><h1> „I like Lord of the Rings, what else should I read?“ "
   ]
  },
  {
   "cell_type": "markdown",
   "id": "fad899a3-b18b-47ee-bb31-5bae983c5cf4",
   "metadata": {
    "tags": []
   },
   "source": [
    "<div class=\"alert alert-block alert-info\">\n",
    "<b>Task:</b> Build recommendation system - take some data, try some approaches, produce some code, get some results \n",
    "&nbsp&nbsp&nbsp&nbsp&nbsp&nbsp&nbsp&nbsp&nbsp&nbsp&nbsp&nbsp\n",
    "<b>Used dataset:</b> http://www2.informatik.uni-freiburg.de/~cziegler/BX\n",
    "</div>\n",
    "\n"
   ]
  },
  {
   "cell_type": "markdown",
   "id": "5b9d986f-4a8f-4fcd-bf45-c6c3fb19d833",
   "metadata": {},
   "source": [
    "<img src=\"giphy.gif\" width=\"300\" align=\"left\">"
   ]
  },
  {
   "cell_type": "markdown",
   "id": "2d0f9e39-251e-4c40-b1d3-f50e08e8faed",
   "metadata": {
    "tags": []
   },
   "source": [
    "-------------------------"
   ]
  },
  {
   "cell_type": "markdown",
   "id": "52727c0b-e26c-454b-a0f3-f17ca187caad",
   "metadata": {
    "tags": []
   },
   "source": [
    "<br>"
   ]
  },
  {
   "cell_type": "markdown",
   "id": "801f8dc0-f218-4f16-ac59-64b7bf91fff3",
   "metadata": {},
   "source": [
    "## <font color='black'>Table of contents<font><a class='anchor' id='top'></a>\n",
    "- [1. Data preprocessing](#Data-preprocessing⚒️)🛠\n",
    "- [2. Merging dataframes](#Merging-dataframes)⚙️\n",
    "- [3. Data visualisation](#3) 📊\n",
    "- [4. Building recommendation system](#Building-Recommendation-system)💻"
   ]
  },
  {
   "cell_type": "markdown",
   "id": "dc18ab0a-ee53-441e-92f7-6bd049aad051",
   "metadata": {},
   "source": [
    "#### Importing libraries 📚"
   ]
  },
  {
   "cell_type": "code",
   "execution_count": 3,
   "id": "88c060ba-b187-4814-a49c-3fc00167da0c",
   "metadata": {
    "tags": []
   },
   "outputs": [],
   "source": [
    "%load_ext autoreload\n",
    "%autoreload 2\n",
    "import pandas as pd\n",
    "import seaborn as sns\n",
    "import matplotlib.pyplot as plt\n",
    "import re\n",
    "import sys\n",
    "import numpy as np\n",
    "\n",
    "from IPython.display import Image\n",
    "from IPython.display import SVG, display\n",
    "\n",
    "from scipy.sparse import csr_matrix\n",
    "from sklearn.neighbors import NearestNeighbors\n",
    "\n",
    "from sentence_transformers import SentenceTransformer, util\n",
    "from nltk.corpus import stopwords\n",
    "from nltk.stem import WordNetLemmatizer \n",
    "from nltk import word_tokenize\n",
    "import nltk\n",
    "import string \n",
    "import torch\n",
    "from sklearn.metrics.pairwise import cosine_similarity"
   ]
  },
  {
   "cell_type": "code",
   "execution_count": null,
   "id": "508d2fb1-83e6-4664-adf2-82e67cc07ddd",
   "metadata": {},
   "outputs": [],
   "source": [
    "pip install -U sentence-transformers"
   ]
  },
  {
   "cell_type": "markdown",
   "id": "609655d5-105f-498d-ad26-7adc61e83dd8",
   "metadata": {},
   "source": [
    "#### Loading data 💾"
   ]
  },
  {
   "cell_type": "code",
   "execution_count": 161,
   "id": "57c359f1-10fc-4d65-967f-451167d5073f",
   "metadata": {
    "tags": []
   },
   "outputs": [
    {
     "data": {
      "text/html": [
       "<div>\n",
       "<style scoped>\n",
       "    .dataframe tbody tr th:only-of-type {\n",
       "        vertical-align: middle;\n",
       "    }\n",
       "\n",
       "    .dataframe tbody tr th {\n",
       "        vertical-align: top;\n",
       "    }\n",
       "\n",
       "    .dataframe thead th {\n",
       "        text-align: right;\n",
       "    }\n",
       "</style>\n",
       "<table border=\"1\" class=\"dataframe\">\n",
       "  <thead>\n",
       "    <tr style=\"text-align: right;\">\n",
       "      <th></th>\n",
       "      <th>User-ID</th>\n",
       "      <th>ISBN</th>\n",
       "      <th>Book-Rating</th>\n",
       "    </tr>\n",
       "  </thead>\n",
       "  <tbody>\n",
       "    <tr>\n",
       "      <th>0</th>\n",
       "      <td>276725</td>\n",
       "      <td>034545104X</td>\n",
       "      <td>0</td>\n",
       "    </tr>\n",
       "    <tr>\n",
       "      <th>1</th>\n",
       "      <td>276726</td>\n",
       "      <td>0155061224</td>\n",
       "      <td>5</td>\n",
       "    </tr>\n",
       "    <tr>\n",
       "      <th>2</th>\n",
       "      <td>276727</td>\n",
       "      <td>0446520802</td>\n",
       "      <td>0</td>\n",
       "    </tr>\n",
       "    <tr>\n",
       "      <th>3</th>\n",
       "      <td>276729</td>\n",
       "      <td>052165615X</td>\n",
       "      <td>3</td>\n",
       "    </tr>\n",
       "    <tr>\n",
       "      <th>4</th>\n",
       "      <td>276729</td>\n",
       "      <td>0521795028</td>\n",
       "      <td>6</td>\n",
       "    </tr>\n",
       "    <tr>\n",
       "      <th>5</th>\n",
       "      <td>276733</td>\n",
       "      <td>2080674722</td>\n",
       "      <td>0</td>\n",
       "    </tr>\n",
       "    <tr>\n",
       "      <th>6</th>\n",
       "      <td>276736</td>\n",
       "      <td>3257224281</td>\n",
       "      <td>8</td>\n",
       "    </tr>\n",
       "    <tr>\n",
       "      <th>7</th>\n",
       "      <td>276737</td>\n",
       "      <td>0600570967</td>\n",
       "      <td>6</td>\n",
       "    </tr>\n",
       "    <tr>\n",
       "      <th>8</th>\n",
       "      <td>276744</td>\n",
       "      <td>038550120X</td>\n",
       "      <td>7</td>\n",
       "    </tr>\n",
       "    <tr>\n",
       "      <th>9</th>\n",
       "      <td>276745</td>\n",
       "      <td>342310538</td>\n",
       "      <td>10</td>\n",
       "    </tr>\n",
       "  </tbody>\n",
       "</table>\n",
       "</div>"
      ],
      "text/plain": [
       "   User-ID        ISBN  Book-Rating\n",
       "0   276725  034545104X            0\n",
       "1   276726  0155061224            5\n",
       "2   276727  0446520802            0\n",
       "3   276729  052165615X            3\n",
       "4   276729  0521795028            6\n",
       "5   276733  2080674722            0\n",
       "6   276736  3257224281            8\n",
       "7   276737  0600570967            6\n",
       "8   276744  038550120X            7\n",
       "9   276745   342310538           10"
      ]
     },
     "execution_count": 161,
     "metadata": {},
     "output_type": "execute_result"
    }
   ],
   "source": [
    "#Loading BX-Book-Ratings.csv\n",
    "df_ratings = pd.read_csv('BX-Book-Ratings.csv',sep=';',encoding='unicode_escape')\n",
    "df_ratings.head(10)"
   ]
  },
  {
   "cell_type": "code",
   "execution_count": 3,
   "id": "b7240c8e-d805-48f5-93ae-4766d0be77f0",
   "metadata": {},
   "outputs": [
    {
     "data": {
      "text/html": [
       "<div>\n",
       "<style scoped>\n",
       "    .dataframe tbody tr th:only-of-type {\n",
       "        vertical-align: middle;\n",
       "    }\n",
       "\n",
       "    .dataframe tbody tr th {\n",
       "        vertical-align: top;\n",
       "    }\n",
       "\n",
       "    .dataframe thead th {\n",
       "        text-align: right;\n",
       "    }\n",
       "</style>\n",
       "<table border=\"1\" class=\"dataframe\">\n",
       "  <thead>\n",
       "    <tr style=\"text-align: right;\">\n",
       "      <th></th>\n",
       "      <th>ISBN</th>\n",
       "      <th>Book-Title</th>\n",
       "      <th>Book-Author</th>\n",
       "      <th>Year-Of-Publication</th>\n",
       "      <th>Publisher</th>\n",
       "      <th>Image-URL-S</th>\n",
       "      <th>Image-URL-M</th>\n",
       "      <th>Image-URL-L</th>\n",
       "    </tr>\n",
       "  </thead>\n",
       "  <tbody>\n",
       "    <tr>\n",
       "      <th>0</th>\n",
       "      <td>0195153448</td>\n",
       "      <td>Classical Mythology</td>\n",
       "      <td>Mark P. O. Morford</td>\n",
       "      <td>2002</td>\n",
       "      <td>Oxford University Press</td>\n",
       "      <td>http://images.amazon.com/images/P/0195153448.0...</td>\n",
       "      <td>http://images.amazon.com/images/P/0195153448.0...</td>\n",
       "      <td>http://images.amazon.com/images/P/0195153448.0...</td>\n",
       "    </tr>\n",
       "    <tr>\n",
       "      <th>1</th>\n",
       "      <td>0002005018</td>\n",
       "      <td>Clara Callan</td>\n",
       "      <td>Richard Bruce Wright</td>\n",
       "      <td>2001</td>\n",
       "      <td>HarperFlamingo Canada</td>\n",
       "      <td>http://images.amazon.com/images/P/0002005018.0...</td>\n",
       "      <td>http://images.amazon.com/images/P/0002005018.0...</td>\n",
       "      <td>http://images.amazon.com/images/P/0002005018.0...</td>\n",
       "    </tr>\n",
       "    <tr>\n",
       "      <th>2</th>\n",
       "      <td>0060973129</td>\n",
       "      <td>Decision in Normandy</td>\n",
       "      <td>Carlo D'Este</td>\n",
       "      <td>1991</td>\n",
       "      <td>HarperPerennial</td>\n",
       "      <td>http://images.amazon.com/images/P/0060973129.0...</td>\n",
       "      <td>http://images.amazon.com/images/P/0060973129.0...</td>\n",
       "      <td>http://images.amazon.com/images/P/0060973129.0...</td>\n",
       "    </tr>\n",
       "    <tr>\n",
       "      <th>3</th>\n",
       "      <td>0374157065</td>\n",
       "      <td>Flu: The Story of the Great Influenza Pandemic...</td>\n",
       "      <td>Gina Bari Kolata</td>\n",
       "      <td>1999</td>\n",
       "      <td>Farrar Straus Giroux</td>\n",
       "      <td>http://images.amazon.com/images/P/0374157065.0...</td>\n",
       "      <td>http://images.amazon.com/images/P/0374157065.0...</td>\n",
       "      <td>http://images.amazon.com/images/P/0374157065.0...</td>\n",
       "    </tr>\n",
       "    <tr>\n",
       "      <th>4</th>\n",
       "      <td>0393045218</td>\n",
       "      <td>The Mummies of Urumchi</td>\n",
       "      <td>E. J. W. Barber</td>\n",
       "      <td>1999</td>\n",
       "      <td>W. W. Norton &amp;amp; Company</td>\n",
       "      <td>http://images.amazon.com/images/P/0393045218.0...</td>\n",
       "      <td>http://images.amazon.com/images/P/0393045218.0...</td>\n",
       "      <td>http://images.amazon.com/images/P/0393045218.0...</td>\n",
       "    </tr>\n",
       "  </tbody>\n",
       "</table>\n",
       "</div>"
      ],
      "text/plain": [
       "         ISBN                                         Book-Title  \\\n",
       "0  0195153448                                Classical Mythology   \n",
       "1  0002005018                                       Clara Callan   \n",
       "2  0060973129                               Decision in Normandy   \n",
       "3  0374157065  Flu: The Story of the Great Influenza Pandemic...   \n",
       "4  0393045218                             The Mummies of Urumchi   \n",
       "\n",
       "            Book-Author Year-Of-Publication                   Publisher  \\\n",
       "0    Mark P. O. Morford                2002     Oxford University Press   \n",
       "1  Richard Bruce Wright                2001       HarperFlamingo Canada   \n",
       "2          Carlo D'Este                1991             HarperPerennial   \n",
       "3      Gina Bari Kolata                1999        Farrar Straus Giroux   \n",
       "4       E. J. W. Barber                1999  W. W. Norton &amp; Company   \n",
       "\n",
       "                                         Image-URL-S  \\\n",
       "0  http://images.amazon.com/images/P/0195153448.0...   \n",
       "1  http://images.amazon.com/images/P/0002005018.0...   \n",
       "2  http://images.amazon.com/images/P/0060973129.0...   \n",
       "3  http://images.amazon.com/images/P/0374157065.0...   \n",
       "4  http://images.amazon.com/images/P/0393045218.0...   \n",
       "\n",
       "                                         Image-URL-M  \\\n",
       "0  http://images.amazon.com/images/P/0195153448.0...   \n",
       "1  http://images.amazon.com/images/P/0002005018.0...   \n",
       "2  http://images.amazon.com/images/P/0060973129.0...   \n",
       "3  http://images.amazon.com/images/P/0374157065.0...   \n",
       "4  http://images.amazon.com/images/P/0393045218.0...   \n",
       "\n",
       "                                         Image-URL-L  \n",
       "0  http://images.amazon.com/images/P/0195153448.0...  \n",
       "1  http://images.amazon.com/images/P/0002005018.0...  \n",
       "2  http://images.amazon.com/images/P/0060973129.0...  \n",
       "3  http://images.amazon.com/images/P/0374157065.0...  \n",
       "4  http://images.amazon.com/images/P/0393045218.0...  "
      ]
     },
     "execution_count": 3,
     "metadata": {},
     "output_type": "execute_result"
    }
   ],
   "source": [
    "#Loading data 'BX-Books.csv'\n",
    "df_books = pd.read_csv('BX-Books.csv',sep=';',encoding='unicode_escape', on_bad_lines='skip',low_memory=False)\n",
    "df_books.head()"
   ]
  },
  {
   "cell_type": "code",
   "execution_count": 4,
   "id": "0022f65f-e05c-4ab3-a934-09af0b3611d3",
   "metadata": {
    "tags": []
   },
   "outputs": [
    {
     "data": {
      "text/html": [
       "<div>\n",
       "<style scoped>\n",
       "    .dataframe tbody tr th:only-of-type {\n",
       "        vertical-align: middle;\n",
       "    }\n",
       "\n",
       "    .dataframe tbody tr th {\n",
       "        vertical-align: top;\n",
       "    }\n",
       "\n",
       "    .dataframe thead th {\n",
       "        text-align: right;\n",
       "    }\n",
       "</style>\n",
       "<table border=\"1\" class=\"dataframe\">\n",
       "  <thead>\n",
       "    <tr style=\"text-align: right;\">\n",
       "      <th></th>\n",
       "      <th>User-ID</th>\n",
       "      <th>Location</th>\n",
       "      <th>Age</th>\n",
       "    </tr>\n",
       "  </thead>\n",
       "  <tbody>\n",
       "    <tr>\n",
       "      <th>0</th>\n",
       "      <td>1</td>\n",
       "      <td>nyc, new york, usa</td>\n",
       "      <td>NaN</td>\n",
       "    </tr>\n",
       "    <tr>\n",
       "      <th>1</th>\n",
       "      <td>2</td>\n",
       "      <td>stockton, california, usa</td>\n",
       "      <td>18.0</td>\n",
       "    </tr>\n",
       "    <tr>\n",
       "      <th>2</th>\n",
       "      <td>3</td>\n",
       "      <td>moscow, yukon territory, russia</td>\n",
       "      <td>NaN</td>\n",
       "    </tr>\n",
       "    <tr>\n",
       "      <th>3</th>\n",
       "      <td>4</td>\n",
       "      <td>porto, v.n.gaia, portugal</td>\n",
       "      <td>17.0</td>\n",
       "    </tr>\n",
       "    <tr>\n",
       "      <th>4</th>\n",
       "      <td>5</td>\n",
       "      <td>farnborough, hants, united kingdom</td>\n",
       "      <td>NaN</td>\n",
       "    </tr>\n",
       "  </tbody>\n",
       "</table>\n",
       "</div>"
      ],
      "text/plain": [
       "   User-ID                            Location   Age\n",
       "0        1                  nyc, new york, usa   NaN\n",
       "1        2           stockton, california, usa  18.0\n",
       "2        3     moscow, yukon territory, russia   NaN\n",
       "3        4           porto, v.n.gaia, portugal  17.0\n",
       "4        5  farnborough, hants, united kingdom   NaN"
      ]
     },
     "execution_count": 4,
     "metadata": {},
     "output_type": "execute_result"
    }
   ],
   "source": [
    "#Loading data 'BX-Users.csv'\n",
    "df_users = pd.read_csv('BX-Users.csv',sep=';', encoding='unicode_escape')\n",
    "df_users.head()"
   ]
  },
  {
   "cell_type": "code",
   "execution_count": 5,
   "id": "154cadc1-7964-4cf9-9e59-131d8a058be4",
   "metadata": {
    "tags": []
   },
   "outputs": [
    {
     "name": "stdout",
     "output_type": "stream",
     "text": [
      "Books Data:     (271360, 8)\n",
      "Users Data:     (278858, 3)\n",
      "Books-ratings:  (1149780, 3)\n"
     ]
    }
   ],
   "source": [
    "print(\"Books Data:    \", df_books.shape)\n",
    "print(\"Users Data:    \", df_users.shape)\n",
    "print(\"Books-ratings: \", df_ratings.shape)"
   ]
  },
  {
   "cell_type": "markdown",
   "id": "16e7136c-13d7-471c-b387-2c670f58f1a6",
   "metadata": {
    "tags": []
   },
   "source": [
    "-------------------------------------------------------------"
   ]
  },
  {
   "cell_type": "markdown",
   "id": "95d31213-9ebe-4365-8e51-7442dd61e98c",
   "metadata": {},
   "source": [
    "$\\;\\;\\;\\;\\;\\;$\n",
    "## Data preprocessing⚒️\n"
   ]
  },
  {
   "cell_type": "markdown",
   "id": "b4784d8f-26e7-42a6-9281-e07829ed91ba",
   "metadata": {},
   "source": [
    "- #### df_books dataset preprocessing\n",
    "  - dropping unnecessary features 'Image-URL-S', 'Image-URL-M'\n",
    "  - adjusting columns 'Year-Of-Publication', 'Publisher', 'Year-Of-Publication', 'Book-Title'\n",
    "  - handling 'Year-Of-Publication' values\n",
    "  - removing special characters\n",
    "  - uppercasing letters in ISBN\n",
    "  - checking duplicates"
   ]
  },
  {
   "cell_type": "code",
   "execution_count": 6,
   "id": "30251263-5d50-480e-9dc8-4769bda84216",
   "metadata": {
    "tags": []
   },
   "outputs": [],
   "source": [
    "#dropping unnecessary features\n",
    "df_books.drop(['Image-URL-S', 'Image-URL-M'], axis=1, inplace=True)"
   ]
  },
  {
   "cell_type": "code",
   "execution_count": 7,
   "id": "6dca3b50-485b-49dc-ba20-f0160e26606e",
   "metadata": {
    "tags": []
   },
   "outputs": [
    {
     "data": {
      "text/plain": [
       "array(['2002', '2001', '1991', '1999', '2000', '1993', '1996', '1988',\n",
       "       '2004', '1998', '1994', '2003', '1997', '1983', '1979', '1995',\n",
       "       '1982', '1985', '1992', '1986', '1978', '1980', '1952', '1987',\n",
       "       '1990', '1981', '1989', '1984', '0', '1968', '1961', '1958',\n",
       "       '1974', '1976', '1971', '1977', '1975', '1965', '1941', '1970',\n",
       "       '1962', '1973', '1972', '1960', '1966', '1920', '1956', '1959',\n",
       "       '1953', '1951', '1942', '1963', '1964', '1969', '1954', '1950',\n",
       "       '1967', '2005', '1957', '1940', '1937', '1955', '1946', '1936',\n",
       "       '1930', '2011', '1925', '1948', '1943', '1947', '1945', '1923',\n",
       "       '2020', '1939', '1926', '1938', '2030', '1911', '1904', '1949',\n",
       "       '1932', '1928', '1929', '1927', '1931', '1914', '2050', '1934',\n",
       "       '1910', '1933', '1902', '1924', '1921', '1900', 'Canterbury Press',\n",
       "       '2038', '2026', '1944', '1917', '1901', '2010', '1908', '1906',\n",
       "       '1935', '1806', '2021', '2012', '2006', 'DK Publishing Inc',\n",
       "       'Gallimard', '1909', '2008', '1378', '1919', '1922', '1897',\n",
       "       '2024', '1376', '2037'], dtype=object)"
      ]
     },
     "execution_count": 7,
     "metadata": {},
     "output_type": "execute_result"
    }
   ],
   "source": [
    "#Looking at unique values\n",
    "df_books['Year-Of-Publication'].unique()"
   ]
  },
  {
   "cell_type": "code",
   "execution_count": 8,
   "id": "e2334fb2-2afa-4a9b-97b0-f9afd7721740",
   "metadata": {
    "tags": []
   },
   "outputs": [
    {
     "data": {
      "text/html": [
       "<div>\n",
       "<style scoped>\n",
       "    .dataframe tbody tr th:only-of-type {\n",
       "        vertical-align: middle;\n",
       "    }\n",
       "\n",
       "    .dataframe tbody tr th {\n",
       "        vertical-align: top;\n",
       "    }\n",
       "\n",
       "    .dataframe thead th {\n",
       "        text-align: right;\n",
       "    }\n",
       "</style>\n",
       "<table border=\"1\" class=\"dataframe\">\n",
       "  <thead>\n",
       "    <tr style=\"text-align: right;\">\n",
       "      <th></th>\n",
       "      <th>ISBN</th>\n",
       "      <th>Book-Title</th>\n",
       "      <th>Book-Author</th>\n",
       "      <th>Year-Of-Publication</th>\n",
       "      <th>Publisher</th>\n",
       "      <th>Image-URL-L</th>\n",
       "    </tr>\n",
       "  </thead>\n",
       "  <tbody>\n",
       "    <tr>\n",
       "      <th>209538</th>\n",
       "      <td>078946697X</td>\n",
       "      <td>DK Readers: Creating the X-Men, How It All Beg...</td>\n",
       "      <td>2000</td>\n",
       "      <td>DK Publishing Inc</td>\n",
       "      <td>http://images.amazon.com/images/P/078946697X.0...</td>\n",
       "      <td>NaN</td>\n",
       "    </tr>\n",
       "    <tr>\n",
       "      <th>221678</th>\n",
       "      <td>0789466953</td>\n",
       "      <td>DK Readers: Creating the X-Men, How Comic Book...</td>\n",
       "      <td>2000</td>\n",
       "      <td>DK Publishing Inc</td>\n",
       "      <td>http://images.amazon.com/images/P/0789466953.0...</td>\n",
       "      <td>NaN</td>\n",
       "    </tr>\n",
       "  </tbody>\n",
       "</table>\n",
       "</div>"
      ],
      "text/plain": [
       "              ISBN                                         Book-Title  \\\n",
       "209538  078946697X  DK Readers: Creating the X-Men, How It All Beg...   \n",
       "221678  0789466953  DK Readers: Creating the X-Men, How Comic Book...   \n",
       "\n",
       "       Book-Author Year-Of-Publication  \\\n",
       "209538        2000   DK Publishing Inc   \n",
       "221678        2000   DK Publishing Inc   \n",
       "\n",
       "                                                Publisher Image-URL-L  \n",
       "209538  http://images.amazon.com/images/P/078946697X.0...         NaN  \n",
       "221678  http://images.amazon.com/images/P/0789466953.0...         NaN  "
      ]
     },
     "execution_count": 8,
     "metadata": {},
     "output_type": "execute_result"
    }
   ],
   "source": [
    "df_books.loc[df_books['Year-Of-Publication'] == 'DK Publishing Inc',:]"
   ]
  },
  {
   "cell_type": "code",
   "execution_count": 9,
   "id": "27b9b183-cdc4-40da-8502-c73d1456b14e",
   "metadata": {
    "tags": []
   },
   "outputs": [
    {
     "data": {
      "text/plain": [
       "'DK Readers: Creating the X-Men, How Comic Books Come to Life (Level 4: Proficient Readers)\";James Buckley\"'"
      ]
     },
     "execution_count": 9,
     "metadata": {},
     "output_type": "execute_result"
    }
   ],
   "source": [
    "df_books.loc[221678]['Book-Title']"
   ]
  },
  {
   "cell_type": "code",
   "execution_count": 10,
   "id": "9a6ed661-b804-4cd4-9b67-63016486ee65",
   "metadata": {
    "tags": []
   },
   "outputs": [
    {
     "data": {
      "text/html": [
       "<div>\n",
       "<style scoped>\n",
       "    .dataframe tbody tr th:only-of-type {\n",
       "        vertical-align: middle;\n",
       "    }\n",
       "\n",
       "    .dataframe tbody tr th {\n",
       "        vertical-align: top;\n",
       "    }\n",
       "\n",
       "    .dataframe thead th {\n",
       "        text-align: right;\n",
       "    }\n",
       "</style>\n",
       "<table border=\"1\" class=\"dataframe\">\n",
       "  <thead>\n",
       "    <tr style=\"text-align: right;\">\n",
       "      <th></th>\n",
       "      <th>ISBN</th>\n",
       "      <th>Book-Title</th>\n",
       "      <th>Book-Author</th>\n",
       "      <th>Year-Of-Publication</th>\n",
       "      <th>Publisher</th>\n",
       "      <th>Image-URL-L</th>\n",
       "    </tr>\n",
       "  </thead>\n",
       "  <tbody>\n",
       "    <tr>\n",
       "      <th>220731</th>\n",
       "      <td>2070426769</td>\n",
       "      <td>Peuple du ciel, suivi de 'Les Bergers\";Jean-Ma...</td>\n",
       "      <td>2003</td>\n",
       "      <td>Gallimard</td>\n",
       "      <td>http://images.amazon.com/images/P/2070426769.0...</td>\n",
       "      <td>NaN</td>\n",
       "    </tr>\n",
       "  </tbody>\n",
       "</table>\n",
       "</div>"
      ],
      "text/plain": [
       "              ISBN                                         Book-Title  \\\n",
       "220731  2070426769  Peuple du ciel, suivi de 'Les Bergers\";Jean-Ma...   \n",
       "\n",
       "       Book-Author Year-Of-Publication  \\\n",
       "220731        2003           Gallimard   \n",
       "\n",
       "                                                Publisher Image-URL-L  \n",
       "220731  http://images.amazon.com/images/P/2070426769.0...         NaN  "
      ]
     },
     "execution_count": 10,
     "metadata": {},
     "output_type": "execute_result"
    }
   ],
   "source": [
    "df_books.loc[df_books['Year-Of-Publication'] == 'Gallimard',:]"
   ]
  },
  {
   "cell_type": "code",
   "execution_count": 136,
   "id": "6605756c-d954-4b98-9224-e4c0a247b46b",
   "metadata": {
    "tags": []
   },
   "outputs": [
    {
     "data": {
      "text/html": [
       "<div>\n",
       "<style scoped>\n",
       "    .dataframe tbody tr th:only-of-type {\n",
       "        vertical-align: middle;\n",
       "    }\n",
       "\n",
       "    .dataframe tbody tr th {\n",
       "        vertical-align: top;\n",
       "    }\n",
       "\n",
       "    .dataframe thead th {\n",
       "        text-align: right;\n",
       "    }\n",
       "</style>\n",
       "<table border=\"1\" class=\"dataframe\">\n",
       "  <thead>\n",
       "    <tr style=\"text-align: right;\">\n",
       "      <th></th>\n",
       "      <th>ISBN</th>\n",
       "      <th>Book-Title</th>\n",
       "      <th>Book-Author</th>\n",
       "      <th>Year-Of-Publication</th>\n",
       "      <th>Publisher</th>\n",
       "      <th>Image-URL-L</th>\n",
       "    </tr>\n",
       "  </thead>\n",
       "  <tbody>\n",
       "    <tr>\n",
       "      <th>766</th>\n",
       "      <td>0345339711</td>\n",
       "      <td>The Two Towers (The Lord of the Rings, Part 2)</td>\n",
       "      <td>J.R.R. TOLKIEN</td>\n",
       "      <td>1986</td>\n",
       "      <td>Del Rey</td>\n",
       "      <td>http://images.amazon.com/images/P/0345339711.0...</td>\n",
       "    </tr>\n",
       "    <tr>\n",
       "      <th>12661</th>\n",
       "      <td>0618002235</td>\n",
       "      <td>The Two Towers (The Lord of the Rings, Part 2)</td>\n",
       "      <td>J. R. R. Tolkien</td>\n",
       "      <td>1999</td>\n",
       "      <td>Houghton Mifflin Company</td>\n",
       "      <td>http://images.amazon.com/images/P/0618002235.0...</td>\n",
       "    </tr>\n",
       "    <tr>\n",
       "      <th>29949</th>\n",
       "      <td>0618260595</td>\n",
       "      <td>The Two Towers (The Lord of the Rings, Part 2)</td>\n",
       "      <td>J.R.R. Tolkien</td>\n",
       "      <td>2002</td>\n",
       "      <td>Houghton Mifflin</td>\n",
       "      <td>http://images.amazon.com/images/P/0618260595.0...</td>\n",
       "    </tr>\n",
       "    <tr>\n",
       "      <th>40550</th>\n",
       "      <td>0395489334</td>\n",
       "      <td>The Two Towers (The Lord of the Rings, Part 2)</td>\n",
       "      <td>J. R. R. Tolkien</td>\n",
       "      <td>1988</td>\n",
       "      <td>Houghton Mifflin Company</td>\n",
       "      <td>http://images.amazon.com/images/P/0395489334.0...</td>\n",
       "    </tr>\n",
       "    <tr>\n",
       "      <th>60348</th>\n",
       "      <td>0618129081</td>\n",
       "      <td>The Two Towers (The Lord of the Rings, Part 2)</td>\n",
       "      <td>J. R. R. Tolkien</td>\n",
       "      <td>2001</td>\n",
       "      <td>Houghton Mifflin Company</td>\n",
       "      <td>http://images.amazon.com/images/P/0618129081.0...</td>\n",
       "    </tr>\n",
       "    <tr>\n",
       "      <th>112774</th>\n",
       "      <td>039527222X</td>\n",
       "      <td>The Two Towers (The Lord of the Rings, Part 2)</td>\n",
       "      <td>J. R. R. Tolkien</td>\n",
       "      <td>1988</td>\n",
       "      <td>Houghton Mifflin</td>\n",
       "      <td>http://images.amazon.com/images/P/039527222X.0...</td>\n",
       "    </tr>\n",
       "    <tr>\n",
       "      <th>118317</th>\n",
       "      <td>0618260277</td>\n",
       "      <td>The Two Towers (The Lord of the Rings, Part 2)</td>\n",
       "      <td>J. R. R. Tolkien</td>\n",
       "      <td>2002</td>\n",
       "      <td>Houghton Mifflin Company</td>\n",
       "      <td>http://images.amazon.com/images/P/0618260277.0...</td>\n",
       "    </tr>\n",
       "    <tr>\n",
       "      <th>137104</th>\n",
       "      <td>0618346260</td>\n",
       "      <td>The Two Towers (The Lord of the Rings, Part 2)</td>\n",
       "      <td>J. R. R. Tolkien</td>\n",
       "      <td>2003</td>\n",
       "      <td>Houghton Mifflin Company</td>\n",
       "      <td>http://images.amazon.com/images/P/0618346260.0...</td>\n",
       "    </tr>\n",
       "    <tr>\n",
       "      <th>159699</th>\n",
       "      <td>0618153993</td>\n",
       "      <td>The Two Towers (The Lord of the Rings, Part 2)</td>\n",
       "      <td>J. R. R. Tolkien</td>\n",
       "      <td>2001</td>\n",
       "      <td>Houghton Mifflin Company</td>\n",
       "      <td>http://images.amazon.com/images/P/0618153993.0...</td>\n",
       "    </tr>\n",
       "    <tr>\n",
       "      <th>209086</th>\n",
       "      <td>0808520903</td>\n",
       "      <td>The Two Towers (The Lord of the Rings, Part 2)</td>\n",
       "      <td>J. R. R. Tolkien</td>\n",
       "      <td>1999</td>\n",
       "      <td>Sagebrush Bound</td>\n",
       "      <td>http://images.amazon.com/images/P/0808520903.0...</td>\n",
       "    </tr>\n",
       "    <tr>\n",
       "      <th>270855</th>\n",
       "      <td>0395647398</td>\n",
       "      <td>The Two Towers (The Lord of the Rings, Part 2)</td>\n",
       "      <td>J. R. R. Tolkien</td>\n",
       "      <td>1992</td>\n",
       "      <td>Houghton Mifflin</td>\n",
       "      <td>http://images.amazon.com/images/P/0395647398.0...</td>\n",
       "    </tr>\n",
       "  </tbody>\n",
       "</table>\n",
       "</div>"
      ],
      "text/plain": [
       "              ISBN                                      Book-Title  \\\n",
       "766     0345339711  The Two Towers (The Lord of the Rings, Part 2)   \n",
       "12661   0618002235  The Two Towers (The Lord of the Rings, Part 2)   \n",
       "29949   0618260595  The Two Towers (The Lord of the Rings, Part 2)   \n",
       "40550   0395489334  The Two Towers (The Lord of the Rings, Part 2)   \n",
       "60348   0618129081  The Two Towers (The Lord of the Rings, Part 2)   \n",
       "112774  039527222X  The Two Towers (The Lord of the Rings, Part 2)   \n",
       "118317  0618260277  The Two Towers (The Lord of the Rings, Part 2)   \n",
       "137104  0618346260  The Two Towers (The Lord of the Rings, Part 2)   \n",
       "159699  0618153993  The Two Towers (The Lord of the Rings, Part 2)   \n",
       "209086  0808520903  The Two Towers (The Lord of the Rings, Part 2)   \n",
       "270855  0395647398  The Two Towers (The Lord of the Rings, Part 2)   \n",
       "\n",
       "             Book-Author  Year-Of-Publication                 Publisher  \\\n",
       "766       J.R.R. TOLKIEN                 1986                   Del Rey   \n",
       "12661   J. R. R. Tolkien                 1999  Houghton Mifflin Company   \n",
       "29949     J.R.R. Tolkien                 2002          Houghton Mifflin   \n",
       "40550   J. R. R. Tolkien                 1988  Houghton Mifflin Company   \n",
       "60348   J. R. R. Tolkien                 2001  Houghton Mifflin Company   \n",
       "112774  J. R. R. Tolkien                 1988          Houghton Mifflin   \n",
       "118317  J. R. R. Tolkien                 2002  Houghton Mifflin Company   \n",
       "137104  J. R. R. Tolkien                 2003  Houghton Mifflin Company   \n",
       "159699  J. R. R. Tolkien                 2001  Houghton Mifflin Company   \n",
       "209086  J. R. R. Tolkien                 1999           Sagebrush Bound   \n",
       "270855  J. R. R. Tolkien                 1992          Houghton Mifflin   \n",
       "\n",
       "                                              Image-URL-L  \n",
       "766     http://images.amazon.com/images/P/0345339711.0...  \n",
       "12661   http://images.amazon.com/images/P/0618002235.0...  \n",
       "29949   http://images.amazon.com/images/P/0618260595.0...  \n",
       "40550   http://images.amazon.com/images/P/0395489334.0...  \n",
       "60348   http://images.amazon.com/images/P/0618129081.0...  \n",
       "112774  http://images.amazon.com/images/P/039527222X.0...  \n",
       "118317  http://images.amazon.com/images/P/0618260277.0...  \n",
       "137104  http://images.amazon.com/images/P/0618346260.0...  \n",
       "159699  http://images.amazon.com/images/P/0618153993.0...  \n",
       "209086  http://images.amazon.com/images/P/0808520903.0...  \n",
       "270855  http://images.amazon.com/images/P/0395647398.0...  "
      ]
     },
     "execution_count": 136,
     "metadata": {},
     "output_type": "execute_result"
    }
   ],
   "source": [
    "df_books.loc[df_books['Book-Title'] == 'The Two Towers (The Lord of the Rings, Part 2)',:]\n",
    "             "
   ]
  },
  {
   "cell_type": "code",
   "execution_count": 142,
   "id": "345505e1-5ead-4119-b05a-b22924d39d26",
   "metadata": {
    "tags": []
   },
   "outputs": [
    {
     "data": {
      "text/html": [
       "<div>\n",
       "<style scoped>\n",
       "    .dataframe tbody tr th:only-of-type {\n",
       "        vertical-align: middle;\n",
       "    }\n",
       "\n",
       "    .dataframe tbody tr th {\n",
       "        vertical-align: top;\n",
       "    }\n",
       "\n",
       "    .dataframe thead th {\n",
       "        text-align: right;\n",
       "    }\n",
       "</style>\n",
       "<table border=\"1\" class=\"dataframe\">\n",
       "  <thead>\n",
       "    <tr style=\"text-align: right;\">\n",
       "      <th></th>\n",
       "      <th>title</th>\n",
       "      <th>description</th>\n",
       "      <th>gender</th>\n",
       "      <th>num_pages</th>\n",
       "      <th>editorial</th>\n",
       "      <th>ISBN</th>\n",
       "      <th>year_edition</th>\n",
       "      <th>date_edition</th>\n",
       "      <th>writer</th>\n",
       "      <th>image</th>\n",
       "    </tr>\n",
       "  </thead>\n",
       "  <tbody>\n",
       "  </tbody>\n",
       "</table>\n",
       "</div>"
      ],
      "text/plain": [
       "Empty DataFrame\n",
       "Columns: [title, description, gender, num_pages, editorial, ISBN, year_edition, date_edition, writer, image]\n",
       "Index: []"
      ]
     },
     "execution_count": 142,
     "metadata": {},
     "output_type": "execute_result"
    }
   ],
   "source": [
    "df_books_more.loc[df_books_more['writer'] == 'Tolkien',:]"
   ]
  },
  {
   "cell_type": "code",
   "execution_count": 11,
   "id": "c945c106-51c9-42d4-b196-1bdbe24de3a5",
   "metadata": {
    "tags": []
   },
   "outputs": [],
   "source": [
    "#Adjusting column values\n",
    "df_books.at[209538 ,'Publisher'] = 'DK Publishing Inc'\n",
    "df_books.at[209538 ,'Year-Of-Publication'] = 2000\n",
    "df_books.at[209538 ,'Book-Title'] = 'DK Readers: Creating the X-Men, How It All Began (Level 4: Proficient Readers)'\n",
    "df_books.at[209538 ,'Book-Author'] = 'Michael Teitelbaum'\n",
    "\n",
    "df_books.at[220731 ,'Publisher'] = 'Gallimard'\n",
    "df_books.at[220731 ,'Year-Of-Publication'] = '2003'\n",
    "df_books.at[209538 ,'Book-Title'] = 'Peuple du ciel, suivi de \\'Les Bergers'\n",
    "df_books.at[209538 ,'Book-Author'] = 'Jean-Marie Gustave Le ClÃ?Â©zio'\n",
    "\n",
    "df_books.at[221678 ,'Publisher'] = 'DK Publishing Inc'\n",
    "df_books.at[221678 ,'Year-Of-Publication'] = 2000\n",
    "df_books.at[221678 ,'Book-Title'] = 'DK Readers: Creating the X-Men, How Comic Books Come to Life (Level 4: Proficient Readers)'\n",
    "df_books.at[209538 ,'Book-Title'] = 'DK Readers: Creating the X-Men, How It All Began (Level 4: Proficient Readers)'\n",
    "df_books.at[209538 ,'Book-Author'] = 'James Buckley'\n",
    "\n",
    "df_books.at[112275 ,'Book-Author'] = 'Ron'\n",
    "df_books.at[112275 ,'Year-Of-Publication'] = 2001\n",
    "df_books.at[112275 ,'Publisher'] = 'Canterbury Press'"
   ]
  },
  {
   "cell_type": "code",
   "execution_count": 12,
   "id": "88c984bb-261e-4a83-a8f5-1747d9598b1c",
   "metadata": {
    "tags": []
   },
   "outputs": [
    {
     "data": {
      "text/plain": [
       "array(['2002', '2001', '1991', '1999', '2000', '1993', '1996', '1988',\n",
       "       '2004', '1998', '1994', '2003', '1997', '1983', '1979', '1995',\n",
       "       '1982', '1985', '1992', '1986', '1978', '1980', '1952', '1987',\n",
       "       '1990', '1981', '1989', '1984', '0', '1968', '1961', '1958',\n",
       "       '1974', '1976', '1971', '1977', '1975', '1965', '1941', '1970',\n",
       "       '1962', '1973', '1972', '1960', '1966', '1920', '1956', '1959',\n",
       "       '1953', '1951', '1942', '1963', '1964', '1969', '1954', '1950',\n",
       "       '1967', '2005', '1957', '1940', '1937', '1955', '1946', '1936',\n",
       "       '1930', '2011', '1925', '1948', '1943', '1947', '1945', '1923',\n",
       "       '2020', '1939', '1926', '1938', '2030', '1911', '1904', '1949',\n",
       "       '1932', '1928', '1929', '1927', '1931', '1914', '2050', '1934',\n",
       "       '1910', '1933', '1902', '1924', '1921', '1900', 2001, '2038',\n",
       "       '2026', '1944', '1917', '1901', '2010', '1908', '1906', '1935',\n",
       "       '1806', '2021', '2012', '2006', 2000, '1909', '2008', '1378',\n",
       "       '1919', '1922', '1897', '2024', '1376', '2037'], dtype=object)"
      ]
     },
     "execution_count": 12,
     "metadata": {},
     "output_type": "execute_result"
    }
   ],
   "source": [
    "#Looking at Year-of-Publication unique values \n",
    "df_books['Year-Of-Publication'].unique()"
   ]
  },
  {
   "cell_type": "code",
   "execution_count": 13,
   "id": "58afedc9-e100-4ec7-b488-eecec7141424",
   "metadata": {
    "tags": []
   },
   "outputs": [
    {
     "name": "stdout",
     "output_type": "stream",
     "text": [
      "object\n"
     ]
    }
   ],
   "source": [
    "#Data type object\n",
    "print(df_books['Year-Of-Publication'].dtypes)"
   ]
  },
  {
   "cell_type": "code",
   "execution_count": 14,
   "id": "0cc6bff4-9c40-4863-91b9-e14341b28594",
   "metadata": {
    "tags": []
   },
   "outputs": [],
   "source": [
    "#Converting year of publication to int\n",
    "df_books['Year-Of-Publication'] = df_books['Year-Of-Publication'].astype(int)"
   ]
  },
  {
   "cell_type": "code",
   "execution_count": 15,
   "id": "e9b9c034-6fc9-4818-bec2-9058e511afc4",
   "metadata": {
    "tags": []
   },
   "outputs": [
    {
     "name": "stdout",
     "output_type": "stream",
     "text": [
      "[0, 1376, 1378, 1806, 1897, 1900, 1901, 1902, 1904, 1906, 1908, 1909, 1910, 1911, 1914, 1917, 1919, 1920, 1921, 1922, 1923, 1924, 1925, 1926, 1927, 1928, 1929, 1930, 1931, 1932, 1933, 1934, 1935, 1936, 1937, 1938, 1939, 1940, 1941, 1942, 1943, 1944, 1945, 1946, 1947, 1948, 1949, 1950, 1951, 1952, 1953, 1954, 1955, 1956, 1957, 1958, 1959, 1960, 1961, 1962, 1963, 1964, 1965, 1966, 1967, 1968, 1969, 1970, 1971, 1972, 1973, 1974, 1975, 1976, 1977, 1978, 1979, 1980, 1981, 1982, 1983, 1984, 1985, 1986, 1987, 1988, 1989, 1990, 1991, 1992, 1993, 1994, 1995, 1996, 1997, 1998, 1999, 2000, 2001, 2002, 2003, 2004, 2005, 2006, 2008, 2010, 2011, 2012, 2020, 2021, 2024, 2026, 2030, 2037, 2038, 2050]\n"
     ]
    }
   ],
   "source": [
    "#Looking at Year-Of-Publication\n",
    "print(sorted(list(df_books['Year-Of-Publication'].unique())))"
   ]
  },
  {
   "cell_type": "code",
   "execution_count": 16,
   "id": "ed82d1f8-ddcd-423e-929b-6ffabfb0e278",
   "metadata": {
    "tags": []
   },
   "outputs": [
    {
     "data": {
      "text/plain": [
       "0    2002\n",
       "Name: Year-Of-Publication, dtype: int32"
      ]
     },
     "execution_count": 16,
     "metadata": {},
     "output_type": "execute_result"
    }
   ],
   "source": [
    "df_books['Year-Of-Publication'].mode()"
   ]
  },
  {
   "cell_type": "code",
   "execution_count": 17,
   "id": "b448aa2f-edb3-484d-b802-5da29f39d7da",
   "metadata": {
    "tags": []
   },
   "outputs": [],
   "source": [
    "df_books.loc[df_books['Year-Of-Publication'] == 0, 'Year-Of-Publication'] = 2002\n",
    "df_books.loc[df_books['Year-Of-Publication'] > 2023, 'Year-Of-Publication'] = 2002"
   ]
  },
  {
   "cell_type": "code",
   "execution_count": 18,
   "id": "b4c6b08e-ad39-44e4-9f56-24b8fa2b89bc",
   "metadata": {
    "tags": []
   },
   "outputs": [],
   "source": [
    "#Removing special characters\n",
    "df_books['ISBN'] = df_books['ISBN'].str.replace('\\W', '', regex=True)"
   ]
  },
  {
   "cell_type": "code",
   "execution_count": 19,
   "id": "a5285284-ab42-4e4d-ad47-311ffb8ee57a",
   "metadata": {
    "tags": []
   },
   "outputs": [],
   "source": [
    "#Uppercasing all alphabets in ISBN\n",
    "df_books['ISBN'] = df_books['ISBN'].str.upper()"
   ]
  },
  {
   "cell_type": "code",
   "execution_count": 20,
   "id": "006f554c-80d8-461a-89d6-c3583e22feb5",
   "metadata": {
    "tags": []
   },
   "outputs": [
    {
     "data": {
      "text/plain": [
       "(271360, 6)"
      ]
     },
     "execution_count": 20,
     "metadata": {},
     "output_type": "execute_result"
    }
   ],
   "source": [
    "df_books.shape"
   ]
  },
  {
   "cell_type": "code",
   "execution_count": 21,
   "id": "d00f510e-1bf1-47e1-9b74-b00af254b588",
   "metadata": {
    "tags": []
   },
   "outputs": [],
   "source": [
    "## Drop duplicate rows\n",
    "df_books.drop_duplicates(keep='last', inplace=True)\n",
    "df_books.reset_index(drop=True, inplace=True)"
   ]
  },
  {
   "cell_type": "code",
   "execution_count": 22,
   "id": "2a04bea1-6f5b-46d6-aa70-4a4351a04090",
   "metadata": {
    "tags": []
   },
   "outputs": [
    {
     "data": {
      "text/plain": [
       "(271046, 6)"
      ]
     },
     "execution_count": 22,
     "metadata": {},
     "output_type": "execute_result"
    }
   ],
   "source": [
    "df_books.shape"
   ]
  },
  {
   "cell_type": "markdown",
   "id": "1b4b0c3c-da06-4eb0-bb3f-fa1e337252e6",
   "metadata": {},
   "source": [
    "- #### df_users dataset preprocessing\n",
    "  - creating new columns based on 'Location' column -> City, State, Country \n",
    "  - filtering age values\n",
    "  - replacing NaN values with mean\n",
    "  - dropping duplicates\n"
   ]
  },
  {
   "cell_type": "code",
   "execution_count": 23,
   "id": "451e7718-a7ba-42a5-b6cc-208d38297cc5",
   "metadata": {
    "tags": []
   },
   "outputs": [
    {
     "data": {
      "text/html": [
       "<div>\n",
       "<style scoped>\n",
       "    .dataframe tbody tr th:only-of-type {\n",
       "        vertical-align: middle;\n",
       "    }\n",
       "\n",
       "    .dataframe tbody tr th {\n",
       "        vertical-align: top;\n",
       "    }\n",
       "\n",
       "    .dataframe thead th {\n",
       "        text-align: right;\n",
       "    }\n",
       "</style>\n",
       "<table border=\"1\" class=\"dataframe\">\n",
       "  <thead>\n",
       "    <tr style=\"text-align: right;\">\n",
       "      <th></th>\n",
       "      <th>User-ID</th>\n",
       "      <th>Location</th>\n",
       "      <th>Age</th>\n",
       "    </tr>\n",
       "  </thead>\n",
       "  <tbody>\n",
       "    <tr>\n",
       "      <th>0</th>\n",
       "      <td>1</td>\n",
       "      <td>nyc, new york, usa</td>\n",
       "      <td>NaN</td>\n",
       "    </tr>\n",
       "    <tr>\n",
       "      <th>1</th>\n",
       "      <td>2</td>\n",
       "      <td>stockton, california, usa</td>\n",
       "      <td>18.0</td>\n",
       "    </tr>\n",
       "    <tr>\n",
       "      <th>2</th>\n",
       "      <td>3</td>\n",
       "      <td>moscow, yukon territory, russia</td>\n",
       "      <td>NaN</td>\n",
       "    </tr>\n",
       "    <tr>\n",
       "      <th>3</th>\n",
       "      <td>4</td>\n",
       "      <td>porto, v.n.gaia, portugal</td>\n",
       "      <td>17.0</td>\n",
       "    </tr>\n",
       "    <tr>\n",
       "      <th>4</th>\n",
       "      <td>5</td>\n",
       "      <td>farnborough, hants, united kingdom</td>\n",
       "      <td>NaN</td>\n",
       "    </tr>\n",
       "    <tr>\n",
       "      <th>5</th>\n",
       "      <td>6</td>\n",
       "      <td>santa monica, california, usa</td>\n",
       "      <td>61.0</td>\n",
       "    </tr>\n",
       "    <tr>\n",
       "      <th>6</th>\n",
       "      <td>7</td>\n",
       "      <td>washington, dc, usa</td>\n",
       "      <td>NaN</td>\n",
       "    </tr>\n",
       "    <tr>\n",
       "      <th>7</th>\n",
       "      <td>8</td>\n",
       "      <td>timmins, ontario, canada</td>\n",
       "      <td>NaN</td>\n",
       "    </tr>\n",
       "    <tr>\n",
       "      <th>8</th>\n",
       "      <td>9</td>\n",
       "      <td>germantown, tennessee, usa</td>\n",
       "      <td>NaN</td>\n",
       "    </tr>\n",
       "    <tr>\n",
       "      <th>9</th>\n",
       "      <td>10</td>\n",
       "      <td>albacete, wisconsin, spain</td>\n",
       "      <td>26.0</td>\n",
       "    </tr>\n",
       "  </tbody>\n",
       "</table>\n",
       "</div>"
      ],
      "text/plain": [
       "   User-ID                            Location   Age\n",
       "0        1                  nyc, new york, usa   NaN\n",
       "1        2           stockton, california, usa  18.0\n",
       "2        3     moscow, yukon territory, russia   NaN\n",
       "3        4           porto, v.n.gaia, portugal  17.0\n",
       "4        5  farnborough, hants, united kingdom   NaN\n",
       "5        6       santa monica, california, usa  61.0\n",
       "6        7                 washington, dc, usa   NaN\n",
       "7        8            timmins, ontario, canada   NaN\n",
       "8        9          germantown, tennessee, usa   NaN\n",
       "9       10          albacete, wisconsin, spain  26.0"
      ]
     },
     "execution_count": 23,
     "metadata": {},
     "output_type": "execute_result"
    }
   ],
   "source": [
    "df_users.head(10)"
   ]
  },
  {
   "cell_type": "code",
   "execution_count": 24,
   "id": "0fecce01-46e0-4529-989f-1a1a77f9e2a3",
   "metadata": {
    "tags": []
   },
   "outputs": [],
   "source": [
    "#Creating 3 new columns 'City', 'State', 'Country'\n",
    "list_ = df_users.Location.str.split(', ')\n",
    "\n",
    "city = []\n",
    "state = []\n",
    "country = []\n",
    "count_no_state = 0    \n",
    "count_no_country = 0\n",
    "\n",
    "for i in range(0,len(list_)):\n",
    "    if list_[i][0] == ' ' or list_[i][0] == '' or list_[i][0]=='n/a' or list_[i][0] == ',':  #removing invalid entries too\n",
    "        city.append('other')\n",
    "    else:\n",
    "        city.append(list_[i][0].lower())\n",
    "\n",
    "    if(len(list_[i])<2):\n",
    "        state.append('other')\n",
    "        country.append('other')\n",
    "        count_no_state += 1\n",
    "        count_no_country += 1\n",
    "    else:\n",
    "        if list_[i][1] == ' ' or list_[i][1] == '' or list_[i][1]=='n/a' or list_[i][1] == ',':   #removing invalid entries \n",
    "            state.append('other')\n",
    "            count_no_state += 1            \n",
    "        else:\n",
    "            state.append(list_[i][1].lower())\n",
    "        \n",
    "        if(len(list_[i])<3):\n",
    "            country.append('other')\n",
    "            count_no_country += 1\n",
    "        else:\n",
    "            if list_[i][2] == ''or list_[i][1] == ',' or list_[i][2] == ' ' or list_[i][2] == 'n/a':\n",
    "                country.append('other')\n",
    "                count_no_country += 1\n",
    "            else:\n",
    "                country.append(list_[i][2].lower())\n",
    "        \n",
    "df_users = df_users.drop('Location',axis=1)\n",
    "\n",
    "temp = []\n",
    "for ent in city:\n",
    "    c = ent.split('/')            #Handling cases where city/state entries from city list as state is already given \n",
    "    temp.append(c[0])\n",
    "\n",
    "df_city = pd.DataFrame(temp,columns=['City'])\n",
    "df_state = pd.DataFrame(state,columns=['State'])\n",
    "df_country = pd.DataFrame(country,columns=['Country'])\n",
    "\n",
    "df_users = pd.concat([df_users, df_city], axis=1)\n",
    "df_users = pd.concat([df_users, df_state], axis=1)\n",
    "df_users = pd.concat([df_users, df_country], axis=1)"
   ]
  },
  {
   "cell_type": "code",
   "execution_count": 25,
   "id": "00e0e336-acd1-49eb-bd05-a4738d121270",
   "metadata": {
    "tags": []
   },
   "outputs": [
    {
     "data": {
      "text/html": [
       "<div>\n",
       "<style scoped>\n",
       "    .dataframe tbody tr th:only-of-type {\n",
       "        vertical-align: middle;\n",
       "    }\n",
       "\n",
       "    .dataframe tbody tr th {\n",
       "        vertical-align: top;\n",
       "    }\n",
       "\n",
       "    .dataframe thead th {\n",
       "        text-align: right;\n",
       "    }\n",
       "</style>\n",
       "<table border=\"1\" class=\"dataframe\">\n",
       "  <thead>\n",
       "    <tr style=\"text-align: right;\">\n",
       "      <th></th>\n",
       "      <th>User-ID</th>\n",
       "      <th>Age</th>\n",
       "      <th>City</th>\n",
       "      <th>State</th>\n",
       "      <th>Country</th>\n",
       "    </tr>\n",
       "  </thead>\n",
       "  <tbody>\n",
       "    <tr>\n",
       "      <th>0</th>\n",
       "      <td>1</td>\n",
       "      <td>NaN</td>\n",
       "      <td>nyc</td>\n",
       "      <td>new york</td>\n",
       "      <td>usa</td>\n",
       "    </tr>\n",
       "    <tr>\n",
       "      <th>1</th>\n",
       "      <td>2</td>\n",
       "      <td>18.0</td>\n",
       "      <td>stockton</td>\n",
       "      <td>california</td>\n",
       "      <td>usa</td>\n",
       "    </tr>\n",
       "    <tr>\n",
       "      <th>2</th>\n",
       "      <td>3</td>\n",
       "      <td>NaN</td>\n",
       "      <td>moscow</td>\n",
       "      <td>yukon territory</td>\n",
       "      <td>russia</td>\n",
       "    </tr>\n",
       "    <tr>\n",
       "      <th>3</th>\n",
       "      <td>4</td>\n",
       "      <td>17.0</td>\n",
       "      <td>porto</td>\n",
       "      <td>v.n.gaia</td>\n",
       "      <td>portugal</td>\n",
       "    </tr>\n",
       "    <tr>\n",
       "      <th>4</th>\n",
       "      <td>5</td>\n",
       "      <td>NaN</td>\n",
       "      <td>farnborough</td>\n",
       "      <td>hants</td>\n",
       "      <td>united kingdom</td>\n",
       "    </tr>\n",
       "  </tbody>\n",
       "</table>\n",
       "</div>"
      ],
      "text/plain": [
       "   User-ID   Age         City            State         Country\n",
       "0        1   NaN          nyc         new york             usa\n",
       "1        2  18.0     stockton       california             usa\n",
       "2        3   NaN       moscow  yukon territory          russia\n",
       "3        4  17.0        porto         v.n.gaia        portugal\n",
       "4        5   NaN  farnborough            hants  united kingdom"
      ]
     },
     "execution_count": 25,
     "metadata": {},
     "output_type": "execute_result"
    }
   ],
   "source": [
    "df_users.head()"
   ]
  },
  {
   "cell_type": "code",
   "execution_count": 26,
   "id": "c8d1c656-3a5a-406f-9eac-2c3ce91f84f8",
   "metadata": {
    "tags": []
   },
   "outputs": [
    {
     "name": "stdout",
     "output_type": "stream",
     "text": [
      "[nan, 0.0, 1.0, 2.0, 3.0, 4.0, 5.0, 6.0, 7.0, 8.0, 9.0, 10.0, 11.0, 12.0, 13.0, 14.0, 15.0, 16.0, 17.0, 18.0, 19.0, 20.0, 21.0, 22.0, 23.0, 24.0, 25.0, 26.0, 27.0, 28.0, 29.0, 30.0, 31.0, 32.0, 33.0, 34.0, 35.0, 36.0, 37.0, 38.0, 39.0, 40.0, 41.0, 42.0, 43.0, 44.0, 45.0, 46.0, 47.0, 48.0, 49.0, 50.0, 51.0, 52.0, 53.0, 54.0, 55.0, 56.0, 57.0, 58.0, 59.0, 60.0, 61.0, 62.0, 63.0, 64.0, 65.0, 66.0, 67.0, 68.0, 69.0, 70.0, 71.0, 72.0, 73.0, 74.0, 75.0, 76.0, 77.0, 78.0, 79.0, 80.0, 81.0, 82.0, 83.0, 84.0, 85.0, 86.0, 87.0, 88.0, 89.0, 90.0, 91.0, 92.0, 93.0, 94.0, 95.0, 96.0, 97.0, 98.0, 99.0, 100.0, 101.0, 102.0, 103.0, 104.0, 105.0, 106.0, 107.0, 108.0, 109.0, 110.0, 111.0, 113.0, 114.0, 115.0, 116.0, 118.0, 119.0, 123.0, 124.0, 127.0, 128.0, 132.0, 133.0, 136.0, 137.0, 138.0, 140.0, 141.0, 143.0, 146.0, 147.0, 148.0, 151.0, 152.0, 156.0, 157.0, 159.0, 162.0, 168.0, 172.0, 175.0, 183.0, 186.0, 189.0, 199.0, 200.0, 201.0, 204.0, 207.0, 208.0, 209.0, 210.0, 212.0, 219.0, 220.0, 223.0, 226.0, 228.0, 229.0, 230.0, 231.0, 237.0, 239.0, 244.0]\n"
     ]
    }
   ],
   "source": [
    "## Check for all values present in Age column\n",
    "print(sorted(list(df_users['Age'].unique())))"
   ]
  },
  {
   "cell_type": "code",
   "execution_count": 27,
   "id": "18c20b83-b1b4-44c7-938c-5f730315e079",
   "metadata": {
    "tags": []
   },
   "outputs": [
    {
     "data": {
      "text/plain": [
       "35"
      ]
     },
     "execution_count": 27,
     "metadata": {},
     "output_type": "execute_result"
    }
   ],
   "source": [
    "#Selecting upper and lower boundary\n",
    "upper_boundary = df_users[df_users['Age'] <= 100]\n",
    "lower_boundary = upper_boundary[upper_boundary['Age'] >= 9]\n",
    "\n",
    "#Looking at the mean age value\n",
    "mean_value = round(lower_boundary['Age'].mean())   \n",
    "mean_value"
   ]
  },
  {
   "cell_type": "code",
   "execution_count": 28,
   "id": "b0192a75-3b2a-4665-8b10-92c540f6028c",
   "metadata": {
    "tags": []
   },
   "outputs": [],
   "source": [
    "df_users.loc[df_users['Age'] > 100, 'Age'] = mean_value    #outliers with age grater than 100 are substituted with mean \n",
    "df_users.loc[df_users['Age'] < 9, 'Age'] = mean_value    #outliers with age less than 9 years are substitued with mean\n",
    "df_users['Age'] = df_users['Age'].fillna(mean_value)      #filling null values with mean\n",
    "df_users['Age'] = df_users['Age'].astype(int)       #changing Datatype to int"
   ]
  },
  {
   "cell_type": "code",
   "execution_count": 29,
   "id": "5f87f145-e5f4-4ed2-b436-58ec790063c6",
   "metadata": {
    "tags": []
   },
   "outputs": [
    {
     "data": {
      "text/plain": [
       "(278858, 5)"
      ]
     },
     "execution_count": 29,
     "metadata": {},
     "output_type": "execute_result"
    }
   ],
   "source": [
    "df_users.shape"
   ]
  },
  {
   "cell_type": "code",
   "execution_count": 30,
   "id": "420e3715-575d-4bba-9f41-912018b317f1",
   "metadata": {
    "tags": []
   },
   "outputs": [],
   "source": [
    "## Drop duplicate rows\n",
    "df_users.drop_duplicates(keep='last', inplace=True)\n",
    "df_users.reset_index(drop=True, inplace=True)"
   ]
  },
  {
   "cell_type": "code",
   "execution_count": 31,
   "id": "efe4491e-73fc-4775-8dea-e79a7cf89d94",
   "metadata": {
    "tags": []
   },
   "outputs": [
    {
     "data": {
      "text/plain": [
       "(278858, 5)"
      ]
     },
     "execution_count": 31,
     "metadata": {},
     "output_type": "execute_result"
    }
   ],
   "source": [
    "df_users.shape"
   ]
  },
  {
   "cell_type": "markdown",
   "id": "c4cc81f0-12f5-482b-908d-361dd3c4e15e",
   "metadata": {},
   "source": [
    "* #### df_ratings preprocessing\n",
    "  - removing special characters\n",
    "  - uppercasing all alphabets in ISBN\n",
    "  - dropping duplicates"
   ]
  },
  {
   "cell_type": "code",
   "execution_count": 32,
   "id": "2bdfa9bb-c981-4e6d-bfce-8922589e16cf",
   "metadata": {
    "tags": []
   },
   "outputs": [
    {
     "data": {
      "text/html": [
       "<div>\n",
       "<style scoped>\n",
       "    .dataframe tbody tr th:only-of-type {\n",
       "        vertical-align: middle;\n",
       "    }\n",
       "\n",
       "    .dataframe tbody tr th {\n",
       "        vertical-align: top;\n",
       "    }\n",
       "\n",
       "    .dataframe thead th {\n",
       "        text-align: right;\n",
       "    }\n",
       "</style>\n",
       "<table border=\"1\" class=\"dataframe\">\n",
       "  <thead>\n",
       "    <tr style=\"text-align: right;\">\n",
       "      <th></th>\n",
       "      <th>User-ID</th>\n",
       "      <th>ISBN</th>\n",
       "      <th>Book-Rating</th>\n",
       "    </tr>\n",
       "  </thead>\n",
       "  <tbody>\n",
       "    <tr>\n",
       "      <th>0</th>\n",
       "      <td>276725</td>\n",
       "      <td>034545104X</td>\n",
       "      <td>0</td>\n",
       "    </tr>\n",
       "    <tr>\n",
       "      <th>1</th>\n",
       "      <td>276726</td>\n",
       "      <td>0155061224</td>\n",
       "      <td>5</td>\n",
       "    </tr>\n",
       "    <tr>\n",
       "      <th>2</th>\n",
       "      <td>276727</td>\n",
       "      <td>0446520802</td>\n",
       "      <td>0</td>\n",
       "    </tr>\n",
       "    <tr>\n",
       "      <th>3</th>\n",
       "      <td>276729</td>\n",
       "      <td>052165615X</td>\n",
       "      <td>3</td>\n",
       "    </tr>\n",
       "    <tr>\n",
       "      <th>4</th>\n",
       "      <td>276729</td>\n",
       "      <td>0521795028</td>\n",
       "      <td>6</td>\n",
       "    </tr>\n",
       "  </tbody>\n",
       "</table>\n",
       "</div>"
      ],
      "text/plain": [
       "   User-ID        ISBN  Book-Rating\n",
       "0   276725  034545104X            0\n",
       "1   276726  0155061224            5\n",
       "2   276727  0446520802            0\n",
       "3   276729  052165615X            3\n",
       "4   276729  0521795028            6"
      ]
     },
     "execution_count": 32,
     "metadata": {},
     "output_type": "execute_result"
    }
   ],
   "source": [
    "df_ratings.head()"
   ]
  },
  {
   "cell_type": "code",
   "execution_count": 33,
   "id": "d9fb0efd-6b42-4c33-93ce-e6e0b9589976",
   "metadata": {
    "tags": []
   },
   "outputs": [
    {
     "data": {
      "text/plain": [
       "User-ID         int64\n",
       "ISBN           object\n",
       "Book-Rating     int64\n",
       "dtype: object"
      ]
     },
     "execution_count": 33,
     "metadata": {},
     "output_type": "execute_result"
    }
   ],
   "source": [
    "df_ratings.dtypes"
   ]
  },
  {
   "cell_type": "code",
   "execution_count": 34,
   "id": "b31de100-c30b-40d7-ab80-927e2849cdd4",
   "metadata": {
    "tags": []
   },
   "outputs": [],
   "source": [
    "#Removing special characters\n",
    "df_ratings['ISBN'] = df_ratings['ISBN'].str.replace('\\W', '', regex=True)"
   ]
  },
  {
   "cell_type": "code",
   "execution_count": 35,
   "id": "a11f9663-dab6-4430-8c2c-553c4d91ec49",
   "metadata": {
    "tags": []
   },
   "outputs": [],
   "source": [
    "## Uppercasing all alphabets in ISBN\n",
    "df_ratings['ISBN'] = df_ratings['ISBN'].str.upper()"
   ]
  },
  {
   "cell_type": "code",
   "execution_count": 36,
   "id": "cbb3a8d8-fb07-4489-af92-9c6118e78020",
   "metadata": {
    "tags": []
   },
   "outputs": [
    {
     "data": {
      "text/html": [
       "<div>\n",
       "<style scoped>\n",
       "    .dataframe tbody tr th:only-of-type {\n",
       "        vertical-align: middle;\n",
       "    }\n",
       "\n",
       "    .dataframe tbody tr th {\n",
       "        vertical-align: top;\n",
       "    }\n",
       "\n",
       "    .dataframe thead th {\n",
       "        text-align: right;\n",
       "    }\n",
       "</style>\n",
       "<table border=\"1\" class=\"dataframe\">\n",
       "  <thead>\n",
       "    <tr style=\"text-align: right;\">\n",
       "      <th></th>\n",
       "      <th>User-ID</th>\n",
       "      <th>ISBN</th>\n",
       "      <th>Book-Rating</th>\n",
       "    </tr>\n",
       "  </thead>\n",
       "  <tbody>\n",
       "    <tr>\n",
       "      <th>0</th>\n",
       "      <td>276725</td>\n",
       "      <td>034545104X</td>\n",
       "      <td>0</td>\n",
       "    </tr>\n",
       "    <tr>\n",
       "      <th>1</th>\n",
       "      <td>276726</td>\n",
       "      <td>0155061224</td>\n",
       "      <td>5</td>\n",
       "    </tr>\n",
       "    <tr>\n",
       "      <th>2</th>\n",
       "      <td>276727</td>\n",
       "      <td>0446520802</td>\n",
       "      <td>0</td>\n",
       "    </tr>\n",
       "    <tr>\n",
       "      <th>3</th>\n",
       "      <td>276729</td>\n",
       "      <td>052165615X</td>\n",
       "      <td>3</td>\n",
       "    </tr>\n",
       "    <tr>\n",
       "      <th>4</th>\n",
       "      <td>276729</td>\n",
       "      <td>0521795028</td>\n",
       "      <td>6</td>\n",
       "    </tr>\n",
       "  </tbody>\n",
       "</table>\n",
       "</div>"
      ],
      "text/plain": [
       "   User-ID        ISBN  Book-Rating\n",
       "0   276725  034545104X            0\n",
       "1   276726  0155061224            5\n",
       "2   276727  0446520802            0\n",
       "3   276729  052165615X            3\n",
       "4   276729  0521795028            6"
      ]
     },
     "execution_count": 36,
     "metadata": {},
     "output_type": "execute_result"
    }
   ],
   "source": [
    "df_ratings.head()"
   ]
  },
  {
   "cell_type": "code",
   "execution_count": 37,
   "id": "9583627d-95d5-4ea0-93a6-c634f58871fb",
   "metadata": {
    "tags": []
   },
   "outputs": [],
   "source": [
    "## Drop duplicate rows\n",
    "df_ratings.drop_duplicates(keep='last', inplace=True)\n",
    "df_ratings.reset_index(drop=True, inplace=True)"
   ]
  },
  {
   "cell_type": "code",
   "execution_count": 38,
   "id": "82779e7c-5490-416f-b3a2-29b9c46187e6",
   "metadata": {
    "tags": []
   },
   "outputs": [
    {
     "name": "stdout",
     "output_type": "stream",
     "text": [
      "<class 'pandas.core.frame.DataFrame'>\n",
      "RangeIndex: 1149774 entries, 0 to 1149773\n",
      "Data columns (total 3 columns):\n",
      " #   Column       Non-Null Count    Dtype \n",
      "---  ------       --------------    ----- \n",
      " 0   User-ID      1149774 non-null  int64 \n",
      " 1   ISBN         1149774 non-null  object\n",
      " 2   Book-Rating  1149774 non-null  int64 \n",
      "dtypes: int64(2), object(1)\n",
      "memory usage: 26.3+ MB\n"
     ]
    }
   ],
   "source": [
    "df_ratings.info()"
   ]
  },
  {
   "cell_type": "markdown",
   "id": "4dbe129f-b181-456e-91f5-fbbd7a13dd9d",
   "metadata": {
    "tags": []
   },
   "source": [
    "-------------------------------"
   ]
  },
  {
   "cell_type": "markdown",
   "id": "717e90fb-1da2-42b2-a3e5-6b3f240bb7c9",
   "metadata": {},
   "source": [
    "## Merging dataframes"
   ]
  },
  {
   "cell_type": "code",
   "execution_count": 39,
   "id": "23d225e7-6e89-431c-bef9-79264b833175",
   "metadata": {
    "tags": []
   },
   "outputs": [
    {
     "data": {
      "text/html": [
       "<div>\n",
       "<style scoped>\n",
       "    .dataframe tbody tr th:only-of-type {\n",
       "        vertical-align: middle;\n",
       "    }\n",
       "\n",
       "    .dataframe tbody tr th {\n",
       "        vertical-align: top;\n",
       "    }\n",
       "\n",
       "    .dataframe thead th {\n",
       "        text-align: right;\n",
       "    }\n",
       "</style>\n",
       "<table border=\"1\" class=\"dataframe\">\n",
       "  <thead>\n",
       "    <tr style=\"text-align: right;\">\n",
       "      <th></th>\n",
       "      <th>ISBN</th>\n",
       "      <th>Book-Title</th>\n",
       "      <th>Book-Author</th>\n",
       "      <th>Year-Of-Publication</th>\n",
       "      <th>Publisher</th>\n",
       "      <th>Image-URL-L</th>\n",
       "    </tr>\n",
       "  </thead>\n",
       "  <tbody>\n",
       "    <tr>\n",
       "      <th>0</th>\n",
       "      <td>0195153448</td>\n",
       "      <td>Classical Mythology</td>\n",
       "      <td>Mark P. O. Morford</td>\n",
       "      <td>2002</td>\n",
       "      <td>Oxford University Press</td>\n",
       "      <td>http://images.amazon.com/images/P/0195153448.0...</td>\n",
       "    </tr>\n",
       "    <tr>\n",
       "      <th>1</th>\n",
       "      <td>0002005018</td>\n",
       "      <td>Clara Callan</td>\n",
       "      <td>Richard Bruce Wright</td>\n",
       "      <td>2001</td>\n",
       "      <td>HarperFlamingo Canada</td>\n",
       "      <td>http://images.amazon.com/images/P/0002005018.0...</td>\n",
       "    </tr>\n",
       "    <tr>\n",
       "      <th>2</th>\n",
       "      <td>0060973129</td>\n",
       "      <td>Decision in Normandy</td>\n",
       "      <td>Carlo D'Este</td>\n",
       "      <td>1991</td>\n",
       "      <td>HarperPerennial</td>\n",
       "      <td>http://images.amazon.com/images/P/0060973129.0...</td>\n",
       "    </tr>\n",
       "    <tr>\n",
       "      <th>3</th>\n",
       "      <td>0374157065</td>\n",
       "      <td>Flu: The Story of the Great Influenza Pandemic...</td>\n",
       "      <td>Gina Bari Kolata</td>\n",
       "      <td>1999</td>\n",
       "      <td>Farrar Straus Giroux</td>\n",
       "      <td>http://images.amazon.com/images/P/0374157065.0...</td>\n",
       "    </tr>\n",
       "    <tr>\n",
       "      <th>4</th>\n",
       "      <td>0393045218</td>\n",
       "      <td>The Mummies of Urumchi</td>\n",
       "      <td>E. J. W. Barber</td>\n",
       "      <td>1999</td>\n",
       "      <td>W. W. Norton &amp;amp; Company</td>\n",
       "      <td>http://images.amazon.com/images/P/0393045218.0...</td>\n",
       "    </tr>\n",
       "  </tbody>\n",
       "</table>\n",
       "</div>"
      ],
      "text/plain": [
       "         ISBN                                         Book-Title  \\\n",
       "0  0195153448                                Classical Mythology   \n",
       "1  0002005018                                       Clara Callan   \n",
       "2  0060973129                               Decision in Normandy   \n",
       "3  0374157065  Flu: The Story of the Great Influenza Pandemic...   \n",
       "4  0393045218                             The Mummies of Urumchi   \n",
       "\n",
       "            Book-Author  Year-Of-Publication                   Publisher  \\\n",
       "0    Mark P. O. Morford                 2002     Oxford University Press   \n",
       "1  Richard Bruce Wright                 2001       HarperFlamingo Canada   \n",
       "2          Carlo D'Este                 1991             HarperPerennial   \n",
       "3      Gina Bari Kolata                 1999        Farrar Straus Giroux   \n",
       "4       E. J. W. Barber                 1999  W. W. Norton &amp; Company   \n",
       "\n",
       "                                         Image-URL-L  \n",
       "0  http://images.amazon.com/images/P/0195153448.0...  \n",
       "1  http://images.amazon.com/images/P/0002005018.0...  \n",
       "2  http://images.amazon.com/images/P/0060973129.0...  \n",
       "3  http://images.amazon.com/images/P/0374157065.0...  \n",
       "4  http://images.amazon.com/images/P/0393045218.0...  "
      ]
     },
     "execution_count": 39,
     "metadata": {},
     "output_type": "execute_result"
    }
   ],
   "source": [
    "df_books.head()"
   ]
  },
  {
   "cell_type": "code",
   "execution_count": 40,
   "id": "bab06ab3-7e81-4ff4-ab0b-5c3cc1d00667",
   "metadata": {
    "tags": []
   },
   "outputs": [
    {
     "data": {
      "text/html": [
       "<div>\n",
       "<style scoped>\n",
       "    .dataframe tbody tr th:only-of-type {\n",
       "        vertical-align: middle;\n",
       "    }\n",
       "\n",
       "    .dataframe tbody tr th {\n",
       "        vertical-align: top;\n",
       "    }\n",
       "\n",
       "    .dataframe thead th {\n",
       "        text-align: right;\n",
       "    }\n",
       "</style>\n",
       "<table border=\"1\" class=\"dataframe\">\n",
       "  <thead>\n",
       "    <tr style=\"text-align: right;\">\n",
       "      <th></th>\n",
       "      <th>User-ID</th>\n",
       "      <th>ISBN</th>\n",
       "      <th>Book-Rating</th>\n",
       "    </tr>\n",
       "  </thead>\n",
       "  <tbody>\n",
       "    <tr>\n",
       "      <th>0</th>\n",
       "      <td>276725</td>\n",
       "      <td>034545104X</td>\n",
       "      <td>0</td>\n",
       "    </tr>\n",
       "    <tr>\n",
       "      <th>1</th>\n",
       "      <td>276726</td>\n",
       "      <td>0155061224</td>\n",
       "      <td>5</td>\n",
       "    </tr>\n",
       "    <tr>\n",
       "      <th>2</th>\n",
       "      <td>276727</td>\n",
       "      <td>0446520802</td>\n",
       "      <td>0</td>\n",
       "    </tr>\n",
       "    <tr>\n",
       "      <th>3</th>\n",
       "      <td>276729</td>\n",
       "      <td>052165615X</td>\n",
       "      <td>3</td>\n",
       "    </tr>\n",
       "    <tr>\n",
       "      <th>4</th>\n",
       "      <td>276729</td>\n",
       "      <td>0521795028</td>\n",
       "      <td>6</td>\n",
       "    </tr>\n",
       "  </tbody>\n",
       "</table>\n",
       "</div>"
      ],
      "text/plain": [
       "   User-ID        ISBN  Book-Rating\n",
       "0   276725  034545104X            0\n",
       "1   276726  0155061224            5\n",
       "2   276727  0446520802            0\n",
       "3   276729  052165615X            3\n",
       "4   276729  0521795028            6"
      ]
     },
     "execution_count": 40,
     "metadata": {},
     "output_type": "execute_result"
    }
   ],
   "source": [
    "df_ratings.head()"
   ]
  },
  {
   "cell_type": "code",
   "execution_count": 41,
   "id": "e5c09e50-0948-419c-861c-e164e64284ff",
   "metadata": {
    "tags": []
   },
   "outputs": [
    {
     "data": {
      "text/html": [
       "<div>\n",
       "<style scoped>\n",
       "    .dataframe tbody tr th:only-of-type {\n",
       "        vertical-align: middle;\n",
       "    }\n",
       "\n",
       "    .dataframe tbody tr th {\n",
       "        vertical-align: top;\n",
       "    }\n",
       "\n",
       "    .dataframe thead th {\n",
       "        text-align: right;\n",
       "    }\n",
       "</style>\n",
       "<table border=\"1\" class=\"dataframe\">\n",
       "  <thead>\n",
       "    <tr style=\"text-align: right;\">\n",
       "      <th></th>\n",
       "      <th>User-ID</th>\n",
       "      <th>Age</th>\n",
       "      <th>City</th>\n",
       "      <th>State</th>\n",
       "      <th>Country</th>\n",
       "    </tr>\n",
       "  </thead>\n",
       "  <tbody>\n",
       "    <tr>\n",
       "      <th>0</th>\n",
       "      <td>1</td>\n",
       "      <td>35</td>\n",
       "      <td>nyc</td>\n",
       "      <td>new york</td>\n",
       "      <td>usa</td>\n",
       "    </tr>\n",
       "    <tr>\n",
       "      <th>1</th>\n",
       "      <td>2</td>\n",
       "      <td>18</td>\n",
       "      <td>stockton</td>\n",
       "      <td>california</td>\n",
       "      <td>usa</td>\n",
       "    </tr>\n",
       "    <tr>\n",
       "      <th>2</th>\n",
       "      <td>3</td>\n",
       "      <td>35</td>\n",
       "      <td>moscow</td>\n",
       "      <td>yukon territory</td>\n",
       "      <td>russia</td>\n",
       "    </tr>\n",
       "    <tr>\n",
       "      <th>3</th>\n",
       "      <td>4</td>\n",
       "      <td>17</td>\n",
       "      <td>porto</td>\n",
       "      <td>v.n.gaia</td>\n",
       "      <td>portugal</td>\n",
       "    </tr>\n",
       "    <tr>\n",
       "      <th>4</th>\n",
       "      <td>5</td>\n",
       "      <td>35</td>\n",
       "      <td>farnborough</td>\n",
       "      <td>hants</td>\n",
       "      <td>united kingdom</td>\n",
       "    </tr>\n",
       "  </tbody>\n",
       "</table>\n",
       "</div>"
      ],
      "text/plain": [
       "   User-ID  Age         City            State         Country\n",
       "0        1   35          nyc         new york             usa\n",
       "1        2   18     stockton       california             usa\n",
       "2        3   35       moscow  yukon territory          russia\n",
       "3        4   17        porto         v.n.gaia        portugal\n",
       "4        5   35  farnborough            hants  united kingdom"
      ]
     },
     "execution_count": 41,
     "metadata": {},
     "output_type": "execute_result"
    }
   ],
   "source": [
    "df_users.head()"
   ]
  },
  {
   "cell_type": "code",
   "execution_count": 42,
   "id": "4088447c-7d5e-4261-a894-7c0137023a98",
   "metadata": {
    "tags": []
   },
   "outputs": [
    {
     "data": {
      "text/html": [
       "<div>\n",
       "<style scoped>\n",
       "    .dataframe tbody tr th:only-of-type {\n",
       "        vertical-align: middle;\n",
       "    }\n",
       "\n",
       "    .dataframe tbody tr th {\n",
       "        vertical-align: top;\n",
       "    }\n",
       "\n",
       "    .dataframe thead th {\n",
       "        text-align: right;\n",
       "    }\n",
       "</style>\n",
       "<table border=\"1\" class=\"dataframe\">\n",
       "  <thead>\n",
       "    <tr style=\"text-align: right;\">\n",
       "      <th></th>\n",
       "      <th>ISBN</th>\n",
       "      <th>Book-Title</th>\n",
       "      <th>Book-Author</th>\n",
       "      <th>Year-Of-Publication</th>\n",
       "      <th>Publisher</th>\n",
       "      <th>Image-URL-L</th>\n",
       "      <th>User-ID</th>\n",
       "      <th>Book-Rating</th>\n",
       "      <th>Age</th>\n",
       "      <th>City</th>\n",
       "      <th>State</th>\n",
       "      <th>Country</th>\n",
       "    </tr>\n",
       "  </thead>\n",
       "  <tbody>\n",
       "    <tr>\n",
       "      <th>0</th>\n",
       "      <td>0195153448</td>\n",
       "      <td>Classical Mythology</td>\n",
       "      <td>Mark P. O. Morford</td>\n",
       "      <td>2002</td>\n",
       "      <td>Oxford University Press</td>\n",
       "      <td>http://images.amazon.com/images/P/0195153448.0...</td>\n",
       "      <td>2</td>\n",
       "      <td>0</td>\n",
       "      <td>18</td>\n",
       "      <td>stockton</td>\n",
       "      <td>california</td>\n",
       "      <td>usa</td>\n",
       "    </tr>\n",
       "    <tr>\n",
       "      <th>1</th>\n",
       "      <td>0002005018</td>\n",
       "      <td>Clara Callan</td>\n",
       "      <td>Richard Bruce Wright</td>\n",
       "      <td>2001</td>\n",
       "      <td>HarperFlamingo Canada</td>\n",
       "      <td>http://images.amazon.com/images/P/0002005018.0...</td>\n",
       "      <td>8</td>\n",
       "      <td>5</td>\n",
       "      <td>35</td>\n",
       "      <td>timmins</td>\n",
       "      <td>ontario</td>\n",
       "      <td>canada</td>\n",
       "    </tr>\n",
       "    <tr>\n",
       "      <th>2</th>\n",
       "      <td>0060973129</td>\n",
       "      <td>Decision in Normandy</td>\n",
       "      <td>Carlo D'Este</td>\n",
       "      <td>1991</td>\n",
       "      <td>HarperPerennial</td>\n",
       "      <td>http://images.amazon.com/images/P/0060973129.0...</td>\n",
       "      <td>8</td>\n",
       "      <td>0</td>\n",
       "      <td>35</td>\n",
       "      <td>timmins</td>\n",
       "      <td>ontario</td>\n",
       "      <td>canada</td>\n",
       "    </tr>\n",
       "    <tr>\n",
       "      <th>3</th>\n",
       "      <td>0374157065</td>\n",
       "      <td>Flu: The Story of the Great Influenza Pandemic...</td>\n",
       "      <td>Gina Bari Kolata</td>\n",
       "      <td>1999</td>\n",
       "      <td>Farrar Straus Giroux</td>\n",
       "      <td>http://images.amazon.com/images/P/0374157065.0...</td>\n",
       "      <td>8</td>\n",
       "      <td>0</td>\n",
       "      <td>35</td>\n",
       "      <td>timmins</td>\n",
       "      <td>ontario</td>\n",
       "      <td>canada</td>\n",
       "    </tr>\n",
       "    <tr>\n",
       "      <th>4</th>\n",
       "      <td>0393045218</td>\n",
       "      <td>The Mummies of Urumchi</td>\n",
       "      <td>E. J. W. Barber</td>\n",
       "      <td>1999</td>\n",
       "      <td>W. W. Norton &amp;amp; Company</td>\n",
       "      <td>http://images.amazon.com/images/P/0393045218.0...</td>\n",
       "      <td>8</td>\n",
       "      <td>0</td>\n",
       "      <td>35</td>\n",
       "      <td>timmins</td>\n",
       "      <td>ontario</td>\n",
       "      <td>canada</td>\n",
       "    </tr>\n",
       "    <tr>\n",
       "      <th>5</th>\n",
       "      <td>0399135782</td>\n",
       "      <td>The Kitchen God's Wife</td>\n",
       "      <td>Amy Tan</td>\n",
       "      <td>1991</td>\n",
       "      <td>Putnam Pub Group</td>\n",
       "      <td>http://images.amazon.com/images/P/0399135782.0...</td>\n",
       "      <td>8</td>\n",
       "      <td>0</td>\n",
       "      <td>35</td>\n",
       "      <td>timmins</td>\n",
       "      <td>ontario</td>\n",
       "      <td>canada</td>\n",
       "    </tr>\n",
       "    <tr>\n",
       "      <th>6</th>\n",
       "      <td>0425176428</td>\n",
       "      <td>What If?: The World's Foremost Military Histor...</td>\n",
       "      <td>Robert Cowley</td>\n",
       "      <td>2000</td>\n",
       "      <td>Berkley Publishing Group</td>\n",
       "      <td>http://images.amazon.com/images/P/0425176428.0...</td>\n",
       "      <td>8</td>\n",
       "      <td>0</td>\n",
       "      <td>35</td>\n",
       "      <td>timmins</td>\n",
       "      <td>ontario</td>\n",
       "      <td>canada</td>\n",
       "    </tr>\n",
       "    <tr>\n",
       "      <th>7</th>\n",
       "      <td>0671870432</td>\n",
       "      <td>PLEADING GUILTY</td>\n",
       "      <td>Scott Turow</td>\n",
       "      <td>1993</td>\n",
       "      <td>Audioworks</td>\n",
       "      <td>http://images.amazon.com/images/P/0671870432.0...</td>\n",
       "      <td>8</td>\n",
       "      <td>0</td>\n",
       "      <td>35</td>\n",
       "      <td>timmins</td>\n",
       "      <td>ontario</td>\n",
       "      <td>canada</td>\n",
       "    </tr>\n",
       "    <tr>\n",
       "      <th>8</th>\n",
       "      <td>0679425608</td>\n",
       "      <td>Under the Black Flag: The Romance and the Real...</td>\n",
       "      <td>David Cordingly</td>\n",
       "      <td>1996</td>\n",
       "      <td>Random House</td>\n",
       "      <td>http://images.amazon.com/images/P/0679425608.0...</td>\n",
       "      <td>8</td>\n",
       "      <td>0</td>\n",
       "      <td>35</td>\n",
       "      <td>timmins</td>\n",
       "      <td>ontario</td>\n",
       "      <td>canada</td>\n",
       "    </tr>\n",
       "    <tr>\n",
       "      <th>9</th>\n",
       "      <td>074322678X</td>\n",
       "      <td>Where You'll Find Me: And Other Stories</td>\n",
       "      <td>Ann Beattie</td>\n",
       "      <td>2002</td>\n",
       "      <td>Scribner</td>\n",
       "      <td>http://images.amazon.com/images/P/074322678X.0...</td>\n",
       "      <td>8</td>\n",
       "      <td>5</td>\n",
       "      <td>35</td>\n",
       "      <td>timmins</td>\n",
       "      <td>ontario</td>\n",
       "      <td>canada</td>\n",
       "    </tr>\n",
       "    <tr>\n",
       "      <th>10</th>\n",
       "      <td>0771074670</td>\n",
       "      <td>Nights Below Station Street</td>\n",
       "      <td>David Adams Richards</td>\n",
       "      <td>1988</td>\n",
       "      <td>Emblem Editions</td>\n",
       "      <td>http://images.amazon.com/images/P/0771074670.0...</td>\n",
       "      <td>8</td>\n",
       "      <td>0</td>\n",
       "      <td>35</td>\n",
       "      <td>timmins</td>\n",
       "      <td>ontario</td>\n",
       "      <td>canada</td>\n",
       "    </tr>\n",
       "    <tr>\n",
       "      <th>11</th>\n",
       "      <td>080652121X</td>\n",
       "      <td>Hitler's Secret Bankers: The Myth of Swiss Neu...</td>\n",
       "      <td>Adam Lebor</td>\n",
       "      <td>2000</td>\n",
       "      <td>Citadel Press</td>\n",
       "      <td>http://images.amazon.com/images/P/080652121X.0...</td>\n",
       "      <td>8</td>\n",
       "      <td>0</td>\n",
       "      <td>35</td>\n",
       "      <td>timmins</td>\n",
       "      <td>ontario</td>\n",
       "      <td>canada</td>\n",
       "    </tr>\n",
       "    <tr>\n",
       "      <th>12</th>\n",
       "      <td>0887841740</td>\n",
       "      <td>The Middle Stories</td>\n",
       "      <td>Sheila Heti</td>\n",
       "      <td>2004</td>\n",
       "      <td>House of Anansi Press</td>\n",
       "      <td>http://images.amazon.com/images/P/0887841740.0...</td>\n",
       "      <td>8</td>\n",
       "      <td>5</td>\n",
       "      <td>35</td>\n",
       "      <td>timmins</td>\n",
       "      <td>ontario</td>\n",
       "      <td>canada</td>\n",
       "    </tr>\n",
       "    <tr>\n",
       "      <th>13</th>\n",
       "      <td>1552041778</td>\n",
       "      <td>Jane Doe</td>\n",
       "      <td>R. J. Kaiser</td>\n",
       "      <td>1999</td>\n",
       "      <td>Mira Books</td>\n",
       "      <td>http://images.amazon.com/images/P/1552041778.0...</td>\n",
       "      <td>8</td>\n",
       "      <td>5</td>\n",
       "      <td>35</td>\n",
       "      <td>timmins</td>\n",
       "      <td>ontario</td>\n",
       "      <td>canada</td>\n",
       "    </tr>\n",
       "    <tr>\n",
       "      <th>14</th>\n",
       "      <td>1558746218</td>\n",
       "      <td>A Second Chicken Soup for the Woman's Soul (Ch...</td>\n",
       "      <td>Jack Canfield</td>\n",
       "      <td>1998</td>\n",
       "      <td>Health Communications</td>\n",
       "      <td>http://images.amazon.com/images/P/1558746218.0...</td>\n",
       "      <td>8</td>\n",
       "      <td>0</td>\n",
       "      <td>35</td>\n",
       "      <td>timmins</td>\n",
       "      <td>ontario</td>\n",
       "      <td>canada</td>\n",
       "    </tr>\n",
       "    <tr>\n",
       "      <th>15</th>\n",
       "      <td>1567407781</td>\n",
       "      <td>The Witchfinder (Amos Walker Mystery Series)</td>\n",
       "      <td>Loren D. Estleman</td>\n",
       "      <td>1998</td>\n",
       "      <td>Brilliance Audio - Trade</td>\n",
       "      <td>http://images.amazon.com/images/P/1567407781.0...</td>\n",
       "      <td>8</td>\n",
       "      <td>6</td>\n",
       "      <td>35</td>\n",
       "      <td>timmins</td>\n",
       "      <td>ontario</td>\n",
       "      <td>canada</td>\n",
       "    </tr>\n",
       "    <tr>\n",
       "      <th>16</th>\n",
       "      <td>1575663937</td>\n",
       "      <td>More Cunning Than Man: A Social History of Rat...</td>\n",
       "      <td>Robert Hendrickson</td>\n",
       "      <td>1999</td>\n",
       "      <td>Kensington Publishing Corp.</td>\n",
       "      <td>http://images.amazon.com/images/P/1575663937.0...</td>\n",
       "      <td>8</td>\n",
       "      <td>6</td>\n",
       "      <td>35</td>\n",
       "      <td>timmins</td>\n",
       "      <td>ontario</td>\n",
       "      <td>canada</td>\n",
       "    </tr>\n",
       "    <tr>\n",
       "      <th>17</th>\n",
       "      <td>1881320189</td>\n",
       "      <td>Goodbye to the Buttermilk Sky</td>\n",
       "      <td>Julia Oliver</td>\n",
       "      <td>1994</td>\n",
       "      <td>River City Pub</td>\n",
       "      <td>http://images.amazon.com/images/P/1881320189.0...</td>\n",
       "      <td>8</td>\n",
       "      <td>7</td>\n",
       "      <td>35</td>\n",
       "      <td>timmins</td>\n",
       "      <td>ontario</td>\n",
       "      <td>canada</td>\n",
       "    </tr>\n",
       "    <tr>\n",
       "      <th>18</th>\n",
       "      <td>0002005018</td>\n",
       "      <td>Clara Callan</td>\n",
       "      <td>Richard Bruce Wright</td>\n",
       "      <td>2001</td>\n",
       "      <td>HarperFlamingo Canada</td>\n",
       "      <td>http://images.amazon.com/images/P/0002005018.0...</td>\n",
       "      <td>11400</td>\n",
       "      <td>0</td>\n",
       "      <td>49</td>\n",
       "      <td>ottawa</td>\n",
       "      <td>ontario</td>\n",
       "      <td>canada</td>\n",
       "    </tr>\n",
       "    <tr>\n",
       "      <th>19</th>\n",
       "      <td>0786868716</td>\n",
       "      <td>The Five People You Meet in Heaven</td>\n",
       "      <td>Mitch Albom</td>\n",
       "      <td>2003</td>\n",
       "      <td>Hyperion</td>\n",
       "      <td>http://images.amazon.com/images/P/0786868716.0...</td>\n",
       "      <td>11400</td>\n",
       "      <td>9</td>\n",
       "      <td>49</td>\n",
       "      <td>ottawa</td>\n",
       "      <td>ontario</td>\n",
       "      <td>canada</td>\n",
       "    </tr>\n",
       "  </tbody>\n",
       "</table>\n",
       "</div>"
      ],
      "text/plain": [
       "          ISBN                                         Book-Title  \\\n",
       "0   0195153448                                Classical Mythology   \n",
       "1   0002005018                                       Clara Callan   \n",
       "2   0060973129                               Decision in Normandy   \n",
       "3   0374157065  Flu: The Story of the Great Influenza Pandemic...   \n",
       "4   0393045218                             The Mummies of Urumchi   \n",
       "5   0399135782                             The Kitchen God's Wife   \n",
       "6   0425176428  What If?: The World's Foremost Military Histor...   \n",
       "7   0671870432                                    PLEADING GUILTY   \n",
       "8   0679425608  Under the Black Flag: The Romance and the Real...   \n",
       "9   074322678X            Where You'll Find Me: And Other Stories   \n",
       "10  0771074670                        Nights Below Station Street   \n",
       "11  080652121X  Hitler's Secret Bankers: The Myth of Swiss Neu...   \n",
       "12  0887841740                                 The Middle Stories   \n",
       "13  1552041778                                           Jane Doe   \n",
       "14  1558746218  A Second Chicken Soup for the Woman's Soul (Ch...   \n",
       "15  1567407781       The Witchfinder (Amos Walker Mystery Series)   \n",
       "16  1575663937  More Cunning Than Man: A Social History of Rat...   \n",
       "17  1881320189                      Goodbye to the Buttermilk Sky   \n",
       "18  0002005018                                       Clara Callan   \n",
       "19  0786868716                 The Five People You Meet in Heaven   \n",
       "\n",
       "             Book-Author  Year-Of-Publication                    Publisher  \\\n",
       "0     Mark P. O. Morford                 2002      Oxford University Press   \n",
       "1   Richard Bruce Wright                 2001        HarperFlamingo Canada   \n",
       "2           Carlo D'Este                 1991              HarperPerennial   \n",
       "3       Gina Bari Kolata                 1999         Farrar Straus Giroux   \n",
       "4        E. J. W. Barber                 1999   W. W. Norton &amp; Company   \n",
       "5                Amy Tan                 1991             Putnam Pub Group   \n",
       "6          Robert Cowley                 2000     Berkley Publishing Group   \n",
       "7            Scott Turow                 1993                   Audioworks   \n",
       "8        David Cordingly                 1996                 Random House   \n",
       "9            Ann Beattie                 2002                     Scribner   \n",
       "10  David Adams Richards                 1988              Emblem Editions   \n",
       "11            Adam Lebor                 2000                Citadel Press   \n",
       "12           Sheila Heti                 2004        House of Anansi Press   \n",
       "13          R. J. Kaiser                 1999                   Mira Books   \n",
       "14         Jack Canfield                 1998        Health Communications   \n",
       "15     Loren D. Estleman                 1998     Brilliance Audio - Trade   \n",
       "16    Robert Hendrickson                 1999  Kensington Publishing Corp.   \n",
       "17          Julia Oliver                 1994               River City Pub   \n",
       "18  Richard Bruce Wright                 2001        HarperFlamingo Canada   \n",
       "19           Mitch Albom                 2003                     Hyperion   \n",
       "\n",
       "                                          Image-URL-L  User-ID  Book-Rating  \\\n",
       "0   http://images.amazon.com/images/P/0195153448.0...        2            0   \n",
       "1   http://images.amazon.com/images/P/0002005018.0...        8            5   \n",
       "2   http://images.amazon.com/images/P/0060973129.0...        8            0   \n",
       "3   http://images.amazon.com/images/P/0374157065.0...        8            0   \n",
       "4   http://images.amazon.com/images/P/0393045218.0...        8            0   \n",
       "5   http://images.amazon.com/images/P/0399135782.0...        8            0   \n",
       "6   http://images.amazon.com/images/P/0425176428.0...        8            0   \n",
       "7   http://images.amazon.com/images/P/0671870432.0...        8            0   \n",
       "8   http://images.amazon.com/images/P/0679425608.0...        8            0   \n",
       "9   http://images.amazon.com/images/P/074322678X.0...        8            5   \n",
       "10  http://images.amazon.com/images/P/0771074670.0...        8            0   \n",
       "11  http://images.amazon.com/images/P/080652121X.0...        8            0   \n",
       "12  http://images.amazon.com/images/P/0887841740.0...        8            5   \n",
       "13  http://images.amazon.com/images/P/1552041778.0...        8            5   \n",
       "14  http://images.amazon.com/images/P/1558746218.0...        8            0   \n",
       "15  http://images.amazon.com/images/P/1567407781.0...        8            6   \n",
       "16  http://images.amazon.com/images/P/1575663937.0...        8            6   \n",
       "17  http://images.amazon.com/images/P/1881320189.0...        8            7   \n",
       "18  http://images.amazon.com/images/P/0002005018.0...    11400            0   \n",
       "19  http://images.amazon.com/images/P/0786868716.0...    11400            9   \n",
       "\n",
       "    Age      City       State Country  \n",
       "0    18  stockton  california     usa  \n",
       "1    35   timmins     ontario  canada  \n",
       "2    35   timmins     ontario  canada  \n",
       "3    35   timmins     ontario  canada  \n",
       "4    35   timmins     ontario  canada  \n",
       "5    35   timmins     ontario  canada  \n",
       "6    35   timmins     ontario  canada  \n",
       "7    35   timmins     ontario  canada  \n",
       "8    35   timmins     ontario  canada  \n",
       "9    35   timmins     ontario  canada  \n",
       "10   35   timmins     ontario  canada  \n",
       "11   35   timmins     ontario  canada  \n",
       "12   35   timmins     ontario  canada  \n",
       "13   35   timmins     ontario  canada  \n",
       "14   35   timmins     ontario  canada  \n",
       "15   35   timmins     ontario  canada  \n",
       "16   35   timmins     ontario  canada  \n",
       "17   35   timmins     ontario  canada  \n",
       "18   49    ottawa     ontario  canada  \n",
       "19   49    ottawa     ontario  canada  "
      ]
     },
     "execution_count": 42,
     "metadata": {},
     "output_type": "execute_result"
    }
   ],
   "source": [
    "data = pd.merge(df_books, df_ratings, on='ISBN', how='inner')\n",
    "data = pd.merge(data, df_users, on='User-ID', how='inner')\n",
    "data.head(20)"
   ]
  },
  {
   "cell_type": "code",
   "execution_count": 43,
   "id": "d840e518-b1cd-4e33-86e4-92418d35ae67",
   "metadata": {
    "tags": []
   },
   "outputs": [
    {
     "name": "stdout",
     "output_type": "stream",
     "text": [
      "<class 'pandas.core.frame.DataFrame'>\n",
      "Int64Index: 1031607 entries, 0 to 1031606\n",
      "Data columns (total 12 columns):\n",
      " #   Column               Non-Null Count    Dtype \n",
      "---  ------               --------------    ----- \n",
      " 0   ISBN                 1031607 non-null  object\n",
      " 1   Book-Title           1031607 non-null  object\n",
      " 2   Book-Author          1031606 non-null  object\n",
      " 3   Year-Of-Publication  1031607 non-null  int32 \n",
      " 4   Publisher            1031605 non-null  object\n",
      " 5   Image-URL-L          1031602 non-null  object\n",
      " 6   User-ID              1031607 non-null  int64 \n",
      " 7   Book-Rating          1031607 non-null  int64 \n",
      " 8   Age                  1031607 non-null  int32 \n",
      " 9   City                 1031607 non-null  object\n",
      " 10  State                1031607 non-null  object\n",
      " 11  Country              1031607 non-null  object\n",
      "dtypes: int32(2), int64(2), object(8)\n",
      "memory usage: 94.4+ MB\n"
     ]
    }
   ],
   "source": [
    "data.info()"
   ]
  },
  {
   "cell_type": "code",
   "execution_count": 44,
   "id": "ccbcf2ed-42da-45c0-82ac-74d1b40de1a8",
   "metadata": {
    "tags": []
   },
   "outputs": [
    {
     "data": {
      "text/plain": [
       "(384074, 12)"
      ]
     },
     "execution_count": 44,
     "metadata": {},
     "output_type": "execute_result"
    }
   ],
   "source": [
    "## Explicit Ratings Dataset\n",
    "data1 = data[data['Book-Rating'] != 0]\n",
    "data1 = data1.reset_index(drop = True)\n",
    "data1.shape"
   ]
  },
  {
   "cell_type": "code",
   "execution_count": 45,
   "id": "9f4cbb9d-d6cc-4b0a-aaee-57eab728b156",
   "metadata": {
    "tags": []
   },
   "outputs": [
    {
     "data": {
      "text/plain": [
       "(647533, 12)"
      ]
     },
     "execution_count": 45,
     "metadata": {},
     "output_type": "execute_result"
    }
   ],
   "source": [
    "## Implicit Ratings Dataset\n",
    "data2 = data[data['Book-Rating'] == 0]\n",
    "data2 = data2.reset_index(drop = True)\n",
    "data2.shape"
   ]
  },
  {
   "cell_type": "code",
   "execution_count": 46,
   "id": "b2434bb0-bb3b-4a6d-9f39-3d40ca4796cb",
   "metadata": {
    "tags": []
   },
   "outputs": [
    {
     "data": {
      "text/plain": [
       "11676     6950\n",
       "98391     5692\n",
       "189835    1899\n",
       "153662    1846\n",
       "23902     1180\n",
       "          ... \n",
       "67704        1\n",
       "227746       1\n",
       "62617        1\n",
       "67636        1\n",
       "259679       1\n",
       "Name: User-ID, Length: 68154, dtype: int64"
      ]
     },
     "execution_count": 46,
     "metadata": {},
     "output_type": "execute_result"
    }
   ],
   "source": [
    "data1['User-ID'].value_counts(ascending=False)"
   ]
  },
  {
   "cell_type": "code",
   "execution_count": 47,
   "id": "3e57848f-23d0-45fc-8c7d-4fbee080570e",
   "metadata": {
    "tags": []
   },
   "outputs": [
    {
     "data": {
      "text/html": [
       "<div>\n",
       "<style scoped>\n",
       "    .dataframe tbody tr th:only-of-type {\n",
       "        vertical-align: middle;\n",
       "    }\n",
       "\n",
       "    .dataframe tbody tr th {\n",
       "        vertical-align: top;\n",
       "    }\n",
       "\n",
       "    .dataframe thead th {\n",
       "        text-align: right;\n",
       "    }\n",
       "</style>\n",
       "<table border=\"1\" class=\"dataframe\">\n",
       "  <thead>\n",
       "    <tr style=\"text-align: right;\">\n",
       "      <th></th>\n",
       "      <th>User-ID</th>\n",
       "      <th>Count</th>\n",
       "    </tr>\n",
       "  </thead>\n",
       "  <tbody>\n",
       "    <tr>\n",
       "      <th>0</th>\n",
       "      <td>11676</td>\n",
       "      <td>6950</td>\n",
       "    </tr>\n",
       "    <tr>\n",
       "      <th>1</th>\n",
       "      <td>98391</td>\n",
       "      <td>5692</td>\n",
       "    </tr>\n",
       "    <tr>\n",
       "      <th>2</th>\n",
       "      <td>189835</td>\n",
       "      <td>1899</td>\n",
       "    </tr>\n",
       "    <tr>\n",
       "      <th>3</th>\n",
       "      <td>153662</td>\n",
       "      <td>1846</td>\n",
       "    </tr>\n",
       "    <tr>\n",
       "      <th>4</th>\n",
       "      <td>23902</td>\n",
       "      <td>1180</td>\n",
       "    </tr>\n",
       "    <tr>\n",
       "      <th>...</th>\n",
       "      <td>...</td>\n",
       "      <td>...</td>\n",
       "    </tr>\n",
       "    <tr>\n",
       "      <th>68149</th>\n",
       "      <td>67704</td>\n",
       "      <td>1</td>\n",
       "    </tr>\n",
       "    <tr>\n",
       "      <th>68150</th>\n",
       "      <td>227746</td>\n",
       "      <td>1</td>\n",
       "    </tr>\n",
       "    <tr>\n",
       "      <th>68151</th>\n",
       "      <td>62617</td>\n",
       "      <td>1</td>\n",
       "    </tr>\n",
       "    <tr>\n",
       "      <th>68152</th>\n",
       "      <td>67636</td>\n",
       "      <td>1</td>\n",
       "    </tr>\n",
       "    <tr>\n",
       "      <th>68153</th>\n",
       "      <td>259679</td>\n",
       "      <td>1</td>\n",
       "    </tr>\n",
       "  </tbody>\n",
       "</table>\n",
       "<p>68154 rows × 2 columns</p>\n",
       "</div>"
      ],
      "text/plain": [
       "       User-ID  Count\n",
       "0        11676   6950\n",
       "1        98391   5692\n",
       "2       189835   1899\n",
       "3       153662   1846\n",
       "4        23902   1180\n",
       "...        ...    ...\n",
       "68149    67704      1\n",
       "68150   227746      1\n",
       "68151    62617      1\n",
       "68152    67636      1\n",
       "68153   259679      1\n",
       "\n",
       "[68154 rows x 2 columns]"
      ]
     },
     "execution_count": 47,
     "metadata": {},
     "output_type": "execute_result"
    }
   ],
   "source": [
    "counts1 = data1['User-ID'].value_counts().reset_index().rename(columns={\"index\": \"User-ID\", 'User-ID': \"Count\"})\n",
    "counts1"
   ]
  },
  {
   "cell_type": "code",
   "execution_count": 48,
   "id": "80c15bad-5f56-435c-9e71-68773c1de6c1",
   "metadata": {
    "tags": []
   },
   "outputs": [
    {
     "data": {
      "text/html": [
       "<div>\n",
       "<style scoped>\n",
       "    .dataframe tbody tr th:only-of-type {\n",
       "        vertical-align: middle;\n",
       "    }\n",
       "\n",
       "    .dataframe tbody tr th {\n",
       "        vertical-align: top;\n",
       "    }\n",
       "\n",
       "    .dataframe thead th {\n",
       "        text-align: right;\n",
       "    }\n",
       "</style>\n",
       "<table border=\"1\" class=\"dataframe\">\n",
       "  <thead>\n",
       "    <tr style=\"text-align: right;\">\n",
       "      <th></th>\n",
       "      <th>User-ID</th>\n",
       "      <th>Count</th>\n",
       "    </tr>\n",
       "  </thead>\n",
       "  <tbody>\n",
       "    <tr>\n",
       "      <th>count</th>\n",
       "      <td>68154.000000</td>\n",
       "      <td>68154.000000</td>\n",
       "    </tr>\n",
       "    <tr>\n",
       "      <th>mean</th>\n",
       "      <td>139383.557825</td>\n",
       "      <td>5.635385</td>\n",
       "    </tr>\n",
       "    <tr>\n",
       "      <th>std</th>\n",
       "      <td>80524.764608</td>\n",
       "      <td>41.745402</td>\n",
       "    </tr>\n",
       "    <tr>\n",
       "      <th>min</th>\n",
       "      <td>8.000000</td>\n",
       "      <td>1.000000</td>\n",
       "    </tr>\n",
       "    <tr>\n",
       "      <th>25%</th>\n",
       "      <td>69010.500000</td>\n",
       "      <td>1.000000</td>\n",
       "    </tr>\n",
       "    <tr>\n",
       "      <th>50%</th>\n",
       "      <td>138848.000000</td>\n",
       "      <td>1.000000</td>\n",
       "    </tr>\n",
       "    <tr>\n",
       "      <th>75%</th>\n",
       "      <td>209393.750000</td>\n",
       "      <td>3.000000</td>\n",
       "    </tr>\n",
       "    <tr>\n",
       "      <th>max</th>\n",
       "      <td>278854.000000</td>\n",
       "      <td>6950.000000</td>\n",
       "    </tr>\n",
       "  </tbody>\n",
       "</table>\n",
       "</div>"
      ],
      "text/plain": [
       "             User-ID         Count\n",
       "count   68154.000000  68154.000000\n",
       "mean   139383.557825      5.635385\n",
       "std     80524.764608     41.745402\n",
       "min         8.000000      1.000000\n",
       "25%     69010.500000      1.000000\n",
       "50%    138848.000000      1.000000\n",
       "75%    209393.750000      3.000000\n",
       "max    278854.000000   6950.000000"
      ]
     },
     "execution_count": 48,
     "metadata": {},
     "output_type": "execute_result"
    }
   ],
   "source": [
    "counts1.describe()"
   ]
  },
  {
   "cell_type": "code",
   "execution_count": 49,
   "id": "11deac24-af99-4514-9284-7546d7b8999f",
   "metadata": {
    "tags": []
   },
   "outputs": [
    {
     "data": {
      "text/plain": [
       "(1149774, 481)"
      ]
     },
     "execution_count": 49,
     "metadata": {},
     "output_type": "execute_result"
    }
   ],
   "source": [
    "len(df_ratings['User-ID']), len(counts1.loc[counts1['Count']  == 11])"
   ]
  },
  {
   "cell_type": "markdown",
   "id": "358ce080-fbc7-44ca-bb6d-98cffe855a17",
   "metadata": {
    "tags": []
   },
   "source": [
    "---------------------"
   ]
  },
  {
   "cell_type": "markdown",
   "id": "6dfa2d8a-3e94-41fc-9f61-5e3ebcbc1938",
   "metadata": {},
   "source": [
    "## Data Visualization 📊"
   ]
  },
  {
   "cell_type": "code",
   "execution_count": 50,
   "id": "6be3eefb-62d3-458a-8277-2945f92779bb",
   "metadata": {
    "tags": []
   },
   "outputs": [
    {
     "data": {
      "text/plain": [
       "<Axes: xlabel='Book-Rating', ylabel='count'>"
      ]
     },
     "execution_count": 50,
     "metadata": {},
     "output_type": "execute_result"
    },
    {
     "data": {
      "image/png": "[encoded data removed]",
      "text/plain": [
       "<Figure size 800x600 with 1 Axes>"
      ]
     },
     "metadata": {},
     "output_type": "display_data"
    }
   ],
   "source": [
    "plt.figure(figsize=(8,6))\n",
    "sns.set_palette(\"pastel\")\n",
    "sns.countplot(x=\"Book-Rating\", data=df_ratings)"
   ]
  },
  {
   "cell_type": "code",
   "execution_count": 51,
   "id": "8874d5cf-6f53-45df-97f2-4145a9d0d968",
   "metadata": {
    "tags": []
   },
   "outputs": [
    {
     "data": {
      "image/png": "[encoded data removed]",
      "text/plain": [
       "<Figure size 800x600 with 1 Axes>"
      ]
     },
     "metadata": {},
     "output_type": "display_data"
    }
   ],
   "source": [
    "## Explicit Ratings\n",
    "plt.figure(figsize=(8,6))\n",
    "sns.set_palette(\"pastel\")\n",
    "sns.countplot(x=\"Book-Rating\", data= df_ratings[df_ratings['Book-Rating'] != 0])\n",
    "plt.title(\"Explicit Ratings\");"
   ]
  },
  {
   "cell_type": "code",
   "execution_count": 52,
   "id": "cabf6bfa-140a-44a7-bd2a-c8baf866fdb2",
   "metadata": {
    "tags": []
   },
   "outputs": [
    {
     "data": {
      "image/png": "[encoded data removed]",
      "text/plain": [
       "<Figure size 640x480 with 1 Axes>"
      ]
     },
     "metadata": {},
     "output_type": "display_data"
    }
   ],
   "source": [
    "plt.hist(counts1.loc[counts1['Count'] > 30].Count.tolist(), bins = 100,range=[0, 600])\n",
    "plt.title(\"User rating counts\");"
   ]
  },
  {
   "cell_type": "code",
   "execution_count": 53,
   "id": "e5a9a99a-8602-4ba9-8c6e-3f08af5c53b9",
   "metadata": {
    "tags": []
   },
   "outputs": [
    {
     "data": {
      "image/png": "[encoded data removed]",
      "text/plain": [
       "<Figure size 640x480 with 1 Axes>"
      ]
     },
     "metadata": {},
     "output_type": "display_data"
    }
   ],
   "source": [
    "data1['User-ID'].value_counts()[:40].plot(kind='bar')\n",
    "plt.title(\"User rating counts\");"
   ]
  },
  {
   "cell_type": "code",
   "execution_count": 54,
   "id": "f309f670-fdeb-4586-8363-5899be2f9471",
   "metadata": {
    "tags": []
   },
   "outputs": [
    {
     "data": {
      "text/plain": [
       "Text(0.5, 1.0, 'Top 10 number of readers from each country ')"
      ]
     },
     "execution_count": 54,
     "metadata": {},
     "output_type": "execute_result"
    },
    {
     "data": {
      "image/png": "[encoded data removed]",
      "text/plain": [
       "<Figure size 1500x800 with 1 Axes>"
      ]
     },
     "metadata": {},
     "output_type": "display_data"
    }
   ],
   "source": [
    "plt.figure(figsize=(15,8))\n",
    "sns.set_palette(\"pastel\")\n",
    "sns.countplot(y=\"Country\", data=data, order=data['Country'].value_counts().index[0:10])\n",
    "plt.title(\"Top 10 number of readers from each country \")"
   ]
  },
  {
   "cell_type": "code",
   "execution_count": 55,
   "id": "6d4db14f-8a9a-428f-baf5-ffd8950dc4cf",
   "metadata": {
    "tags": []
   },
   "outputs": [
    {
     "data": {
      "image/png": "[encoded data removed]",
      "text/plain": [
       "<Figure size 1500x600 with 1 Axes>"
      ]
     },
     "metadata": {},
     "output_type": "display_data"
    }
   ],
   "source": [
    "plt.figure(figsize=(15,6))\n",
    "sns.countplot(y=\"Book-Author\", data=df_books,order=df_books['Book-Author'].value_counts().index[0:15])\n",
    "plt.title(\"Books by an author\");"
   ]
  },
  {
   "cell_type": "code",
   "execution_count": 56,
   "id": "b42987ad-45f1-4b7b-9690-0c70dda8a893",
   "metadata": {
    "tags": []
   },
   "outputs": [
    {
     "data": {
      "text/plain": [
       "Text(0.5, 1.0, 'Number of Ratings for a book (Top 15)')"
      ]
     },
     "execution_count": 56,
     "metadata": {},
     "output_type": "execute_result"
    },
    {
     "data": {
      "image/png": "[encoded data removed]",
      "text/plain": [
       "<Figure size 1500x800 with 1 Axes>"
      ]
     },
     "metadata": {},
     "output_type": "display_data"
    }
   ],
   "source": [
    "plt.figure(figsize=(15,8))\n",
    "sns.countplot(y=\"Book-Title\", data=data1, order=data1['Book-Title'].value_counts().index[0:15])\n",
    "plt.title(\"Number of Ratings for a book (Top 15)\")"
   ]
  },
  {
   "cell_type": "code",
   "execution_count": 57,
   "id": "0eee724d-37e7-42f1-833a-28d3056d21a6",
   "metadata": {
    "tags": []
   },
   "outputs": [
    {
     "data": {
      "image/png": "[encoded data removed]",
      "text/plain": [
       "<Figure size 800x600 with 1 Axes>"
      ]
     },
     "metadata": {},
     "output_type": "display_data"
    }
   ],
   "source": [
    "plt.figure(figsize=(8,6))\n",
    "df_users.Age.hist(bins=[10*i for i in range(1, 10)])     \n",
    "plt.title('Age Distribution')\n",
    "plt.xlabel('Age')\n",
    "plt.ylabel('Count')\n",
    "plt.show()"
   ]
  },
  {
   "cell_type": "markdown",
   "id": "0eb6c9d9-cacc-4e44-983c-24b8ec253a4d",
   "metadata": {},
   "source": [
    "## Building recommendation system 💻\n",
    "- Recommendation based on the same author + weighted average\n",
    "- User-ID-Book matrix with ratings -> KNN\n",
    "- NLP"
   ]
  },
  {
   "cell_type": "code",
   "execution_count": 79,
   "id": "c327019f-518f-42cf-8d10-1e2ed2043d85",
   "metadata": {
    "tags": []
   },
   "outputs": [
    {
     "name": "stdin",
     "output_type": "stream",
     "text": [
      "Enter a book name:  Anglo-American Cataloguing Rules\n",
      "Enter number of books to recommend:  10\n"
     ]
    }
   ],
   "source": [
    "bookName = input(\"Enter a book name: \")\n",
    "number = int(input(\"Enter number of books to recommend: \"))\n",
    "\n",
    "#Lord of the Rings Trilogy\n",
    "#Harry Potter and the Sorcerer's Stone (Harry Potter (Paperback))\n",
    "#The Two Towers (The Lord of the Rings, Part 2)\n",
    "#Anglo-American Cataloguing Rules"
   ]
  },
  {
   "cell_type": "code",
   "execution_count": 59,
   "id": "b3d44118-7790-4a40-9c56-e18ed0fe3fa5",
   "metadata": {
    "tags": []
   },
   "outputs": [],
   "source": [
    "def avgRating(newdf, df):\n",
    "    newdf['Average Rating'] = 0\n",
    "    for x in range(len(newdf)):\n",
    "        l = list(df.loc[df['Book-Title'] == newdf['Book-Title'][x]]['Book-Rating'])\n",
    "        newdf['Average Rating'][x] = sum(l)/len(l)\n",
    "    return newdf"
   ]
  },
  {
   "cell_type": "code",
   "execution_count": 60,
   "id": "8179ef33-a197-49f0-9e8f-35bbbf92abb1",
   "metadata": {
    "tags": []
   },
   "outputs": [],
   "source": [
    "#df = pd.DataFrame(data1['Book-Title'].value_counts())\n",
    "#df['Total-Ratings'] = df['Book-Title']\n",
    "#df['Book-Title'] = df.index\n",
    "#df.reset_index(level=0, inplace=True)\n",
    "#df = df.drop('index',axis=1)\n",
    "#df = avgRating(df, data1)\n",
    "#df.to_pickle('weightedData')"
   ]
  },
  {
   "cell_type": "code",
   "execution_count": 61,
   "id": "dc17fd02-ef88-4f6d-b31e-7b6d9338ce0d",
   "metadata": {
    "tags": []
   },
   "outputs": [
    {
     "data": {
      "text/html": [
       "<div>\n",
       "<style scoped>\n",
       "    .dataframe tbody tr th:only-of-type {\n",
       "        vertical-align: middle;\n",
       "    }\n",
       "\n",
       "    .dataframe tbody tr th {\n",
       "        vertical-align: top;\n",
       "    }\n",
       "\n",
       "    .dataframe thead th {\n",
       "        text-align: right;\n",
       "    }\n",
       "</style>\n",
       "<table border=\"1\" class=\"dataframe\">\n",
       "  <thead>\n",
       "    <tr style=\"text-align: right;\">\n",
       "      <th></th>\n",
       "      <th>Book-Title</th>\n",
       "      <th>Total-Ratings</th>\n",
       "      <th>Average Rating</th>\n",
       "    </tr>\n",
       "  </thead>\n",
       "  <tbody>\n",
       "    <tr>\n",
       "      <th>0</th>\n",
       "      <td>The Lovely Bones: A Novel</td>\n",
       "      <td>707</td>\n",
       "      <td>8.185290</td>\n",
       "    </tr>\n",
       "    <tr>\n",
       "      <th>1</th>\n",
       "      <td>Wild Animus</td>\n",
       "      <td>581</td>\n",
       "      <td>4.390706</td>\n",
       "    </tr>\n",
       "    <tr>\n",
       "      <th>2</th>\n",
       "      <td>The Da Vinci Code</td>\n",
       "      <td>495</td>\n",
       "      <td>8.430303</td>\n",
       "    </tr>\n",
       "    <tr>\n",
       "      <th>3</th>\n",
       "      <td>The Secret Life of Bees</td>\n",
       "      <td>413</td>\n",
       "      <td>8.479419</td>\n",
       "    </tr>\n",
       "    <tr>\n",
       "      <th>4</th>\n",
       "      <td>The Nanny Diaries: A Novel</td>\n",
       "      <td>393</td>\n",
       "      <td>7.437659</td>\n",
       "    </tr>\n",
       "    <tr>\n",
       "      <th>...</th>\n",
       "      <td>...</td>\n",
       "      <td>...</td>\n",
       "      <td>...</td>\n",
       "    </tr>\n",
       "    <tr>\n",
       "      <th>135586</th>\n",
       "      <td>Pearl Buck's the Good Earth</td>\n",
       "      <td>1</td>\n",
       "      <td>5.000000</td>\n",
       "    </tr>\n",
       "    <tr>\n",
       "      <th>135587</th>\n",
       "      <td>Pearl S. Buck's Book of Christmas (G K Hall La...</td>\n",
       "      <td>1</td>\n",
       "      <td>5.000000</td>\n",
       "    </tr>\n",
       "    <tr>\n",
       "      <th>135588</th>\n",
       "      <td>Pearl S. Buck, the Story Bible</td>\n",
       "      <td>1</td>\n",
       "      <td>5.000000</td>\n",
       "    </tr>\n",
       "    <tr>\n",
       "      <th>135589</th>\n",
       "      <td>Mrs. Malory and Death in Practice (Sheila Malo...</td>\n",
       "      <td>1</td>\n",
       "      <td>8.000000</td>\n",
       "    </tr>\n",
       "    <tr>\n",
       "      <th>135590</th>\n",
       "      <td>Anglo-American Cataloguing Rules</td>\n",
       "      <td>1</td>\n",
       "      <td>6.000000</td>\n",
       "    </tr>\n",
       "  </tbody>\n",
       "</table>\n",
       "<p>135591 rows × 3 columns</p>\n",
       "</div>"
      ],
      "text/plain": [
       "                                               Book-Title  Total-Ratings  \\\n",
       "0                               The Lovely Bones: A Novel            707   \n",
       "1                                             Wild Animus            581   \n",
       "2                                       The Da Vinci Code            495   \n",
       "3                                 The Secret Life of Bees            413   \n",
       "4                              The Nanny Diaries: A Novel            393   \n",
       "...                                                   ...            ...   \n",
       "135586                        Pearl Buck's the Good Earth              1   \n",
       "135587  Pearl S. Buck's Book of Christmas (G K Hall La...              1   \n",
       "135588                     Pearl S. Buck, the Story Bible              1   \n",
       "135589  Mrs. Malory and Death in Practice (Sheila Malo...              1   \n",
       "135590                   Anglo-American Cataloguing Rules              1   \n",
       "\n",
       "        Average Rating  \n",
       "0             8.185290  \n",
       "1             4.390706  \n",
       "2             8.430303  \n",
       "3             8.479419  \n",
       "4             7.437659  \n",
       "...                ...  \n",
       "135586        5.000000  \n",
       "135587        5.000000  \n",
       "135588        5.000000  \n",
       "135589        8.000000  \n",
       "135590        6.000000  \n",
       "\n",
       "[135591 rows x 3 columns]"
      ]
     },
     "execution_count": 61,
     "metadata": {},
     "output_type": "execute_result"
    }
   ],
   "source": [
    "df = pd.read_pickle('weightedData')\n",
    "df"
   ]
  },
  {
   "cell_type": "code",
   "execution_count": 62,
   "id": "3d4ec720-aa19-4c7e-b765-524fb27a2038",
   "metadata": {
    "tags": []
   },
   "outputs": [],
   "source": [
    "#C - Mean vote across the whole\n",
    "C = df['Average Rating'].mean()\n",
    "\n",
    "#Minimum number of votes required to be in the chart\n",
    "m = df['Total-Ratings'].quantile(0.90)"
   ]
  },
  {
   "cell_type": "code",
   "execution_count": 63,
   "id": "276847ef-3ee3-4ef6-97a6-2d4b03abc763",
   "metadata": {
    "tags": []
   },
   "outputs": [
    {
     "data": {
      "text/plain": [
       "(7.522866770689833, 5.0)"
      ]
     },
     "execution_count": 63,
     "metadata": {},
     "output_type": "execute_result"
    }
   ],
   "source": [
    "C,m"
   ]
  },
  {
   "cell_type": "code",
   "execution_count": 64,
   "id": "08741747-5b51-4335-bdd9-4c7cb9f709ce",
   "metadata": {
    "tags": []
   },
   "outputs": [],
   "source": [
    "def weighted_rating(x, m=m, C=C): \n",
    "    v = x['Total-Ratings']    #v - number of votes\n",
    "    R = x['Average Rating']   #R - Average Rating   \n",
    "    return (v/(v+m) * R) + (m/(m+v) * C)"
   ]
  },
  {
   "cell_type": "markdown",
   "id": "0bd8a375-4080-4bc3-aed7-26673b6a3aac",
   "metadata": {
    "tags": []
   },
   "source": [
    "$$\n",
    "WeightedRating = (\\tfrac{v}{v+m} \\times R) + (\\tfrac{m}{m+v} \\times C)\n",
    "$$"
   ]
  },
  {
   "cell_type": "code",
   "execution_count": 65,
   "id": "387a1ee2-da8b-4b53-a3d5-cdc9c6a090b9",
   "metadata": {},
   "outputs": [
    {
     "name": "stdout",
     "output_type": "stream",
     "text": [
      "<class 'pandas.core.frame.DataFrame'>\n",
      "Int64Index: 135591 entries, 1877 to 1\n",
      "Data columns (total 4 columns):\n",
      " #   Column          Non-Null Count   Dtype  \n",
      "---  ------          --------------   -----  \n",
      " 0   Book-Title      135591 non-null  object \n",
      " 1   Total-Ratings   135591 non-null  int64  \n",
      " 2   Average Rating  135591 non-null  float64\n",
      " 3   Score           135591 non-null  float64\n",
      "dtypes: float64(2), int64(1), object(1)\n",
      "memory usage: 5.2+ MB\n"
     ]
    }
   ],
   "source": [
    "#df = df.loc[df['Total-Ratings'] >= m]\n",
    "df['Score'] = df.apply(weighted_rating, axis=1)\n",
    "df = df.sort_values('Score', ascending=False)\n",
    "df.info()"
   ]
  },
  {
   "cell_type": "code",
   "execution_count": 66,
   "id": "d5f65a7a",
   "metadata": {
    "tags": []
   },
   "outputs": [],
   "source": [
    "data1['Score'] = data1['Book-Title'].map(df.set_index('Book-Title')['Score'])\n",
    "data1['Total-Ratings'] = data1['Book-Title'].map(df.set_index('Book-Title')['Total-Ratings'])"
   ]
  },
  {
   "cell_type": "code",
   "execution_count": 72,
   "id": "ab2922c6-586f-4c9b-b8eb-71221411462e",
   "metadata": {
    "tags": []
   },
   "outputs": [],
   "source": [
    "def printBook(k, n):\n",
    "    z = k['Book-Title'].unique()\n",
    "    y = k['Image-URL-L'].unique()\n",
    "    for x in range(len(z)):\n",
    "        print(z[x])\n",
    "        try:\n",
    "            display(Image(url= y[x], width=100))\n",
    "        except:\n",
    "            pass\n",
    "        if x >= n-1:\n",
    "            break"
   ]
  },
  {
   "cell_type": "code",
   "execution_count": 68,
   "id": "122afc1a-db82-4301-b260-d7687fc045e7",
   "metadata": {
    "tags": []
   },
   "outputs": [],
   "source": [
    "def get_books(dataframe, name, n):\n",
    "    #print(\"\\nBooks by same Author:\\n\")\n",
    "    au = dataframe['Book-Author'].unique()\n",
    "\n",
    "    data = data1[data1['Book-Title'] != name]\n",
    "\n",
    "    if au[0] in list(data['Book-Author'].unique()):\n",
    "        k2 = data[data['Book-Author'] == au[0]]\n",
    "        print(type(k2))\n",
    "    k2 = k2.sort_values(by=['Score'], ascending = False)\n",
    "    printBook(k2, n)"
   ]
  },
  {
   "cell_type": "code",
   "execution_count": 73,
   "id": "22800f05-0990-4b09-aad2-8732a2c07b75",
   "metadata": {
    "tags": []
   },
   "outputs": [],
   "source": [
    "#n\n",
    "def get_books(author, n, data):\n",
    "    if author in list(data['Book-Author'].unique()):\n",
    "        k2 = data[data['Book-Author'] == author]\n",
    "        k2 = k2.sort_values(by=['Score'], ascending = False)\n",
    "        printBook(k2, n)\n",
    "    else:\n",
    "        print('No more books from the same author')"
   ]
  },
  {
   "cell_type": "code",
   "execution_count": 78,
   "id": "1869ba87-b86c-4330-a434-37b6fccf28fc",
   "metadata": {
    "tags": []
   },
   "outputs": [
    {
     "name": "stdout",
     "output_type": "stream",
     "text": [
      "Recommended Top 10 books for Lord of the Rings Trilogy:\n",
      "\n",
      "The Two Towers (The Lord of the Rings, Part 2)\n"
     ]
    },
    {
     "data": {
      "text/html": [
       "<img src=\"http://images.amazon.com/images/P/0618260595.01.LZZZZZZZ.jpg\" width=\"100\"/>"
      ],
      "text/plain": [
       "<IPython.core.display.Image object>"
      ]
     },
     "metadata": {},
     "output_type": "display_data"
    },
    {
     "name": "stdout",
     "output_type": "stream",
     "text": [
      "The Return of the King (The Lord of the Rings, Part 3)\n"
     ]
    },
    {
     "data": {
      "text/html": [
       "<img src=\"http://images.amazon.com/images/P/0618260552.01.LZZZZZZZ.jpg\" width=\"100\"/>"
      ],
      "text/plain": [
       "<IPython.core.display.Image object>"
      ]
     },
     "metadata": {},
     "output_type": "display_data"
    },
    {
     "name": "stdout",
     "output_type": "stream",
     "text": [
      "The Hobbit\n"
     ]
    },
    {
     "data": {
      "text/html": [
       "<img src=\"http://images.amazon.com/images/P/0261103288.01.LZZZZZZZ.jpg\" width=\"100\"/>"
      ],
      "text/plain": [
       "<IPython.core.display.Image object>"
      ]
     },
     "metadata": {},
     "output_type": "display_data"
    },
    {
     "name": "stdout",
     "output_type": "stream",
     "text": [
      "The Lord of the Rings (Movie Art Cover)\n"
     ]
    },
    {
     "data": {
      "text/html": [
       "<img src=\"http://images.amazon.com/images/P/0618129022.01.LZZZZZZZ.jpg\" width=\"100\"/>"
      ],
      "text/plain": [
       "<IPython.core.display.Image object>"
      ]
     },
     "metadata": {},
     "output_type": "display_data"
    },
    {
     "name": "stdout",
     "output_type": "stream",
     "text": [
      "The Fellowship of the Ring (The Lord of the Rings, Part 1)\n"
     ]
    },
    {
     "data": {
      "text/html": [
       "<img src=\"http://images.amazon.com/images/P/0618153985.01.LZZZZZZZ.jpg\" width=\"100\"/>"
      ],
      "text/plain": [
       "<IPython.core.display.Image object>"
      ]
     },
     "metadata": {},
     "output_type": "display_data"
    },
    {
     "name": "stdout",
     "output_type": "stream",
     "text": [
      "The Fellowship of the Ring (Lord of the Rings (Paperback))\n"
     ]
    },
    {
     "data": {
      "text/html": [
       "<img src=\"http://images.amazon.com/images/P/0808520768.01.LZZZZZZZ.jpg\" width=\"100\"/>"
      ],
      "text/plain": [
       "<IPython.core.display.Image object>"
      ]
     },
     "metadata": {},
     "output_type": "display_data"
    },
    {
     "name": "stdout",
     "output_type": "stream",
     "text": [
      "The Hobbit: or There and Back Again\n"
     ]
    },
    {
     "data": {
      "text/html": [
       "<img src=\"http://images.amazon.com/images/P/0618002219.01.LZZZZZZZ.jpg\" width=\"100\"/>"
      ],
      "text/plain": [
       "<IPython.core.display.Image object>"
      ]
     },
     "metadata": {},
     "output_type": "display_data"
    },
    {
     "name": "stdout",
     "output_type": "stream",
     "text": [
      "The Return of the King (Lord of the Rings (Paperback))\n"
     ]
    },
    {
     "data": {
      "text/html": [
       "<img src=\"http://images.amazon.com/images/P/0808520857.01.LZZZZZZZ.jpg\" width=\"100\"/>"
      ],
      "text/plain": [
       "<IPython.core.display.Image object>"
      ]
     },
     "metadata": {},
     "output_type": "display_data"
    },
    {
     "name": "stdout",
     "output_type": "stream",
     "text": [
      "The Return of the King (The Lord of the Rings Part 3)\n"
     ]
    },
    {
     "data": {
      "text/html": [
       "<img src=\"http://images.amazon.com/images/P/0965307794.01.LZZZZZZZ.jpg\" width=\"100\"/>"
      ],
      "text/plain": [
       "<IPython.core.display.Image object>"
      ]
     },
     "metadata": {},
     "output_type": "display_data"
    },
    {
     "name": "stdout",
     "output_type": "stream",
     "text": [
      "The Silmarillion\n"
     ]
    },
    {
     "data": {
      "text/html": [
       "<img src=\"http://images.amazon.com/images/P/0618126988.01.LZZZZZZZ.jpg\" width=\"100\"/>"
      ],
      "text/plain": [
       "<IPython.core.display.Image object>"
      ]
     },
     "metadata": {},
     "output_type": "display_data"
    }
   ],
   "source": [
    "#n\n",
    "#Recommend books with the same author\n",
    "print(f'Recommended Top {number} books for {bookName}:\\n')\n",
    "if bookName in list(data1['Book-Title'].unique()):\n",
    "    author = data1[data1['Book-Title'] == bookName]['Book-Author'].tolist()[0]\n",
    "    data = data1[data1['Book-Title'] != bookName]\n",
    "    get_books(author, number, data)\n",
    "else:\n",
    "    print(\"Invalid Book Name!!\")"
   ]
  },
  {
   "cell_type": "code",
   "execution_count": 76,
   "id": "98688900-f1fa-4f51-8588-3f6165843bf8",
   "metadata": {
    "tags": []
   },
   "outputs": [
    {
     "name": "stdout",
     "output_type": "stream",
     "text": [
      "Recommended Top 10 books for Harry Potter and the Sorcerer's Stone (Harry Potter (Paperback)):\n",
      "\n",
      "Harry Potter and the Chamber of Secrets Postcard Book\n"
     ]
    },
    {
     "data": {
      "text/html": [
       "<img src=\"http://images.amazon.com/images/P/0439425220.01.LZZZZZZZ.jpg\" width=\"100\"/>"
      ],
      "text/plain": [
       "<IPython.core.display.Image object>"
      ]
     },
     "metadata": {},
     "output_type": "display_data"
    },
    {
     "name": "stdout",
     "output_type": "stream",
     "text": [
      "Harry Potter and the Goblet of Fire (Book 4)\n"
     ]
    },
    {
     "data": {
      "text/html": [
       "<img src=\"http://images.amazon.com/images/P/0439139597.01.LZZZZZZZ.jpg\" width=\"100\"/>"
      ],
      "text/plain": [
       "<IPython.core.display.Image object>"
      ]
     },
     "metadata": {},
     "output_type": "display_data"
    },
    {
     "name": "stdout",
     "output_type": "stream",
     "text": [
      "Harry Potter and the Sorcerer's Stone (Book 1)\n"
     ]
    },
    {
     "data": {
      "text/html": [
       "<img src=\"http://images.amazon.com/images/P/0439139600.01.LZZZZZZZ.jpg\" width=\"100\"/>"
      ],
      "text/plain": [
       "<IPython.core.display.Image object>"
      ]
     },
     "metadata": {},
     "output_type": "display_data"
    },
    {
     "name": "stdout",
     "output_type": "stream",
     "text": [
      "Harry Potter and the Prisoner of Azkaban (Book 3)\n"
     ]
    },
    {
     "data": {
      "text/html": [
       "<img src=\"http://images.amazon.com/images/P/0590353403.01.LZZZZZZZ.jpg\" width=\"100\"/>"
      ],
      "text/plain": [
       "<IPython.core.display.Image object>"
      ]
     },
     "metadata": {},
     "output_type": "display_data"
    },
    {
     "name": "stdout",
     "output_type": "stream",
     "text": [
      "Harry Potter and the Order of the Phoenix (Book 5)\n"
     ]
    },
    {
     "data": {
      "text/html": [
       "<img src=\"http://images.amazon.com/images/P/043936213X.01.LZZZZZZZ.jpg\" width=\"100\"/>"
      ],
      "text/plain": [
       "<IPython.core.display.Image object>"
      ]
     },
     "metadata": {},
     "output_type": "display_data"
    },
    {
     "name": "stdout",
     "output_type": "stream",
     "text": [
      "Harry Potter und der Gefangene von Azkaban\n"
     ]
    },
    {
     "data": {
      "text/html": [
       "<img src=\"http://images.amazon.com/images/P/043920352X.01.LZZZZZZZ.jpg\" width=\"100\"/>"
      ],
      "text/plain": [
       "<IPython.core.display.Image object>"
      ]
     },
     "metadata": {},
     "output_type": "display_data"
    },
    {
     "name": "stdout",
     "output_type": "stream",
     "text": [
      "Harry Potter and the Chamber of Secrets (Book 2)\n"
     ]
    },
    {
     "data": {
      "text/html": [
       "<img src=\"http://images.amazon.com/images/P/0439136369.01.LZZZZZZZ.jpg\" width=\"100\"/>"
      ],
      "text/plain": [
       "<IPython.core.display.Image object>"
      ]
     },
     "metadata": {},
     "output_type": "display_data"
    },
    {
     "name": "stdout",
     "output_type": "stream",
     "text": [
      "Harry Potter y el prisionero de Azkaban\n"
     ]
    },
    {
     "data": {
      "text/html": [
       "<img src=\"http://images.amazon.com/images/P/0439136350.01.LZZZZZZZ.jpg\" width=\"100\"/>"
      ],
      "text/plain": [
       "<IPython.core.display.Image object>"
      ]
     },
     "metadata": {},
     "output_type": "display_data"
    },
    {
     "name": "stdout",
     "output_type": "stream",
     "text": [
      "Harry Potter et la chambre des secrets\n"
     ]
    },
    {
     "data": {
      "text/html": [
       "<img src=\"http://images.amazon.com/images/P/0786222743.01.LZZZZZZZ.jpg\" width=\"100\"/>"
      ],
      "text/plain": [
       "<IPython.core.display.Image object>"
      ]
     },
     "metadata": {},
     "output_type": "display_data"
    },
    {
     "name": "stdout",
     "output_type": "stream",
     "text": [
      "Harry Potter and the Sorcerer's Stone (Book 1 Audio CD)\n"
     ]
    },
    {
     "data": {
      "text/html": [
       "<img src=\"http://images.amazon.com/images/P/043935806X.01.LZZZZZZZ.jpg\" width=\"100\"/>"
      ],
      "text/plain": [
       "<IPython.core.display.Image object>"
      ]
     },
     "metadata": {},
     "output_type": "display_data"
    }
   ],
   "source": [
    "#n\n",
    "#Recommend books with the same author\n",
    "print(f'Recommended Top {number} books for {bookName}:\\n')\n",
    "if bookName in list(data1['Book-Title'].unique()):\n",
    "    author = data1[data1['Book-Title'] == bookName]['Book-Author'].tolist()[0]\n",
    "    data = data1[data1['Book-Title'] != bookName]\n",
    "    get_books(author, number, data)\n",
    "else:\n",
    "    print(\"Invalid Book Name!!\")"
   ]
  },
  {
   "cell_type": "code",
   "execution_count": 80,
   "id": "0d38d71e-2a0f-454c-9f07-14d856365515",
   "metadata": {
    "tags": []
   },
   "outputs": [
    {
     "name": "stdout",
     "output_type": "stream",
     "text": [
      "Recommended Top 10 books for Anglo-American Cataloguing Rules:\n",
      "\n",
      "No more books from the same author\n"
     ]
    }
   ],
   "source": [
    "#n\n",
    "#Recommend books with the same author\n",
    "print(f'Recommended Top {number} books for {bookName}:\\n')\n",
    "if bookName in list(data1['Book-Title'].unique()):\n",
    "    author = data1[data1['Book-Title'] == bookName]['Book-Author'].tolist()[0]\n",
    "    data = data1[data1['Book-Title'] != bookName]\n",
    "    get_books(author, number, data)\n",
    "else:\n",
    "    print(\"Invalid Book Name!!\")"
   ]
  },
  {
   "cell_type": "markdown",
   "id": "794f0684-744a-4bd4-bbf2-7863f19e34b5",
   "metadata": {
    "tags": []
   },
   "source": [
    "<div class=\"alert alert-block alert-success\">  \n",
    "<b>➕ \n",
    "computationally simple \n",
    "</div>"
   ]
  },
  {
   "cell_type": "markdown",
   "id": "956dba3f-915a-4ee3-8c29-a91499dc3534",
   "metadata": {
    "tags": []
   },
   "source": [
    "<div class=\"alert alert-block alert-danger\">  \n",
    "<b>➖ \n",
    "very naive, not personalized approach\n",
    "</div>"
   ]
  },
  {
   "cell_type": "markdown",
   "id": "a2d1ad92-9f84-45d4-9455-100458edbfbc",
   "metadata": {
    "tags": []
   },
   "source": [
    "-------------------------------------"
   ]
  },
  {
   "cell_type": "markdown",
   "id": "f47e2c63-164b-44cb-a1f9-5412c885bbaa",
   "metadata": {},
   "source": [
    "### Collaborative filtering KNN "
   ]
  },
  {
   "cell_type": "code",
   "execution_count": 88,
   "id": "12ebbf1b-527f-492f-a595-4b350e53e9be",
   "metadata": {
    "tags": []
   },
   "outputs": [],
   "source": [
    "popularity_threshold = 5\n",
    "data_result = data1[data1['Total-Ratings'] >= popularity_threshold]\n",
    "data_result = data_result.reset_index(drop = True)"
   ]
  },
  {
   "cell_type": "code",
   "execution_count": 89,
   "id": "e1fb2cc1-c4dc-473c-9368-0b9e371582a0",
   "metadata": {
    "tags": []
   },
   "outputs": [
    {
     "data": {
      "text/html": [
       "<div>\n",
       "<style scoped>\n",
       "    .dataframe tbody tr th:only-of-type {\n",
       "        vertical-align: middle;\n",
       "    }\n",
       "\n",
       "    .dataframe tbody tr th {\n",
       "        vertical-align: top;\n",
       "    }\n",
       "\n",
       "    .dataframe thead th {\n",
       "        text-align: right;\n",
       "    }\n",
       "</style>\n",
       "<table border=\"1\" class=\"dataframe\">\n",
       "  <thead>\n",
       "    <tr style=\"text-align: right;\">\n",
       "      <th></th>\n",
       "      <th>ISBN</th>\n",
       "      <th>Book-Title</th>\n",
       "      <th>Book-Author</th>\n",
       "      <th>Year-Of-Publication</th>\n",
       "      <th>Publisher</th>\n",
       "      <th>Image-URL-L</th>\n",
       "      <th>User-ID</th>\n",
       "      <th>Book-Rating</th>\n",
       "      <th>Age</th>\n",
       "      <th>City</th>\n",
       "      <th>State</th>\n",
       "      <th>Country</th>\n",
       "      <th>Score</th>\n",
       "      <th>Total-Ratings</th>\n",
       "    </tr>\n",
       "  </thead>\n",
       "  <tbody>\n",
       "    <tr>\n",
       "      <th>0</th>\n",
       "      <td>0002005018</td>\n",
       "      <td>Clara Callan</td>\n",
       "      <td>Richard Bruce Wright</td>\n",
       "      <td>2001</td>\n",
       "      <td>HarperFlamingo Canada</td>\n",
       "      <td>http://images.amazon.com/images/P/0002005018.0...</td>\n",
       "      <td>8</td>\n",
       "      <td>5</td>\n",
       "      <td>35</td>\n",
       "      <td>timmins</td>\n",
       "      <td>ontario</td>\n",
       "      <td>canada</td>\n",
       "      <td>7.615310</td>\n",
       "      <td>9</td>\n",
       "    </tr>\n",
       "    <tr>\n",
       "      <th>1</th>\n",
       "      <td>0786868716</td>\n",
       "      <td>The Five People You Meet in Heaven</td>\n",
       "      <td>Mitch Albom</td>\n",
       "      <td>2003</td>\n",
       "      <td>Hyperion</td>\n",
       "      <td>http://images.amazon.com/images/P/0786868716.0...</td>\n",
       "      <td>11400</td>\n",
       "      <td>9</td>\n",
       "      <td>49</td>\n",
       "      <td>ottawa</td>\n",
       "      <td>ontario</td>\n",
       "      <td>canada</td>\n",
       "      <td>8.010499</td>\n",
       "      <td>244</td>\n",
       "    </tr>\n",
       "    <tr>\n",
       "      <th>2</th>\n",
       "      <td>0151008116</td>\n",
       "      <td>Life of Pi</td>\n",
       "      <td>Yann Martel</td>\n",
       "      <td>2002</td>\n",
       "      <td>Harcourt</td>\n",
       "      <td>http://images.amazon.com/images/P/0151008116.0...</td>\n",
       "      <td>11400</td>\n",
       "      <td>6</td>\n",
       "      <td>49</td>\n",
       "      <td>ottawa</td>\n",
       "      <td>ontario</td>\n",
       "      <td>canada</td>\n",
       "      <td>8.069048</td>\n",
       "      <td>337</td>\n",
       "    </tr>\n",
       "    <tr>\n",
       "      <th>3</th>\n",
       "      <td>0312195516</td>\n",
       "      <td>The Red Tent (Bestselling Backlist)</td>\n",
       "      <td>Anita Diamant</td>\n",
       "      <td>1998</td>\n",
       "      <td>Picador USA</td>\n",
       "      <td>http://images.amazon.com/images/P/0312195516.0...</td>\n",
       "      <td>11400</td>\n",
       "      <td>7</td>\n",
       "      <td>49</td>\n",
       "      <td>ottawa</td>\n",
       "      <td>ontario</td>\n",
       "      <td>canada</td>\n",
       "      <td>8.174264</td>\n",
       "      <td>383</td>\n",
       "    </tr>\n",
       "    <tr>\n",
       "      <th>4</th>\n",
       "      <td>0316789089</td>\n",
       "      <td>The Pilot's Wife : A Novel Tag: Author of the ...</td>\n",
       "      <td>Anita Shreve</td>\n",
       "      <td>1999</td>\n",
       "      <td>Little, Brown</td>\n",
       "      <td>http://images.amazon.com/images/P/0316789089.0...</td>\n",
       "      <td>11400</td>\n",
       "      <td>7</td>\n",
       "      <td>49</td>\n",
       "      <td>ottawa</td>\n",
       "      <td>ontario</td>\n",
       "      <td>canada</td>\n",
       "      <td>7.737348</td>\n",
       "      <td>65</td>\n",
       "    </tr>\n",
       "    <tr>\n",
       "      <th>...</th>\n",
       "      <td>...</td>\n",
       "      <td>...</td>\n",
       "      <td>...</td>\n",
       "      <td>...</td>\n",
       "      <td>...</td>\n",
       "      <td>...</td>\n",
       "      <td>...</td>\n",
       "      <td>...</td>\n",
       "      <td>...</td>\n",
       "      <td>...</td>\n",
       "      <td>...</td>\n",
       "      <td>...</td>\n",
       "      <td>...</td>\n",
       "      <td>...</td>\n",
       "    </tr>\n",
       "    <tr>\n",
       "      <th>210897</th>\n",
       "      <td>034539092X</td>\n",
       "      <td>The Great Train Robbery</td>\n",
       "      <td>Michael Crichton</td>\n",
       "      <td>1995</td>\n",
       "      <td>Ballantine Books</td>\n",
       "      <td>http://images.amazon.com/images/P/034539092X.0...</td>\n",
       "      <td>35508</td>\n",
       "      <td>8</td>\n",
       "      <td>35</td>\n",
       "      <td>edmonton</td>\n",
       "      <td>alberta</td>\n",
       "      <td>canada</td>\n",
       "      <td>7.843369</td>\n",
       "      <td>23</td>\n",
       "    </tr>\n",
       "    <tr>\n",
       "      <th>210898</th>\n",
       "      <td>034539092X</td>\n",
       "      <td>The Great Train Robbery</td>\n",
       "      <td>Michael Crichton</td>\n",
       "      <td>1995</td>\n",
       "      <td>Ballantine Books</td>\n",
       "      <td>http://images.amazon.com/images/P/034539092X.0...</td>\n",
       "      <td>108362</td>\n",
       "      <td>5</td>\n",
       "      <td>35</td>\n",
       "      <td>atlanta</td>\n",
       "      <td>georgia</td>\n",
       "      <td>usa</td>\n",
       "      <td>7.843369</td>\n",
       "      <td>23</td>\n",
       "    </tr>\n",
       "    <tr>\n",
       "      <th>210899</th>\n",
       "      <td>1853716154</td>\n",
       "      <td>Lucy Sullivan Is Getting Married</td>\n",
       "      <td>Marian Keyes</td>\n",
       "      <td>1996</td>\n",
       "      <td>Poolbeg Pr Ltd</td>\n",
       "      <td>http://images.amazon.com/images/P/1853716154.0...</td>\n",
       "      <td>243368</td>\n",
       "      <td>2</td>\n",
       "      <td>35</td>\n",
       "      <td>alkmaar</td>\n",
       "      <td>noordholland</td>\n",
       "      <td>netherlands</td>\n",
       "      <td>7.100398</td>\n",
       "      <td>31</td>\n",
       "    </tr>\n",
       "    <tr>\n",
       "      <th>210900</th>\n",
       "      <td>0152049266</td>\n",
       "      <td>The Window</td>\n",
       "      <td>Jeanette Ingold</td>\n",
       "      <td>2003</td>\n",
       "      <td>Harcourt Paperbacks</td>\n",
       "      <td>http://images.amazon.com/images/P/0152049266.0...</td>\n",
       "      <td>245444</td>\n",
       "      <td>8</td>\n",
       "      <td>18</td>\n",
       "      <td>linclon</td>\n",
       "      <td>nebraska</td>\n",
       "      <td>usa</td>\n",
       "      <td>7.161433</td>\n",
       "      <td>5</td>\n",
       "    </tr>\n",
       "    <tr>\n",
       "      <th>210901</th>\n",
       "      <td>087004124X</td>\n",
       "      <td>Anthem</td>\n",
       "      <td>Ayn Rand</td>\n",
       "      <td>1966</td>\n",
       "      <td>Caxton Press</td>\n",
       "      <td>http://images.amazon.com/images/P/087004124X.0...</td>\n",
       "      <td>259589</td>\n",
       "      <td>8</td>\n",
       "      <td>19</td>\n",
       "      <td>venice</td>\n",
       "      <td>florida</td>\n",
       "      <td>usa</td>\n",
       "      <td>7.919389</td>\n",
       "      <td>37</td>\n",
       "    </tr>\n",
       "  </tbody>\n",
       "</table>\n",
       "<p>210902 rows × 14 columns</p>\n",
       "</div>"
      ],
      "text/plain": [
       "              ISBN                                         Book-Title  \\\n",
       "0       0002005018                                       Clara Callan   \n",
       "1       0786868716                 The Five People You Meet in Heaven   \n",
       "2       0151008116                                         Life of Pi   \n",
       "3       0312195516                The Red Tent (Bestselling Backlist)   \n",
       "4       0316789089  The Pilot's Wife : A Novel Tag: Author of the ...   \n",
       "...            ...                                                ...   \n",
       "210897  034539092X                            The Great Train Robbery   \n",
       "210898  034539092X                            The Great Train Robbery   \n",
       "210899  1853716154                   Lucy Sullivan Is Getting Married   \n",
       "210900  0152049266                                         The Window   \n",
       "210901  087004124X                                             Anthem   \n",
       "\n",
       "                 Book-Author  Year-Of-Publication              Publisher  \\\n",
       "0       Richard Bruce Wright                 2001  HarperFlamingo Canada   \n",
       "1                Mitch Albom                 2003               Hyperion   \n",
       "2                Yann Martel                 2002               Harcourt   \n",
       "3              Anita Diamant                 1998            Picador USA   \n",
       "4               Anita Shreve                 1999          Little, Brown   \n",
       "...                      ...                  ...                    ...   \n",
       "210897      Michael Crichton                 1995       Ballantine Books   \n",
       "210898      Michael Crichton                 1995       Ballantine Books   \n",
       "210899          Marian Keyes                 1996         Poolbeg Pr Ltd   \n",
       "210900       Jeanette Ingold                 2003    Harcourt Paperbacks   \n",
       "210901              Ayn Rand                 1966           Caxton Press   \n",
       "\n",
       "                                              Image-URL-L  User-ID  \\\n",
       "0       http://images.amazon.com/images/P/0002005018.0...        8   \n",
       "1       http://images.amazon.com/images/P/0786868716.0...    11400   \n",
       "2       http://images.amazon.com/images/P/0151008116.0...    11400   \n",
       "3       http://images.amazon.com/images/P/0312195516.0...    11400   \n",
       "4       http://images.amazon.com/images/P/0316789089.0...    11400   \n",
       "...                                                   ...      ...   \n",
       "210897  http://images.amazon.com/images/P/034539092X.0...    35508   \n",
       "210898  http://images.amazon.com/images/P/034539092X.0...   108362   \n",
       "210899  http://images.amazon.com/images/P/1853716154.0...   243368   \n",
       "210900  http://images.amazon.com/images/P/0152049266.0...   245444   \n",
       "210901  http://images.amazon.com/images/P/087004124X.0...   259589   \n",
       "\n",
       "        Book-Rating  Age      City         State      Country     Score  \\\n",
       "0                 5   35   timmins       ontario       canada  7.615310   \n",
       "1                 9   49    ottawa       ontario       canada  8.010499   \n",
       "2                 6   49    ottawa       ontario       canada  8.069048   \n",
       "3                 7   49    ottawa       ontario       canada  8.174264   \n",
       "4                 7   49    ottawa       ontario       canada  7.737348   \n",
       "...             ...  ...       ...           ...          ...       ...   \n",
       "210897            8   35  edmonton       alberta       canada  7.843369   \n",
       "210898            5   35   atlanta       georgia          usa  7.843369   \n",
       "210899            2   35   alkmaar  noordholland  netherlands  7.100398   \n",
       "210900            8   18   linclon      nebraska          usa  7.161433   \n",
       "210901            8   19    venice       florida          usa  7.919389   \n",
       "\n",
       "        Total-Ratings  \n",
       "0                   9  \n",
       "1                 244  \n",
       "2                 337  \n",
       "3                 383  \n",
       "4                  65  \n",
       "...               ...  \n",
       "210897             23  \n",
       "210898             23  \n",
       "210899             31  \n",
       "210900              5  \n",
       "210901             37  \n",
       "\n",
       "[210902 rows x 14 columns]"
      ]
     },
     "execution_count": 89,
     "metadata": {},
     "output_type": "execute_result"
    }
   ],
   "source": [
    "data_result"
   ]
  },
  {
   "cell_type": "code",
   "execution_count": 90,
   "id": "c23e2452-4d60-46a9-934a-3165aec220d6",
   "metadata": {
    "tags": []
   },
   "outputs": [
    {
     "data": {
      "text/html": [
       "<div>\n",
       "<style scoped>\n",
       "    .dataframe tbody tr th:only-of-type {\n",
       "        vertical-align: middle;\n",
       "    }\n",
       "\n",
       "    .dataframe tbody tr th {\n",
       "        vertical-align: top;\n",
       "    }\n",
       "\n",
       "    .dataframe thead th {\n",
       "        text-align: right;\n",
       "    }\n",
       "</style>\n",
       "<table border=\"1\" class=\"dataframe\">\n",
       "  <thead>\n",
       "    <tr style=\"text-align: right;\">\n",
       "      <th>User-ID</th>\n",
       "      <th>8</th>\n",
       "      <th>9</th>\n",
       "      <th>16</th>\n",
       "      <th>17</th>\n",
       "      <th>19</th>\n",
       "      <th>26</th>\n",
       "      <th>32</th>\n",
       "      <th>39</th>\n",
       "      <th>42</th>\n",
       "      <th>44</th>\n",
       "      <th>...</th>\n",
       "      <th>278831</th>\n",
       "      <th>278832</th>\n",
       "      <th>278836</th>\n",
       "      <th>278843</th>\n",
       "      <th>278844</th>\n",
       "      <th>278846</th>\n",
       "      <th>278849</th>\n",
       "      <th>278851</th>\n",
       "      <th>278852</th>\n",
       "      <th>278854</th>\n",
       "    </tr>\n",
       "    <tr>\n",
       "      <th>Book-Title</th>\n",
       "      <th></th>\n",
       "      <th></th>\n",
       "      <th></th>\n",
       "      <th></th>\n",
       "      <th></th>\n",
       "      <th></th>\n",
       "      <th></th>\n",
       "      <th></th>\n",
       "      <th></th>\n",
       "      <th></th>\n",
       "      <th></th>\n",
       "      <th></th>\n",
       "      <th></th>\n",
       "      <th></th>\n",
       "      <th></th>\n",
       "      <th></th>\n",
       "      <th></th>\n",
       "      <th></th>\n",
       "      <th></th>\n",
       "      <th></th>\n",
       "      <th></th>\n",
       "    </tr>\n",
       "  </thead>\n",
       "  <tbody>\n",
       "    <tr>\n",
       "      <th>Earth Prayers From around the World: 365 Prayers, Poems, and Invocations for Honoring the Earth</th>\n",
       "      <td>0.0</td>\n",
       "      <td>0.0</td>\n",
       "      <td>0.0</td>\n",
       "      <td>0.0</td>\n",
       "      <td>0.0</td>\n",
       "      <td>0.0</td>\n",
       "      <td>0.0</td>\n",
       "      <td>0.0</td>\n",
       "      <td>0.0</td>\n",
       "      <td>0.0</td>\n",
       "      <td>...</td>\n",
       "      <td>0.0</td>\n",
       "      <td>0.0</td>\n",
       "      <td>0.0</td>\n",
       "      <td>0.0</td>\n",
       "      <td>0.0</td>\n",
       "      <td>0.0</td>\n",
       "      <td>0.0</td>\n",
       "      <td>0.0</td>\n",
       "      <td>0.0</td>\n",
       "      <td>0.0</td>\n",
       "    </tr>\n",
       "    <tr>\n",
       "      <th>Lamb to the Slaughter and Other Stories (Penguin 60s S.)\"</th>\n",
       "      <td>0.0</td>\n",
       "      <td>0.0</td>\n",
       "      <td>0.0</td>\n",
       "      <td>0.0</td>\n",
       "      <td>0.0</td>\n",
       "      <td>0.0</td>\n",
       "      <td>0.0</td>\n",
       "      <td>0.0</td>\n",
       "      <td>0.0</td>\n",
       "      <td>0.0</td>\n",
       "      <td>...</td>\n",
       "      <td>0.0</td>\n",
       "      <td>0.0</td>\n",
       "      <td>0.0</td>\n",
       "      <td>0.0</td>\n",
       "      <td>0.0</td>\n",
       "      <td>0.0</td>\n",
       "      <td>0.0</td>\n",
       "      <td>0.0</td>\n",
       "      <td>0.0</td>\n",
       "      <td>0.0</td>\n",
       "    </tr>\n",
       "    <tr>\n",
       "      <th>Murder of a Sleeping Beauty (Scumble River Mysteries (Paperback))</th>\n",
       "      <td>0.0</td>\n",
       "      <td>0.0</td>\n",
       "      <td>0.0</td>\n",
       "      <td>0.0</td>\n",
       "      <td>0.0</td>\n",
       "      <td>0.0</td>\n",
       "      <td>0.0</td>\n",
       "      <td>0.0</td>\n",
       "      <td>0.0</td>\n",
       "      <td>0.0</td>\n",
       "      <td>...</td>\n",
       "      <td>0.0</td>\n",
       "      <td>0.0</td>\n",
       "      <td>0.0</td>\n",
       "      <td>0.0</td>\n",
       "      <td>0.0</td>\n",
       "      <td>0.0</td>\n",
       "      <td>0.0</td>\n",
       "      <td>0.0</td>\n",
       "      <td>0.0</td>\n",
       "      <td>0.0</td>\n",
       "    </tr>\n",
       "    <tr>\n",
       "      <th>!Yo!</th>\n",
       "      <td>0.0</td>\n",
       "      <td>0.0</td>\n",
       "      <td>0.0</td>\n",
       "      <td>0.0</td>\n",
       "      <td>0.0</td>\n",
       "      <td>0.0</td>\n",
       "      <td>0.0</td>\n",
       "      <td>0.0</td>\n",
       "      <td>0.0</td>\n",
       "      <td>0.0</td>\n",
       "      <td>...</td>\n",
       "      <td>0.0</td>\n",
       "      <td>0.0</td>\n",
       "      <td>0.0</td>\n",
       "      <td>0.0</td>\n",
       "      <td>0.0</td>\n",
       "      <td>0.0</td>\n",
       "      <td>0.0</td>\n",
       "      <td>0.0</td>\n",
       "      <td>0.0</td>\n",
       "      <td>0.0</td>\n",
       "    </tr>\n",
       "    <tr>\n",
       "      <th>'Salem's Lot</th>\n",
       "      <td>0.0</td>\n",
       "      <td>0.0</td>\n",
       "      <td>0.0</td>\n",
       "      <td>0.0</td>\n",
       "      <td>0.0</td>\n",
       "      <td>0.0</td>\n",
       "      <td>0.0</td>\n",
       "      <td>0.0</td>\n",
       "      <td>0.0</td>\n",
       "      <td>0.0</td>\n",
       "      <td>...</td>\n",
       "      <td>0.0</td>\n",
       "      <td>0.0</td>\n",
       "      <td>0.0</td>\n",
       "      <td>0.0</td>\n",
       "      <td>0.0</td>\n",
       "      <td>0.0</td>\n",
       "      <td>0.0</td>\n",
       "      <td>0.0</td>\n",
       "      <td>0.0</td>\n",
       "      <td>0.0</td>\n",
       "    </tr>\n",
       "    <tr>\n",
       "      <th>...</th>\n",
       "      <td>...</td>\n",
       "      <td>...</td>\n",
       "      <td>...</td>\n",
       "      <td>...</td>\n",
       "      <td>...</td>\n",
       "      <td>...</td>\n",
       "      <td>...</td>\n",
       "      <td>...</td>\n",
       "      <td>...</td>\n",
       "      <td>...</td>\n",
       "      <td>...</td>\n",
       "      <td>...</td>\n",
       "      <td>...</td>\n",
       "      <td>...</td>\n",
       "      <td>...</td>\n",
       "      <td>...</td>\n",
       "      <td>...</td>\n",
       "      <td>...</td>\n",
       "      <td>...</td>\n",
       "      <td>...</td>\n",
       "      <td>...</td>\n",
       "    </tr>\n",
       "    <tr>\n",
       "      <th>iI Paradiso Degli Orchi</th>\n",
       "      <td>0.0</td>\n",
       "      <td>0.0</td>\n",
       "      <td>0.0</td>\n",
       "      <td>0.0</td>\n",
       "      <td>0.0</td>\n",
       "      <td>0.0</td>\n",
       "      <td>0.0</td>\n",
       "      <td>0.0</td>\n",
       "      <td>0.0</td>\n",
       "      <td>0.0</td>\n",
       "      <td>...</td>\n",
       "      <td>0.0</td>\n",
       "      <td>0.0</td>\n",
       "      <td>0.0</td>\n",
       "      <td>0.0</td>\n",
       "      <td>0.0</td>\n",
       "      <td>0.0</td>\n",
       "      <td>0.0</td>\n",
       "      <td>0.0</td>\n",
       "      <td>0.0</td>\n",
       "      <td>0.0</td>\n",
       "    </tr>\n",
       "    <tr>\n",
       "      <th>murder@maggody.com : An Arly Hanks Mystery (Arly Hanks Mysteries (Paperback))</th>\n",
       "      <td>0.0</td>\n",
       "      <td>0.0</td>\n",
       "      <td>0.0</td>\n",
       "      <td>0.0</td>\n",
       "      <td>0.0</td>\n",
       "      <td>0.0</td>\n",
       "      <td>0.0</td>\n",
       "      <td>0.0</td>\n",
       "      <td>0.0</td>\n",
       "      <td>0.0</td>\n",
       "      <td>...</td>\n",
       "      <td>0.0</td>\n",
       "      <td>0.0</td>\n",
       "      <td>0.0</td>\n",
       "      <td>0.0</td>\n",
       "      <td>0.0</td>\n",
       "      <td>0.0</td>\n",
       "      <td>0.0</td>\n",
       "      <td>0.0</td>\n",
       "      <td>0.0</td>\n",
       "      <td>0.0</td>\n",
       "    </tr>\n",
       "    <tr>\n",
       "      <th>one hundred years of solitude</th>\n",
       "      <td>0.0</td>\n",
       "      <td>0.0</td>\n",
       "      <td>0.0</td>\n",
       "      <td>0.0</td>\n",
       "      <td>0.0</td>\n",
       "      <td>0.0</td>\n",
       "      <td>0.0</td>\n",
       "      <td>0.0</td>\n",
       "      <td>0.0</td>\n",
       "      <td>0.0</td>\n",
       "      <td>...</td>\n",
       "      <td>0.0</td>\n",
       "      <td>0.0</td>\n",
       "      <td>0.0</td>\n",
       "      <td>0.0</td>\n",
       "      <td>0.0</td>\n",
       "      <td>0.0</td>\n",
       "      <td>0.0</td>\n",
       "      <td>0.0</td>\n",
       "      <td>0.0</td>\n",
       "      <td>0.0</td>\n",
       "    </tr>\n",
       "    <tr>\n",
       "      <th>stardust</th>\n",
       "      <td>0.0</td>\n",
       "      <td>0.0</td>\n",
       "      <td>0.0</td>\n",
       "      <td>0.0</td>\n",
       "      <td>0.0</td>\n",
       "      <td>0.0</td>\n",
       "      <td>0.0</td>\n",
       "      <td>0.0</td>\n",
       "      <td>0.0</td>\n",
       "      <td>0.0</td>\n",
       "      <td>...</td>\n",
       "      <td>0.0</td>\n",
       "      <td>0.0</td>\n",
       "      <td>0.0</td>\n",
       "      <td>0.0</td>\n",
       "      <td>0.0</td>\n",
       "      <td>0.0</td>\n",
       "      <td>0.0</td>\n",
       "      <td>0.0</td>\n",
       "      <td>0.0</td>\n",
       "      <td>0.0</td>\n",
       "    </tr>\n",
       "    <tr>\n",
       "      <th>why I'm like this : True Stories</th>\n",
       "      <td>0.0</td>\n",
       "      <td>0.0</td>\n",
       "      <td>0.0</td>\n",
       "      <td>0.0</td>\n",
       "      <td>0.0</td>\n",
       "      <td>0.0</td>\n",
       "      <td>0.0</td>\n",
       "      <td>0.0</td>\n",
       "      <td>0.0</td>\n",
       "      <td>0.0</td>\n",
       "      <td>...</td>\n",
       "      <td>0.0</td>\n",
       "      <td>0.0</td>\n",
       "      <td>0.0</td>\n",
       "      <td>0.0</td>\n",
       "      <td>0.0</td>\n",
       "      <td>0.0</td>\n",
       "      <td>0.0</td>\n",
       "      <td>0.0</td>\n",
       "      <td>0.0</td>\n",
       "      <td>0.0</td>\n",
       "    </tr>\n",
       "  </tbody>\n",
       "</table>\n",
       "<p>13745 rows × 49961 columns</p>\n",
       "</div>"
      ],
      "text/plain": [
       "User-ID                                             8       9       16      \\\n",
       "Book-Title                                                                   \n",
       " Earth Prayers From around the World: 365 Praye...     0.0     0.0     0.0   \n",
       " Lamb to the Slaughter and Other Stories (Pengu...     0.0     0.0     0.0   \n",
       " Murder of a Sleeping Beauty (Scumble River Mys...     0.0     0.0     0.0   \n",
       "!Yo!                                                   0.0     0.0     0.0   \n",
       "'Salem's Lot                                           0.0     0.0     0.0   \n",
       "...                                                    ...     ...     ...   \n",
       "iI Paradiso Degli Orchi                                0.0     0.0     0.0   \n",
       "murder@maggody.com : An Arly Hanks Mystery (Arl...     0.0     0.0     0.0   \n",
       "one hundred years of solitude                          0.0     0.0     0.0   \n",
       "stardust                                               0.0     0.0     0.0   \n",
       "why I'm like this : True Stories                       0.0     0.0     0.0   \n",
       "\n",
       "User-ID                                             17      19      26      \\\n",
       "Book-Title                                                                   \n",
       " Earth Prayers From around the World: 365 Praye...     0.0     0.0     0.0   \n",
       " Lamb to the Slaughter and Other Stories (Pengu...     0.0     0.0     0.0   \n",
       " Murder of a Sleeping Beauty (Scumble River Mys...     0.0     0.0     0.0   \n",
       "!Yo!                                                   0.0     0.0     0.0   \n",
       "'Salem's Lot                                           0.0     0.0     0.0   \n",
       "...                                                    ...     ...     ...   \n",
       "iI Paradiso Degli Orchi                                0.0     0.0     0.0   \n",
       "murder@maggody.com : An Arly Hanks Mystery (Arl...     0.0     0.0     0.0   \n",
       "one hundred years of solitude                          0.0     0.0     0.0   \n",
       "stardust                                               0.0     0.0     0.0   \n",
       "why I'm like this : True Stories                       0.0     0.0     0.0   \n",
       "\n",
       "User-ID                                             32      39      42      \\\n",
       "Book-Title                                                                   \n",
       " Earth Prayers From around the World: 365 Praye...     0.0     0.0     0.0   \n",
       " Lamb to the Slaughter and Other Stories (Pengu...     0.0     0.0     0.0   \n",
       " Murder of a Sleeping Beauty (Scumble River Mys...     0.0     0.0     0.0   \n",
       "!Yo!                                                   0.0     0.0     0.0   \n",
       "'Salem's Lot                                           0.0     0.0     0.0   \n",
       "...                                                    ...     ...     ...   \n",
       "iI Paradiso Degli Orchi                                0.0     0.0     0.0   \n",
       "murder@maggody.com : An Arly Hanks Mystery (Arl...     0.0     0.0     0.0   \n",
       "one hundred years of solitude                          0.0     0.0     0.0   \n",
       "stardust                                               0.0     0.0     0.0   \n",
       "why I'm like this : True Stories                       0.0     0.0     0.0   \n",
       "\n",
       "User-ID                                             44      ...  278831  \\\n",
       "Book-Title                                                  ...           \n",
       " Earth Prayers From around the World: 365 Praye...     0.0  ...     0.0   \n",
       " Lamb to the Slaughter and Other Stories (Pengu...     0.0  ...     0.0   \n",
       " Murder of a Sleeping Beauty (Scumble River Mys...     0.0  ...     0.0   \n",
       "!Yo!                                                   0.0  ...     0.0   \n",
       "'Salem's Lot                                           0.0  ...     0.0   \n",
       "...                                                    ...  ...     ...   \n",
       "iI Paradiso Degli Orchi                                0.0  ...     0.0   \n",
       "murder@maggody.com : An Arly Hanks Mystery (Arl...     0.0  ...     0.0   \n",
       "one hundred years of solitude                          0.0  ...     0.0   \n",
       "stardust                                               0.0  ...     0.0   \n",
       "why I'm like this : True Stories                       0.0  ...     0.0   \n",
       "\n",
       "User-ID                                             278832  278836  278843  \\\n",
       "Book-Title                                                                   \n",
       " Earth Prayers From around the World: 365 Praye...     0.0     0.0     0.0   \n",
       " Lamb to the Slaughter and Other Stories (Pengu...     0.0     0.0     0.0   \n",
       " Murder of a Sleeping Beauty (Scumble River Mys...     0.0     0.0     0.0   \n",
       "!Yo!                                                   0.0     0.0     0.0   \n",
       "'Salem's Lot                                           0.0     0.0     0.0   \n",
       "...                                                    ...     ...     ...   \n",
       "iI Paradiso Degli Orchi                                0.0     0.0     0.0   \n",
       "murder@maggody.com : An Arly Hanks Mystery (Arl...     0.0     0.0     0.0   \n",
       "one hundred years of solitude                          0.0     0.0     0.0   \n",
       "stardust                                               0.0     0.0     0.0   \n",
       "why I'm like this : True Stories                       0.0     0.0     0.0   \n",
       "\n",
       "User-ID                                             278844  278846  278849  \\\n",
       "Book-Title                                                                   \n",
       " Earth Prayers From around the World: 365 Praye...     0.0     0.0     0.0   \n",
       " Lamb to the Slaughter and Other Stories (Pengu...     0.0     0.0     0.0   \n",
       " Murder of a Sleeping Beauty (Scumble River Mys...     0.0     0.0     0.0   \n",
       "!Yo!                                                   0.0     0.0     0.0   \n",
       "'Salem's Lot                                           0.0     0.0     0.0   \n",
       "...                                                    ...     ...     ...   \n",
       "iI Paradiso Degli Orchi                                0.0     0.0     0.0   \n",
       "murder@maggody.com : An Arly Hanks Mystery (Arl...     0.0     0.0     0.0   \n",
       "one hundred years of solitude                          0.0     0.0     0.0   \n",
       "stardust                                               0.0     0.0     0.0   \n",
       "why I'm like this : True Stories                       0.0     0.0     0.0   \n",
       "\n",
       "User-ID                                             278851  278852  278854  \n",
       "Book-Title                                                                  \n",
       " Earth Prayers From around the World: 365 Praye...     0.0     0.0     0.0  \n",
       " Lamb to the Slaughter and Other Stories (Pengu...     0.0     0.0     0.0  \n",
       " Murder of a Sleeping Beauty (Scumble River Mys...     0.0     0.0     0.0  \n",
       "!Yo!                                                   0.0     0.0     0.0  \n",
       "'Salem's Lot                                           0.0     0.0     0.0  \n",
       "...                                                    ...     ...     ...  \n",
       "iI Paradiso Degli Orchi                                0.0     0.0     0.0  \n",
       "murder@maggody.com : An Arly Hanks Mystery (Arl...     0.0     0.0     0.0  \n",
       "one hundred years of solitude                          0.0     0.0     0.0  \n",
       "stardust                                               0.0     0.0     0.0  \n",
       "why I'm like this : True Stories                       0.0     0.0     0.0  \n",
       "\n",
       "[13745 rows x 49961 columns]"
      ]
     },
     "execution_count": 90,
     "metadata": {},
     "output_type": "execute_result"
    }
   ],
   "source": [
    "matrix = data_result.pivot_table(index = 'Book-Title', columns = 'User-ID', values = 'Book-Rating').fillna(0)\n",
    "up_matrix = csr_matrix(matrix)\n",
    "matrix"
   ]
  },
  {
   "cell_type": "code",
   "execution_count": 91,
   "id": "eab34701-c244-4f44-a3c4-62e4500c19d9",
   "metadata": {
    "tags": []
   },
   "outputs": [
    {
     "data": {
      "text/html": [
       "<style>#sk-container-id-1 {color: black;}#sk-container-id-1 pre{padding: 0;}#sk-container-id-1 div.sk-toggleable {background-color: white;}#sk-container-id-1 label.sk-toggleable__label {cursor: pointer;display: block;width: 100%;margin-bottom: 0;padding: 0.3em;box-sizing: border-box;text-align: center;}#sk-container-id-1 label.sk-toggleable__label-arrow:before {content: \"▸\";float: left;margin-right: 0.25em;color: #696969;}#sk-container-id-1 label.sk-toggleable__label-arrow:hover:before {color: black;}#sk-container-id-1 div.sk-estimator:hover label.sk-toggleable__label-arrow:before {color: black;}#sk-container-id-1 div.sk-toggleable__content {max-height: 0;max-width: 0;overflow: hidden;text-align: left;background-color: #f0f8ff;}#sk-container-id-1 div.sk-toggleable__content pre {margin: 0.2em;color: black;border-radius: 0.25em;background-color: #f0f8ff;}#sk-container-id-1 input.sk-toggleable__control:checked~div.sk-toggleable__content {max-height: 200px;max-width: 100%;overflow: auto;}#sk-container-id-1 input.sk-toggleable__control:checked~label.sk-toggleable__label-arrow:before {content: \"▾\";}#sk-container-id-1 div.sk-estimator input.sk-toggleable__control:checked~label.sk-toggleable__label {background-color: #d4ebff;}#sk-container-id-1 div.sk-label input.sk-toggleable__control:checked~label.sk-toggleable__label {background-color: #d4ebff;}#sk-container-id-1 input.sk-hidden--visually {border: 0;clip: rect(1px 1px 1px 1px);clip: rect(1px, 1px, 1px, 1px);height: 1px;margin: -1px;overflow: hidden;padding: 0;position: absolute;width: 1px;}#sk-container-id-1 div.sk-estimator {font-family: monospace;background-color: #f0f8ff;border: 1px dotted black;border-radius: 0.25em;box-sizing: border-box;margin-bottom: 0.5em;}#sk-container-id-1 div.sk-estimator:hover {background-color: #d4ebff;}#sk-container-id-1 div.sk-parallel-item::after {content: \"\";width: 100%;border-bottom: 1px solid gray;flex-grow: 1;}#sk-container-id-1 div.sk-label:hover label.sk-toggleable__label {background-color: #d4ebff;}#sk-container-id-1 div.sk-serial::before {content: \"\";position: absolute;border-left: 1px solid gray;box-sizing: border-box;top: 0;bottom: 0;left: 50%;z-index: 0;}#sk-container-id-1 div.sk-serial {display: flex;flex-direction: column;align-items: center;background-color: white;padding-right: 0.2em;padding-left: 0.2em;position: relative;}#sk-container-id-1 div.sk-item {position: relative;z-index: 1;}#sk-container-id-1 div.sk-parallel {display: flex;align-items: stretch;justify-content: center;background-color: white;position: relative;}#sk-container-id-1 div.sk-item::before, #sk-container-id-1 div.sk-parallel-item::before {content: \"\";position: absolute;border-left: 1px solid gray;box-sizing: border-box;top: 0;bottom: 0;left: 50%;z-index: -1;}#sk-container-id-1 div.sk-parallel-item {display: flex;flex-direction: column;z-index: 1;position: relative;background-color: white;}#sk-container-id-1 div.sk-parallel-item:first-child::after {align-self: flex-end;width: 50%;}#sk-container-id-1 div.sk-parallel-item:last-child::after {align-self: flex-start;width: 50%;}#sk-container-id-1 div.sk-parallel-item:only-child::after {width: 0;}#sk-container-id-1 div.sk-dashed-wrapped {border: 1px dashed gray;margin: 0 0.4em 0.5em 0.4em;box-sizing: border-box;padding-bottom: 0.4em;background-color: white;}#sk-container-id-1 div.sk-label label {font-family: monospace;font-weight: bold;display: inline-block;line-height: 1.2em;}#sk-container-id-1 div.sk-label-container {text-align: center;}#sk-container-id-1 div.sk-container {/* jupyter's `normalize.less` sets `[hidden] { display: none; }` but bootstrap.min.css set `[hidden] { display: none !important; }` so we also need the `!important` here to be able to override the default hidden behavior on the sphinx rendered scikit-learn.org. See: https://github.com/scikit-learn/scikit-learn/issues/21755 */display: inline-block !important;position: relative;}#sk-container-id-1 div.sk-text-repr-fallback {display: none;}</style><div id=\"sk-container-id-1\" class=\"sk-top-container\"><div class=\"sk-text-repr-fallback\"><pre>NearestNeighbors(metric=&#x27;cosine&#x27;)</pre><b>In a Jupyter environment, please rerun this cell to show the HTML representation or trust the notebook. <br />On GitHub, the HTML representation is unable to render, please try loading this page with nbviewer.org.</b></div><div class=\"sk-container\" hidden><div class=\"sk-item\"><div class=\"sk-estimator sk-toggleable\"><input class=\"sk-toggleable__control sk-hidden--visually\" id=\"sk-estimator-id-1\" type=\"checkbox\" checked><label for=\"sk-estimator-id-1\" class=\"sk-toggleable__label sk-toggleable__label-arrow\">NearestNeighbors</label><div class=\"sk-toggleable__content\"><pre>NearestNeighbors(metric=&#x27;cosine&#x27;)</pre></div></div></div></div></div>"
      ],
      "text/plain": [
       "NearestNeighbors(metric='cosine')"
      ]
     },
     "execution_count": 91,
     "metadata": {},
     "output_type": "execute_result"
    }
   ],
   "source": [
    "model = NearestNeighbors(metric = 'cosine', algorithm = 'auto')\n",
    "model.fit(up_matrix)"
   ]
  },
  {
   "cell_type": "code",
   "execution_count": 103,
   "id": "8e1f74c6-4925-4bae-ad0d-17af9966ff33",
   "metadata": {
    "tags": []
   },
   "outputs": [
    {
     "name": "stdin",
     "output_type": "stream",
     "text": [
      "Enter a book name:  The Catcher in the Rye\n",
      "Enter number of books to recommend:  10\n"
     ]
    }
   ],
   "source": [
    "bookName = input(\"Enter a book name: \")\n",
    "number = int(input(\"Enter number of books to recommend: \"))\n",
    "\n",
    "#Lord of the Rings Trilogy\n",
    "#Harry Potter and the Sorcerer's Stone (Harry Potter (Paperback))\n",
    "#The Two Towers (The Lord of the Rings, Part 2)\n",
    "#Anglo-American Cataloguing Rules\n",
    "#The Catcher in the Rye"
   ]
  },
  {
   "cell_type": "code",
   "execution_count": 94,
   "id": "99c2d6fe-1a48-4247-90ee-211af870ab7d",
   "metadata": {
    "tags": []
   },
   "outputs": [
    {
     "name": "stdout",
     "output_type": "stream",
     "text": [
      "Recommended Top 10 books for The Two Towers (The Lord of the Rings, Part 2)\n",
      "\n",
      "The Return of the King (The Lord of the Rings, Part 3)\n"
     ]
    },
    {
     "data": {
      "text/html": [
       "<img src=\"http://images.amazon.com/images/P/0395272211.01.LZZZZZZZ.jpg\" width=\"100\"/>"
      ],
      "text/plain": [
       "<IPython.core.display.Image object>"
      ]
     },
     "metadata": {},
     "output_type": "display_data"
    },
    {
     "name": "stdout",
     "output_type": "stream",
     "text": [
      "The Fellowship of the Ring (The Lord of the Rings, Part 1)\n"
     ]
    },
    {
     "data": {
      "text/html": [
       "<img src=\"http://images.amazon.com/images/P/0618002227.01.LZZZZZZZ.jpg\" width=\"100\"/>"
      ],
      "text/plain": [
       "<IPython.core.display.Image object>"
      ]
     },
     "metadata": {},
     "output_type": "display_data"
    },
    {
     "name": "stdout",
     "output_type": "stream",
     "text": [
      "The Return of the King (The Lord of The Rings, Part 3)\n"
     ]
    },
    {
     "data": {
      "text/html": [
       "<img src=\"http://images.amazon.com/images/P/0618002243.01.LZZZZZZZ.jpg\" width=\"100\"/>"
      ],
      "text/plain": [
       "<IPython.core.display.Image object>"
      ]
     },
     "metadata": {},
     "output_type": "display_data"
    },
    {
     "name": "stdout",
     "output_type": "stream",
     "text": [
      "The Hobbit : The Enchanting Prelude to The Lord of the Rings\n"
     ]
    },
    {
     "data": {
      "text/html": [
       "<img src=\"http://images.amazon.com/images/P/0345339681.01.LZZZZZZZ.jpg\" width=\"100\"/>"
      ],
      "text/plain": [
       "<IPython.core.display.Image object>"
      ]
     },
     "metadata": {},
     "output_type": "display_data"
    },
    {
     "name": "stdout",
     "output_type": "stream",
     "text": [
      "The Hobbit: or There and Back Again\n"
     ]
    },
    {
     "data": {
      "text/html": [
       "<img src=\"http://images.amazon.com/images/P/0618002219.01.LZZZZZZZ.jpg\" width=\"100\"/>"
      ],
      "text/plain": [
       "<IPython.core.display.Image object>"
      ]
     },
     "metadata": {},
     "output_type": "display_data"
    },
    {
     "name": "stdout",
     "output_type": "stream",
     "text": [
      "Foundation and Empire (Foundation Novels (Paperback))\n"
     ]
    },
    {
     "data": {
      "text/html": [
       "<img src=\"http://images.amazon.com/images/P/0553293370.01.LZZZZZZZ.jpg\" width=\"100\"/>"
      ],
      "text/plain": [
       "<IPython.core.display.Image object>"
      ]
     },
     "metadata": {},
     "output_type": "display_data"
    },
    {
     "name": "stdout",
     "output_type": "stream",
     "text": [
      "Second Foundation (Foundation Novels (Paperback))\n"
     ]
    },
    {
     "data": {
      "text/html": [
       "<img src=\"http://images.amazon.com/images/P/0345309014.01.LZZZZZZZ.jpg\" width=\"100\"/>"
      ],
      "text/plain": [
       "<IPython.core.display.Image object>"
      ]
     },
     "metadata": {},
     "output_type": "display_data"
    },
    {
     "name": "stdout",
     "output_type": "stream",
     "text": [
      "Howliday Inn\n"
     ]
    },
    {
     "data": {
      "text/html": [
       "<img src=\"http://images.amazon.com/images/P/0380645432.01.LZZZZZZZ.jpg\" width=\"100\"/>"
      ],
      "text/plain": [
       "<IPython.core.display.Image object>"
      ]
     },
     "metadata": {},
     "output_type": "display_data"
    },
    {
     "name": "stdout",
     "output_type": "stream",
     "text": [
      "The Fellowship of the Ring (Lord of the Rings (Paperback))\n"
     ]
    },
    {
     "data": {
      "text/html": [
       "<img src=\"http://images.amazon.com/images/P/0395272238.01.LZZZZZZZ.jpg\" width=\"100\"/>"
      ],
      "text/plain": [
       "<IPython.core.display.Image object>"
      ]
     },
     "metadata": {},
     "output_type": "display_data"
    },
    {
     "name": "stdout",
     "output_type": "stream",
     "text": [
      "The Magician's Nephew (rpkg) (Narnia)\n"
     ]
    },
    {
     "data": {
      "text/html": [
       "<img src=\"http://images.amazon.com/images/P/0060234970.01.LZZZZZZZ.jpg\" width=\"100\"/>"
      ],
      "text/plain": [
       "<IPython.core.display.Image object>"
      ]
     },
     "metadata": {},
     "output_type": "display_data"
    }
   ],
   "source": [
    "print(f'Recommended Top {number} books for {bookName}\\n')\n",
    "try:\n",
    "    distances, indices = model.kneighbors(matrix.loc[bookName].values.reshape(1, -1), n_neighbors = number+1)\n",
    "    for i in range(0, len(distances.flatten())):\n",
    "        if i > 0:\n",
    "            print(matrix.index[indices.flatten()[i]])\n",
    "            try: \n",
    "                display(Image(url= data1[data1['Book-Title'] == matrix.index[indices.flatten()[i]]]['Image-URL-L'].values[0], width=100))\n",
    "            except:\n",
    "                pass\n",
    "except:\n",
    "    print(f'It does not have enough ratings to be included in the model')"
   ]
  },
  {
   "cell_type": "code",
   "execution_count": 96,
   "id": "489d3f7b-c0f6-46c9-b211-24157fd2715f",
   "metadata": {
    "tags": []
   },
   "outputs": [
    {
     "name": "stdout",
     "output_type": "stream",
     "text": [
      "Recommended Top 10 books for Harry Potter and the Sorcerer's Stone (Harry Potter (Paperback))\n",
      "\n",
      "Harry Potter and the Chamber of Secrets (Book 2)\n"
     ]
    },
    {
     "data": {
      "text/html": [
       "<img src=\"http://images.amazon.com/images/P/0439064872.01.LZZZZZZZ.jpg\" width=\"100\"/>"
      ],
      "text/plain": [
       "<IPython.core.display.Image object>"
      ]
     },
     "metadata": {},
     "output_type": "display_data"
    },
    {
     "name": "stdout",
     "output_type": "stream",
     "text": [
      "Harry Potter and the Prisoner of Azkaban (Book 3)\n"
     ]
    },
    {
     "data": {
      "text/html": [
       "<img src=\"http://images.amazon.com/images/P/0439136369.01.LZZZZZZZ.jpg\" width=\"100\"/>"
      ],
      "text/plain": [
       "<IPython.core.display.Image object>"
      ]
     },
     "metadata": {},
     "output_type": "display_data"
    },
    {
     "name": "stdout",
     "output_type": "stream",
     "text": [
      "Harry Potter and the Goblet of Fire (Book 4)\n"
     ]
    },
    {
     "data": {
      "text/html": [
       "<img src=\"http://images.amazon.com/images/P/0439139597.01.LZZZZZZZ.jpg\" width=\"100\"/>"
      ],
      "text/plain": [
       "<IPython.core.display.Image object>"
      ]
     },
     "metadata": {},
     "output_type": "display_data"
    },
    {
     "name": "stdout",
     "output_type": "stream",
     "text": [
      "Harry Potter and the Order of the Phoenix (Book 5)\n"
     ]
    },
    {
     "data": {
      "text/html": [
       "<img src=\"http://images.amazon.com/images/P/043935806X.01.LZZZZZZZ.jpg\" width=\"100\"/>"
      ],
      "text/plain": [
       "<IPython.core.display.Image object>"
      ]
     },
     "metadata": {},
     "output_type": "display_data"
    },
    {
     "name": "stdout",
     "output_type": "stream",
     "text": [
      "Lover Beware\n"
     ]
    },
    {
     "data": {
      "text/html": [
       "<img src=\"http://images.amazon.com/images/P/0425189058.01.LZZZZZZZ.jpg\" width=\"100\"/>"
      ],
      "text/plain": [
       "<IPython.core.display.Image object>"
      ]
     },
     "metadata": {},
     "output_type": "display_data"
    },
    {
     "name": "stdout",
     "output_type": "stream",
     "text": [
      "Free Drinks for Ladies With Nuts: Delightfully Mangled English from Around the World\n"
     ]
    },
    {
     "data": {
      "text/html": [
       "<img src=\"http://images.amazon.com/images/P/0452281148.01.LZZZZZZZ.jpg\" width=\"100\"/>"
      ],
      "text/plain": [
       "<IPython.core.display.Image object>"
      ]
     },
     "metadata": {},
     "output_type": "display_data"
    },
    {
     "name": "stdout",
     "output_type": "stream",
     "text": [
      "The Sorcerer's Companion: A Guide to the Magical World of Harry Potter\n"
     ]
    },
    {
     "data": {
      "text/html": [
       "<img src=\"http://images.amazon.com/images/P/0767908473.01.LZZZZZZZ.jpg\" width=\"100\"/>"
      ],
      "text/plain": [
       "<IPython.core.display.Image object>"
      ]
     },
     "metadata": {},
     "output_type": "display_data"
    },
    {
     "name": "stdout",
     "output_type": "stream",
     "text": [
      "Tantalizing  (Blaze) (Harlequin Temptation, 715)\n"
     ]
    },
    {
     "data": {
      "text/html": [
       "<img src=\"http://images.amazon.com/images/P/0373258151.01.LZZZZZZZ.jpg\" width=\"100\"/>"
      ],
      "text/plain": [
       "<IPython.core.display.Image object>"
      ]
     },
     "metadata": {},
     "output_type": "display_data"
    },
    {
     "name": "stdout",
     "output_type": "stream",
     "text": [
      "Anne of Ingleside (Anne of Green Gables Novels (Paperback))\n"
     ]
    },
    {
     "data": {
      "text/html": [
       "<img src=\"http://images.amazon.com/images/P/0553213156.01.LZZZZZZZ.jpg\" width=\"100\"/>"
      ],
      "text/plain": [
       "<IPython.core.display.Image object>"
      ]
     },
     "metadata": {},
     "output_type": "display_data"
    },
    {
     "name": "stdout",
     "output_type": "stream",
     "text": [
      "Howliday Inn\n"
     ]
    },
    {
     "data": {
      "text/html": [
       "<img src=\"http://images.amazon.com/images/P/0380645432.01.LZZZZZZZ.jpg\" width=\"100\"/>"
      ],
      "text/plain": [
       "<IPython.core.display.Image object>"
      ]
     },
     "metadata": {},
     "output_type": "display_data"
    }
   ],
   "source": [
    "print(f'Recommended Top {number} books for {bookName}\\n')\n",
    "try:\n",
    "    distances, indices = model.kneighbors(matrix.loc[bookName].values.reshape(1, -1), n_neighbors = number+1)\n",
    "    for i in range(0, len(distances.flatten())):\n",
    "        if i > 0:\n",
    "            print(matrix.index[indices.flatten()[i]])\n",
    "            try: \n",
    "                display(Image(url= data1[data1['Book-Title'] == matrix.index[indices.flatten()[i]]]['Image-URL-L'].values[0], width=100))\n",
    "            except:\n",
    "                pass\n",
    "except:\n",
    "    print(f'It does not have enough ratings to be included in the model')"
   ]
  },
  {
   "cell_type": "code",
   "execution_count": 104,
   "id": "bc2ec23c-e722-4c43-b635-fab6c68a588e",
   "metadata": {
    "tags": []
   },
   "outputs": [
    {
     "name": "stdout",
     "output_type": "stream",
     "text": [
      "Recommended Top 10 books for The Catcher in the Rye\n",
      "Of Love and Other Demons (Penguin Great Books of the 20th Century)\n"
     ]
    },
    {
     "data": {
      "text/html": [
       "<img src=\"http://images.amazon.com/images/P/0140256369.01.LZZZZZZZ.jpg\" width=\"100\"/>"
      ],
      "text/plain": [
       "<IPython.core.display.Image object>"
      ]
     },
     "metadata": {},
     "output_type": "display_data"
    },
    {
     "name": "stdout",
     "output_type": "stream",
     "text": [
      "Hamlet (Folger Shakespeare Library)\n"
     ]
    },
    {
     "data": {
      "text/html": [
       "<img src=\"http://images.amazon.com/images/P/074347712X.01.LZZZZZZZ.jpg\" width=\"100\"/>"
      ],
      "text/plain": [
       "<IPython.core.display.Image object>"
      ]
     },
     "metadata": {},
     "output_type": "display_data"
    },
    {
     "name": "stdout",
     "output_type": "stream",
     "text": [
      "The Mambo Kings Play Songs of Love\n"
     ]
    },
    {
     "data": {
      "text/html": [
       "<img src=\"http://images.amazon.com/images/P/0060973277.01.LZZZZZZZ.jpg\" width=\"100\"/>"
      ],
      "text/plain": [
       "<IPython.core.display.Image object>"
      ]
     },
     "metadata": {},
     "output_type": "display_data"
    },
    {
     "name": "stdout",
     "output_type": "stream",
     "text": [
      "To Kill a Mockingbird\n"
     ]
    },
    {
     "data": {
      "text/html": [
       "<img src=\"http://images.amazon.com/images/P/0060935464.01.LZZZZZZZ.jpg\" width=\"100\"/>"
      ],
      "text/plain": [
       "<IPython.core.display.Image object>"
      ]
     },
     "metadata": {},
     "output_type": "display_data"
    },
    {
     "name": "stdout",
     "output_type": "stream",
     "text": [
      "Brave New World\n"
     ]
    },
    {
     "data": {
      "text/html": [
       "<img src=\"http://images.amazon.com/images/P/0060809833.01.LZZZZZZZ.jpg\" width=\"100\"/>"
      ],
      "text/plain": [
       "<IPython.core.display.Image object>"
      ]
     },
     "metadata": {},
     "output_type": "display_data"
    },
    {
     "name": "stdout",
     "output_type": "stream",
     "text": [
      "Lord of the Flies\n"
     ]
    },
    {
     "data": {
      "text/html": [
       "<img src=\"http://images.amazon.com/images/P/0399501487.01.LZZZZZZZ.jpg\" width=\"100\"/>"
      ],
      "text/plain": [
       "<IPython.core.display.Image object>"
      ]
     },
     "metadata": {},
     "output_type": "display_data"
    },
    {
     "name": "stdout",
     "output_type": "stream",
     "text": [
      "The Great Gatsby\n"
     ]
    },
    {
     "data": {
      "text/html": [
       "<img src=\"http://images.amazon.com/images/P/0684801523.01.LZZZZZZZ.jpg\" width=\"100\"/>"
      ],
      "text/plain": [
       "<IPython.core.display.Image object>"
      ]
     },
     "metadata": {},
     "output_type": "display_data"
    },
    {
     "name": "stdout",
     "output_type": "stream",
     "text": [
      "Animal Farm\n"
     ]
    },
    {
     "data": {
      "text/html": [
       "<img src=\"http://images.amazon.com/images/P/0451526341.01.LZZZZZZZ.jpg\" width=\"100\"/>"
      ],
      "text/plain": [
       "<IPython.core.display.Image object>"
      ]
     },
     "metadata": {},
     "output_type": "display_data"
    },
    {
     "name": "stdout",
     "output_type": "stream",
     "text": [
      "1984\n"
     ]
    },
    {
     "data": {
      "text/html": [
       "<img src=\"http://images.amazon.com/images/P/0452262933.01.LZZZZZZZ.jpg\" width=\"100\"/>"
      ],
      "text/plain": [
       "<IPython.core.display.Image object>"
      ]
     },
     "metadata": {},
     "output_type": "display_data"
    },
    {
     "name": "stdout",
     "output_type": "stream",
     "text": [
      "Sputnik Sweetheart: A Novel\n"
     ]
    },
    {
     "data": {
      "text/html": [
       "<img src=\"http://images.amazon.com/images/P/0375726055.01.LZZZZZZZ.jpg\" width=\"100\"/>"
      ],
      "text/plain": [
       "<IPython.core.display.Image object>"
      ]
     },
     "metadata": {},
     "output_type": "display_data"
    }
   ],
   "source": [
    "print(f'Recommended Top {number} books for {bookName}')\n",
    "try:\n",
    "    distances, indices = model.kneighbors(matrix.loc[bookName].values.reshape(1, -1), n_neighbors = number+1)\n",
    "    for i in range(0, len(distances.flatten())):\n",
    "        if i > 0:\n",
    "            print(matrix.index[indices.flatten()[i]])\n",
    "            try: \n",
    "                display(Image(url= data1[data1['Book-Title'] == matrix.index[indices.flatten()[i]]]['Image-URL-L'].values[0], width=100))\n",
    "            except:\n",
    "                pass\n",
    "except:\n",
    "    print(f'It does not have enough ratings to be included in the model')"
   ]
  },
  {
   "cell_type": "markdown",
   "id": "bb69b481-891b-4667-baca-24727b75d19b",
   "metadata": {
    "tags": []
   },
   "source": [
    "<div class=\"alert alert-block alert-success\">  \n",
    "<b>➕ \n",
    "simplicity, easy implementation, robustness\n",
    "</div>"
   ]
  },
  {
   "cell_type": "markdown",
   "id": "feb5c381-c098-449c-bef6-f5937278f7f1",
   "metadata": {
    "tags": []
   },
   "source": [
    "<div class=\"alert alert-block alert-danger\">  \n",
    "<b>➖  scalability - can be computationally expensive ( -> not many books are included), popularity bias, lack of personalization, depended on user interactions\n",
    "</div>"
   ]
  },
  {
   "cell_type": "markdown",
   "id": "ddb42278-1d22-410c-8b7f-9a469842b6ed",
   "metadata": {
    "tags": []
   },
   "source": [
    "### Other ideas\n",
    " - Wanted to try NLP aproach but did not have enough data -> download more data -> Tfidf, Word2Vec, SentenceBert"
   ]
  },
  {
   "cell_type": "code",
   "execution_count": 296,
   "id": "4a121267-aa27-47de-bdb9-8714dca7889d",
   "metadata": {
    "tags": []
   },
   "outputs": [
    {
     "data": {
      "text/html": [
       "<div>\n",
       "<style scoped>\n",
       "    .dataframe tbody tr th:only-of-type {\n",
       "        vertical-align: middle;\n",
       "    }\n",
       "\n",
       "    .dataframe tbody tr th {\n",
       "        vertical-align: top;\n",
       "    }\n",
       "\n",
       "    .dataframe thead th {\n",
       "        text-align: right;\n",
       "    }\n",
       "</style>\n",
       "<table border=\"1\" class=\"dataframe\">\n",
       "  <thead>\n",
       "    <tr style=\"text-align: right;\">\n",
       "      <th></th>\n",
       "      <th>Unnamed: 0</th>\n",
       "      <th>user_id</th>\n",
       "      <th>location</th>\n",
       "      <th>age</th>\n",
       "      <th>isbn</th>\n",
       "      <th>rating</th>\n",
       "      <th>book_title</th>\n",
       "      <th>book_author</th>\n",
       "      <th>year_of_publication</th>\n",
       "      <th>publisher</th>\n",
       "      <th>img_s</th>\n",
       "      <th>img_m</th>\n",
       "      <th>img_l</th>\n",
       "      <th>Summary</th>\n",
       "      <th>Language</th>\n",
       "      <th>Category</th>\n",
       "      <th>city</th>\n",
       "      <th>state</th>\n",
       "      <th>country</th>\n",
       "    </tr>\n",
       "  </thead>\n",
       "  <tbody>\n",
       "    <tr>\n",
       "      <th>0</th>\n",
       "      <td>0</td>\n",
       "      <td>2</td>\n",
       "      <td>stockton, california, usa</td>\n",
       "      <td>18.000</td>\n",
       "      <td>0195153448</td>\n",
       "      <td>0</td>\n",
       "      <td>Classical Mythology</td>\n",
       "      <td>Mark P. O. Morford</td>\n",
       "      <td>2002.000</td>\n",
       "      <td>Oxford University Press</td>\n",
       "      <td>http://images.amazon.com/images/P/0195153448.0...</td>\n",
       "      <td>http://images.amazon.com/images/P/0195153448.0...</td>\n",
       "      <td>http://images.amazon.com/images/P/0195153448.0...</td>\n",
       "      <td>Provides an introduction to classical myths pl...</td>\n",
       "      <td>en</td>\n",
       "      <td>['Social Science']</td>\n",
       "      <td>stockton</td>\n",
       "      <td>california</td>\n",
       "      <td>usa</td>\n",
       "    </tr>\n",
       "    <tr>\n",
       "      <th>1</th>\n",
       "      <td>1</td>\n",
       "      <td>8</td>\n",
       "      <td>timmins, ontario, canada</td>\n",
       "      <td>34.744</td>\n",
       "      <td>0002005018</td>\n",
       "      <td>5</td>\n",
       "      <td>Clara Callan</td>\n",
       "      <td>Richard Bruce Wright</td>\n",
       "      <td>2001.000</td>\n",
       "      <td>HarperFlamingo Canada</td>\n",
       "      <td>http://images.amazon.com/images/P/0002005018.0...</td>\n",
       "      <td>http://images.amazon.com/images/P/0002005018.0...</td>\n",
       "      <td>http://images.amazon.com/images/P/0002005018.0...</td>\n",
       "      <td>In a small town in Canada, Clara Callan reluct...</td>\n",
       "      <td>en</td>\n",
       "      <td>['Actresses']</td>\n",
       "      <td>timmins</td>\n",
       "      <td>ontario</td>\n",
       "      <td>canada</td>\n",
       "    </tr>\n",
       "    <tr>\n",
       "      <th>2</th>\n",
       "      <td>2</td>\n",
       "      <td>11400</td>\n",
       "      <td>ottawa, ontario, canada</td>\n",
       "      <td>49.000</td>\n",
       "      <td>0002005018</td>\n",
       "      <td>0</td>\n",
       "      <td>Clara Callan</td>\n",
       "      <td>Richard Bruce Wright</td>\n",
       "      <td>2001.000</td>\n",
       "      <td>HarperFlamingo Canada</td>\n",
       "      <td>http://images.amazon.com/images/P/0002005018.0...</td>\n",
       "      <td>http://images.amazon.com/images/P/0002005018.0...</td>\n",
       "      <td>http://images.amazon.com/images/P/0002005018.0...</td>\n",
       "      <td>In a small town in Canada, Clara Callan reluct...</td>\n",
       "      <td>en</td>\n",
       "      <td>['Actresses']</td>\n",
       "      <td>ottawa</td>\n",
       "      <td>ontario</td>\n",
       "      <td>canada</td>\n",
       "    </tr>\n",
       "    <tr>\n",
       "      <th>3</th>\n",
       "      <td>3</td>\n",
       "      <td>11676</td>\n",
       "      <td>n/a, n/a, n/a</td>\n",
       "      <td>34.744</td>\n",
       "      <td>0002005018</td>\n",
       "      <td>8</td>\n",
       "      <td>Clara Callan</td>\n",
       "      <td>Richard Bruce Wright</td>\n",
       "      <td>2001.000</td>\n",
       "      <td>HarperFlamingo Canada</td>\n",
       "      <td>http://images.amazon.com/images/P/0002005018.0...</td>\n",
       "      <td>http://images.amazon.com/images/P/0002005018.0...</td>\n",
       "      <td>http://images.amazon.com/images/P/0002005018.0...</td>\n",
       "      <td>In a small town in Canada, Clara Callan reluct...</td>\n",
       "      <td>en</td>\n",
       "      <td>['Actresses']</td>\n",
       "      <td>NaN</td>\n",
       "      <td>NaN</td>\n",
       "      <td>NaN</td>\n",
       "    </tr>\n",
       "    <tr>\n",
       "      <th>4</th>\n",
       "      <td>4</td>\n",
       "      <td>41385</td>\n",
       "      <td>sudbury, ontario, canada</td>\n",
       "      <td>34.744</td>\n",
       "      <td>0002005018</td>\n",
       "      <td>0</td>\n",
       "      <td>Clara Callan</td>\n",
       "      <td>Richard Bruce Wright</td>\n",
       "      <td>2001.000</td>\n",
       "      <td>HarperFlamingo Canada</td>\n",
       "      <td>http://images.amazon.com/images/P/0002005018.0...</td>\n",
       "      <td>http://images.amazon.com/images/P/0002005018.0...</td>\n",
       "      <td>http://images.amazon.com/images/P/0002005018.0...</td>\n",
       "      <td>In a small town in Canada, Clara Callan reluct...</td>\n",
       "      <td>en</td>\n",
       "      <td>['Actresses']</td>\n",
       "      <td>sudbury</td>\n",
       "      <td>ontario</td>\n",
       "      <td>canada</td>\n",
       "    </tr>\n",
       "    <tr>\n",
       "      <th>...</th>\n",
       "      <td>...</td>\n",
       "      <td>...</td>\n",
       "      <td>...</td>\n",
       "      <td>...</td>\n",
       "      <td>...</td>\n",
       "      <td>...</td>\n",
       "      <td>...</td>\n",
       "      <td>...</td>\n",
       "      <td>...</td>\n",
       "      <td>...</td>\n",
       "      <td>...</td>\n",
       "      <td>...</td>\n",
       "      <td>...</td>\n",
       "      <td>...</td>\n",
       "      <td>...</td>\n",
       "      <td>...</td>\n",
       "      <td>...</td>\n",
       "      <td>...</td>\n",
       "      <td>...</td>\n",
       "    </tr>\n",
       "    <tr>\n",
       "      <th>1031170</th>\n",
       "      <td>1031170</td>\n",
       "      <td>278851</td>\n",
       "      <td>dallas, texas, usa</td>\n",
       "      <td>33.000</td>\n",
       "      <td>0743203763</td>\n",
       "      <td>0</td>\n",
       "      <td>As Hogan Said . . . : The 389 Best Things Anyo...</td>\n",
       "      <td>Randy Voorhees</td>\n",
       "      <td>2000.000</td>\n",
       "      <td>Simon &amp; Schuster</td>\n",
       "      <td>http://images.amazon.com/images/P/0743203763.0...</td>\n",
       "      <td>http://images.amazon.com/images/P/0743203763.0...</td>\n",
       "      <td>http://images.amazon.com/images/P/0743203763.0...</td>\n",
       "      <td>Golf lovers will revel in this collection of t...</td>\n",
       "      <td>en</td>\n",
       "      <td>['Humor']</td>\n",
       "      <td>dallas</td>\n",
       "      <td>texas</td>\n",
       "      <td>usa</td>\n",
       "    </tr>\n",
       "    <tr>\n",
       "      <th>1031171</th>\n",
       "      <td>1031171</td>\n",
       "      <td>278851</td>\n",
       "      <td>dallas, texas, usa</td>\n",
       "      <td>33.000</td>\n",
       "      <td>0767907566</td>\n",
       "      <td>5</td>\n",
       "      <td>All Elevations Unknown: An Adventure in the He...</td>\n",
       "      <td>Sam Lightner</td>\n",
       "      <td>2001.000</td>\n",
       "      <td>Broadway Books</td>\n",
       "      <td>http://images.amazon.com/images/P/0767907566.0...</td>\n",
       "      <td>http://images.amazon.com/images/P/0767907566.0...</td>\n",
       "      <td>http://images.amazon.com/images/P/0767907566.0...</td>\n",
       "      <td>A daring twist on the travel-adventure genre t...</td>\n",
       "      <td>en</td>\n",
       "      <td>['Nature']</td>\n",
       "      <td>dallas</td>\n",
       "      <td>texas</td>\n",
       "      <td>usa</td>\n",
       "    </tr>\n",
       "    <tr>\n",
       "      <th>1031172</th>\n",
       "      <td>1031172</td>\n",
       "      <td>278851</td>\n",
       "      <td>dallas, texas, usa</td>\n",
       "      <td>33.000</td>\n",
       "      <td>0884159221</td>\n",
       "      <td>7</td>\n",
       "      <td>Why stop?: A guide to Texas historical roadsid...</td>\n",
       "      <td>Claude Dooley</td>\n",
       "      <td>1985.000</td>\n",
       "      <td>Lone Star Books</td>\n",
       "      <td>http://images.amazon.com/images/P/0884159221.0...</td>\n",
       "      <td>http://images.amazon.com/images/P/0884159221.0...</td>\n",
       "      <td>http://images.amazon.com/images/P/0884159221.0...</td>\n",
       "      <td>9</td>\n",
       "      <td>9</td>\n",
       "      <td>9</td>\n",
       "      <td>dallas</td>\n",
       "      <td>texas</td>\n",
       "      <td>usa</td>\n",
       "    </tr>\n",
       "    <tr>\n",
       "      <th>1031173</th>\n",
       "      <td>1031173</td>\n",
       "      <td>278851</td>\n",
       "      <td>dallas, texas, usa</td>\n",
       "      <td>33.000</td>\n",
       "      <td>0912333022</td>\n",
       "      <td>7</td>\n",
       "      <td>The Are You Being Served? Stories: 'Camping In...</td>\n",
       "      <td>Jeremy Lloyd</td>\n",
       "      <td>1997.000</td>\n",
       "      <td>Kqed Books</td>\n",
       "      <td>http://images.amazon.com/images/P/0912333022.0...</td>\n",
       "      <td>http://images.amazon.com/images/P/0912333022.0...</td>\n",
       "      <td>http://images.amazon.com/images/P/0912333022.0...</td>\n",
       "      <td>These hilarious stories by the creator of publ...</td>\n",
       "      <td>en</td>\n",
       "      <td>['Fiction']</td>\n",
       "      <td>dallas</td>\n",
       "      <td>texas</td>\n",
       "      <td>usa</td>\n",
       "    </tr>\n",
       "    <tr>\n",
       "      <th>1031174</th>\n",
       "      <td>1031174</td>\n",
       "      <td>278851</td>\n",
       "      <td>dallas, texas, usa</td>\n",
       "      <td>33.000</td>\n",
       "      <td>1569661057</td>\n",
       "      <td>10</td>\n",
       "      <td>Dallas Street Map Guide and Directory, 2000 Ed...</td>\n",
       "      <td>Mapsco</td>\n",
       "      <td>1999.000</td>\n",
       "      <td>American Map Corporation</td>\n",
       "      <td>http://images.amazon.com/images/P/1569661057.0...</td>\n",
       "      <td>http://images.amazon.com/images/P/1569661057.0...</td>\n",
       "      <td>http://images.amazon.com/images/P/1569661057.0...</td>\n",
       "      <td>9</td>\n",
       "      <td>9</td>\n",
       "      <td>9</td>\n",
       "      <td>dallas</td>\n",
       "      <td>texas</td>\n",
       "      <td>usa</td>\n",
       "    </tr>\n",
       "  </tbody>\n",
       "</table>\n",
       "<p>1031175 rows × 19 columns</p>\n",
       "</div>"
      ],
      "text/plain": [
       "         Unnamed: 0  user_id                   location    age        isbn  \\\n",
       "0                 0        2  stockton, california, usa 18.000  0195153448   \n",
       "1                 1        8   timmins, ontario, canada 34.744  0002005018   \n",
       "2                 2    11400    ottawa, ontario, canada 49.000  0002005018   \n",
       "3                 3    11676              n/a, n/a, n/a 34.744  0002005018   \n",
       "4                 4    41385   sudbury, ontario, canada 34.744  0002005018   \n",
       "...             ...      ...                        ...    ...         ...   \n",
       "1031170     1031170   278851         dallas, texas, usa 33.000  0743203763   \n",
       "1031171     1031171   278851         dallas, texas, usa 33.000  0767907566   \n",
       "1031172     1031172   278851         dallas, texas, usa 33.000  0884159221   \n",
       "1031173     1031173   278851         dallas, texas, usa 33.000  0912333022   \n",
       "1031174     1031174   278851         dallas, texas, usa 33.000  1569661057   \n",
       "\n",
       "         rating                                         book_title  \\\n",
       "0             0                                Classical Mythology   \n",
       "1             5                                       Clara Callan   \n",
       "2             0                                       Clara Callan   \n",
       "3             8                                       Clara Callan   \n",
       "4             0                                       Clara Callan   \n",
       "...         ...                                                ...   \n",
       "1031170       0  As Hogan Said . . . : The 389 Best Things Anyo...   \n",
       "1031171       5  All Elevations Unknown: An Adventure in the He...   \n",
       "1031172       7  Why stop?: A guide to Texas historical roadsid...   \n",
       "1031173       7  The Are You Being Served? Stories: 'Camping In...   \n",
       "1031174      10  Dallas Street Map Guide and Directory, 2000 Ed...   \n",
       "\n",
       "                  book_author  year_of_publication                 publisher  \\\n",
       "0          Mark P. O. Morford             2002.000   Oxford University Press   \n",
       "1        Richard Bruce Wright             2001.000     HarperFlamingo Canada   \n",
       "2        Richard Bruce Wright             2001.000     HarperFlamingo Canada   \n",
       "3        Richard Bruce Wright             2001.000     HarperFlamingo Canada   \n",
       "4        Richard Bruce Wright             2001.000     HarperFlamingo Canada   \n",
       "...                       ...                  ...                       ...   \n",
       "1031170        Randy Voorhees             2000.000          Simon & Schuster   \n",
       "1031171          Sam Lightner             2001.000            Broadway Books   \n",
       "1031172         Claude Dooley             1985.000           Lone Star Books   \n",
       "1031173          Jeremy Lloyd             1997.000                Kqed Books   \n",
       "1031174                Mapsco             1999.000  American Map Corporation   \n",
       "\n",
       "                                                     img_s  \\\n",
       "0        http://images.amazon.com/images/P/0195153448.0...   \n",
       "1        http://images.amazon.com/images/P/0002005018.0...   \n",
       "2        http://images.amazon.com/images/P/0002005018.0...   \n",
       "3        http://images.amazon.com/images/P/0002005018.0...   \n",
       "4        http://images.amazon.com/images/P/0002005018.0...   \n",
       "...                                                    ...   \n",
       "1031170  http://images.amazon.com/images/P/0743203763.0...   \n",
       "1031171  http://images.amazon.com/images/P/0767907566.0...   \n",
       "1031172  http://images.amazon.com/images/P/0884159221.0...   \n",
       "1031173  http://images.amazon.com/images/P/0912333022.0...   \n",
       "1031174  http://images.amazon.com/images/P/1569661057.0...   \n",
       "\n",
       "                                                     img_m  \\\n",
       "0        http://images.amazon.com/images/P/0195153448.0...   \n",
       "1        http://images.amazon.com/images/P/0002005018.0...   \n",
       "2        http://images.amazon.com/images/P/0002005018.0...   \n",
       "3        http://images.amazon.com/images/P/0002005018.0...   \n",
       "4        http://images.amazon.com/images/P/0002005018.0...   \n",
       "...                                                    ...   \n",
       "1031170  http://images.amazon.com/images/P/0743203763.0...   \n",
       "1031171  http://images.amazon.com/images/P/0767907566.0...   \n",
       "1031172  http://images.amazon.com/images/P/0884159221.0...   \n",
       "1031173  http://images.amazon.com/images/P/0912333022.0...   \n",
       "1031174  http://images.amazon.com/images/P/1569661057.0...   \n",
       "\n",
       "                                                     img_l  \\\n",
       "0        http://images.amazon.com/images/P/0195153448.0...   \n",
       "1        http://images.amazon.com/images/P/0002005018.0...   \n",
       "2        http://images.amazon.com/images/P/0002005018.0...   \n",
       "3        http://images.amazon.com/images/P/0002005018.0...   \n",
       "4        http://images.amazon.com/images/P/0002005018.0...   \n",
       "...                                                    ...   \n",
       "1031170  http://images.amazon.com/images/P/0743203763.0...   \n",
       "1031171  http://images.amazon.com/images/P/0767907566.0...   \n",
       "1031172  http://images.amazon.com/images/P/0884159221.0...   \n",
       "1031173  http://images.amazon.com/images/P/0912333022.0...   \n",
       "1031174  http://images.amazon.com/images/P/1569661057.0...   \n",
       "\n",
       "                                                   Summary Language  \\\n",
       "0        Provides an introduction to classical myths pl...       en   \n",
       "1        In a small town in Canada, Clara Callan reluct...       en   \n",
       "2        In a small town in Canada, Clara Callan reluct...       en   \n",
       "3        In a small town in Canada, Clara Callan reluct...       en   \n",
       "4        In a small town in Canada, Clara Callan reluct...       en   \n",
       "...                                                    ...      ...   \n",
       "1031170  Golf lovers will revel in this collection of t...       en   \n",
       "1031171  A daring twist on the travel-adventure genre t...       en   \n",
       "1031172                                                  9        9   \n",
       "1031173  These hilarious stories by the creator of publ...       en   \n",
       "1031174                                                  9        9   \n",
       "\n",
       "                   Category      city       state country  \n",
       "0        ['Social Science']  stockton  california     usa  \n",
       "1             ['Actresses']   timmins     ontario  canada  \n",
       "2             ['Actresses']    ottawa     ontario  canada  \n",
       "3             ['Actresses']       NaN         NaN     NaN  \n",
       "4             ['Actresses']   sudbury     ontario  canada  \n",
       "...                     ...       ...         ...     ...  \n",
       "1031170           ['Humor']    dallas       texas     usa  \n",
       "1031171          ['Nature']    dallas       texas     usa  \n",
       "1031172                   9    dallas       texas     usa  \n",
       "1031173         ['Fiction']    dallas       texas     usa  \n",
       "1031174                   9    dallas       texas     usa  \n",
       "\n",
       "[1031175 rows x 19 columns]"
      ]
     },
     "execution_count": 296,
     "metadata": {},
     "output_type": "execute_result"
    }
   ],
   "source": [
    "df_books_more = pd.read_csv('books_more.csv',on_bad_lines='skip',low_memory=False)\n",
    "df_books_more"
   ]
  },
  {
   "cell_type": "code",
   "execution_count": 379,
   "id": "7003f4e9-0b9a-468b-9bcd-b1f3fe1d4956",
   "metadata": {
    "tags": []
   },
   "outputs": [
    {
     "data": {
      "text/html": [
       "<div>\n",
       "<style scoped>\n",
       "    .dataframe tbody tr th:only-of-type {\n",
       "        vertical-align: middle;\n",
       "    }\n",
       "\n",
       "    .dataframe tbody tr th {\n",
       "        vertical-align: top;\n",
       "    }\n",
       "\n",
       "    .dataframe thead th {\n",
       "        text-align: right;\n",
       "    }\n",
       "</style>\n",
       "<table border=\"1\" class=\"dataframe\">\n",
       "  <thead>\n",
       "    <tr style=\"text-align: right;\">\n",
       "      <th></th>\n",
       "      <th>ISBN</th>\n",
       "      <th>Book-Title</th>\n",
       "      <th>Book-Author</th>\n",
       "      <th>Year-Of-Publication</th>\n",
       "      <th>Publisher</th>\n",
       "      <th>Image-URL-L</th>\n",
       "      <th>User-ID</th>\n",
       "      <th>Book-Rating</th>\n",
       "      <th>Age</th>\n",
       "      <th>City</th>\n",
       "      <th>State</th>\n",
       "      <th>Country</th>\n",
       "      <th>Score</th>\n",
       "      <th>Total-Ratings</th>\n",
       "    </tr>\n",
       "  </thead>\n",
       "  <tbody>\n",
       "    <tr>\n",
       "      <th>0</th>\n",
       "      <td>0786868716</td>\n",
       "      <td>The Five People You Meet in Heaven</td>\n",
       "      <td>Mitch Albom</td>\n",
       "      <td>2003</td>\n",
       "      <td>Hyperion</td>\n",
       "      <td>http://images.amazon.com/images/P/0786868716.0...</td>\n",
       "      <td>11400</td>\n",
       "      <td>9</td>\n",
       "      <td>49</td>\n",
       "      <td>ottawa</td>\n",
       "      <td>ontario</td>\n",
       "      <td>canada</td>\n",
       "      <td>8.010</td>\n",
       "      <td>244</td>\n",
       "    </tr>\n",
       "    <tr>\n",
       "      <th>1</th>\n",
       "      <td>0151008116</td>\n",
       "      <td>Life of Pi</td>\n",
       "      <td>Yann Martel</td>\n",
       "      <td>2002</td>\n",
       "      <td>Harcourt</td>\n",
       "      <td>http://images.amazon.com/images/P/0151008116.0...</td>\n",
       "      <td>11400</td>\n",
       "      <td>6</td>\n",
       "      <td>49</td>\n",
       "      <td>ottawa</td>\n",
       "      <td>ontario</td>\n",
       "      <td>canada</td>\n",
       "      <td>8.069</td>\n",
       "      <td>337</td>\n",
       "    </tr>\n",
       "    <tr>\n",
       "      <th>2</th>\n",
       "      <td>0312195516</td>\n",
       "      <td>The Red Tent (Bestselling Backlist)</td>\n",
       "      <td>Anita Diamant</td>\n",
       "      <td>1998</td>\n",
       "      <td>Picador USA</td>\n",
       "      <td>http://images.amazon.com/images/P/0312195516.0...</td>\n",
       "      <td>11400</td>\n",
       "      <td>7</td>\n",
       "      <td>49</td>\n",
       "      <td>ottawa</td>\n",
       "      <td>ontario</td>\n",
       "      <td>canada</td>\n",
       "      <td>8.174</td>\n",
       "      <td>383</td>\n",
       "    </tr>\n",
       "    <tr>\n",
       "      <th>3</th>\n",
       "      <td>0316789089</td>\n",
       "      <td>The Pilot's Wife : A Novel Tag: Author of the ...</td>\n",
       "      <td>Anita Shreve</td>\n",
       "      <td>1999</td>\n",
       "      <td>Little, Brown</td>\n",
       "      <td>http://images.amazon.com/images/P/0316789089.0...</td>\n",
       "      <td>11400</td>\n",
       "      <td>7</td>\n",
       "      <td>49</td>\n",
       "      <td>ottawa</td>\n",
       "      <td>ontario</td>\n",
       "      <td>canada</td>\n",
       "      <td>7.737</td>\n",
       "      <td>65</td>\n",
       "    </tr>\n",
       "    <tr>\n",
       "      <th>4</th>\n",
       "      <td>014025448X</td>\n",
       "      <td>At Home in Mitford (The Mitford Years)</td>\n",
       "      <td>Jan Karon</td>\n",
       "      <td>1996</td>\n",
       "      <td>Viking Books</td>\n",
       "      <td>http://images.amazon.com/images/P/014025448X.0...</td>\n",
       "      <td>11400</td>\n",
       "      <td>10</td>\n",
       "      <td>49</td>\n",
       "      <td>ottawa</td>\n",
       "      <td>ontario</td>\n",
       "      <td>canada</td>\n",
       "      <td>7.871</td>\n",
       "      <td>99</td>\n",
       "    </tr>\n",
       "    <tr>\n",
       "      <th>...</th>\n",
       "      <td>...</td>\n",
       "      <td>...</td>\n",
       "      <td>...</td>\n",
       "      <td>...</td>\n",
       "      <td>...</td>\n",
       "      <td>...</td>\n",
       "      <td>...</td>\n",
       "      <td>...</td>\n",
       "      <td>...</td>\n",
       "      <td>...</td>\n",
       "      <td>...</td>\n",
       "      <td>...</td>\n",
       "      <td>...</td>\n",
       "      <td>...</td>\n",
       "    </tr>\n",
       "    <tr>\n",
       "      <th>119156</th>\n",
       "      <td>3442760003</td>\n",
       "      <td>Liebesleben</td>\n",
       "      <td>Zeruya Shalev</td>\n",
       "      <td>2002</td>\n",
       "      <td>Distribooks</td>\n",
       "      <td>http://images.amazon.com/images/P/3442760003.0...</td>\n",
       "      <td>245499</td>\n",
       "      <td>5</td>\n",
       "      <td>30</td>\n",
       "      <td>erkrath</td>\n",
       "      <td>nordrhein-westfalen</td>\n",
       "      <td>germany</td>\n",
       "      <td>6.756</td>\n",
       "      <td>13</td>\n",
       "    </tr>\n",
       "    <tr>\n",
       "      <th>136702</th>\n",
       "      <td>8807810212</td>\n",
       "      <td>D Amore E Ombra</td>\n",
       "      <td>Isabel Allende</td>\n",
       "      <td>2002</td>\n",
       "      <td>Transglobal Books Inc</td>\n",
       "      <td>http://images.amazon.com/images/P/8807810212.0...</td>\n",
       "      <td>195443</td>\n",
       "      <td>5</td>\n",
       "      <td>22</td>\n",
       "      <td>vicenza</td>\n",
       "      <td>veneto</td>\n",
       "      <td>italy</td>\n",
       "      <td>6.663</td>\n",
       "      <td>11</td>\n",
       "    </tr>\n",
       "    <tr>\n",
       "      <th>136995</th>\n",
       "      <td>884590184X</td>\n",
       "      <td>Siddharta Romanzo Versione Di M Mila</td>\n",
       "      <td>Hermann Hesse</td>\n",
       "      <td>2002</td>\n",
       "      <td>Adelphi Book Shop Ltd</td>\n",
       "      <td>http://images.amazon.com/images/P/884590184X.0...</td>\n",
       "      <td>203031</td>\n",
       "      <td>10</td>\n",
       "      <td>29</td>\n",
       "      <td>monza</td>\n",
       "      <td>lombardia</td>\n",
       "      <td>italy</td>\n",
       "      <td>7.892</td>\n",
       "      <td>17</td>\n",
       "    </tr>\n",
       "    <tr>\n",
       "      <th>150328</th>\n",
       "      <td>0142000981</td>\n",
       "      <td>Coal: A Human History</td>\n",
       "      <td>Barbara Freese</td>\n",
       "      <td>2004</td>\n",
       "      <td>Penguin USA (Paper)</td>\n",
       "      <td>http://images.amazon.com/images/P/0142000981.0...</td>\n",
       "      <td>9557</td>\n",
       "      <td>7</td>\n",
       "      <td>16</td>\n",
       "      <td>cols</td>\n",
       "      <td>ohio</td>\n",
       "      <td>usa</td>\n",
       "      <td>5.484</td>\n",
       "      <td>19</td>\n",
       "    </tr>\n",
       "    <tr>\n",
       "      <th>150685</th>\n",
       "      <td>0615116426</td>\n",
       "      <td>Marching Through Culpeper : A Novel of Culpepe...</td>\n",
       "      <td>Virginia Beard Morton</td>\n",
       "      <td>2000</td>\n",
       "      <td>Edgehill Books</td>\n",
       "      <td>http://images.amazon.com/images/P/0615116426.0...</td>\n",
       "      <td>277265</td>\n",
       "      <td>10</td>\n",
       "      <td>35</td>\n",
       "      <td>culpeper</td>\n",
       "      <td>virginia</td>\n",
       "      <td>usa</td>\n",
       "      <td>8.348</td>\n",
       "      <td>14</td>\n",
       "    </tr>\n",
       "  </tbody>\n",
       "</table>\n",
       "<p>5714 rows × 14 columns</p>\n",
       "</div>"
      ],
      "text/plain": [
       "              ISBN                                         Book-Title  \\\n",
       "0       0786868716                 The Five People You Meet in Heaven   \n",
       "1       0151008116                                         Life of Pi   \n",
       "2       0312195516                The Red Tent (Bestselling Backlist)   \n",
       "3       0316789089  The Pilot's Wife : A Novel Tag: Author of the ...   \n",
       "4       014025448X             At Home in Mitford (The Mitford Years)   \n",
       "...            ...                                                ...   \n",
       "119156  3442760003                                        Liebesleben   \n",
       "136702  8807810212                                    D Amore E Ombra   \n",
       "136995  884590184X               Siddharta Romanzo Versione Di M Mila   \n",
       "150328  0142000981                              Coal: A Human History   \n",
       "150685  0615116426  Marching Through Culpeper : A Novel of Culpepe...   \n",
       "\n",
       "                  Book-Author  Year-Of-Publication              Publisher  \\\n",
       "0                 Mitch Albom                 2003               Hyperion   \n",
       "1                 Yann Martel                 2002               Harcourt   \n",
       "2               Anita Diamant                 1998            Picador USA   \n",
       "3                Anita Shreve                 1999          Little, Brown   \n",
       "4                   Jan Karon                 1996           Viking Books   \n",
       "...                       ...                  ...                    ...   \n",
       "119156          Zeruya Shalev                 2002            Distribooks   \n",
       "136702         Isabel Allende                 2002  Transglobal Books Inc   \n",
       "136995          Hermann Hesse                 2002  Adelphi Book Shop Ltd   \n",
       "150328         Barbara Freese                 2004    Penguin USA (Paper)   \n",
       "150685  Virginia Beard Morton                 2000         Edgehill Books   \n",
       "\n",
       "                                              Image-URL-L  User-ID  \\\n",
       "0       http://images.amazon.com/images/P/0786868716.0...    11400   \n",
       "1       http://images.amazon.com/images/P/0151008116.0...    11400   \n",
       "2       http://images.amazon.com/images/P/0312195516.0...    11400   \n",
       "3       http://images.amazon.com/images/P/0316789089.0...    11400   \n",
       "4       http://images.amazon.com/images/P/014025448X.0...    11400   \n",
       "...                                                   ...      ...   \n",
       "119156  http://images.amazon.com/images/P/3442760003.0...   245499   \n",
       "136702  http://images.amazon.com/images/P/8807810212.0...   195443   \n",
       "136995  http://images.amazon.com/images/P/884590184X.0...   203031   \n",
       "150328  http://images.amazon.com/images/P/0142000981.0...     9557   \n",
       "150685  http://images.amazon.com/images/P/0615116426.0...   277265   \n",
       "\n",
       "        Book-Rating  Age      City                State  Country  Score  \\\n",
       "0                 9   49    ottawa              ontario   canada  8.010   \n",
       "1                 6   49    ottawa              ontario   canada  8.069   \n",
       "2                 7   49    ottawa              ontario   canada  8.174   \n",
       "3                 7   49    ottawa              ontario   canada  7.737   \n",
       "4                10   49    ottawa              ontario   canada  7.871   \n",
       "...             ...  ...       ...                  ...      ...    ...   \n",
       "119156            5   30   erkrath  nordrhein-westfalen  germany  6.756   \n",
       "136702            5   22   vicenza               veneto    italy  6.663   \n",
       "136995           10   29     monza            lombardia    italy  7.892   \n",
       "150328            7   16      cols                 ohio      usa  5.484   \n",
       "150685           10   35  culpeper             virginia      usa  8.348   \n",
       "\n",
       "        Total-Ratings  \n",
       "0                 244  \n",
       "1                 337  \n",
       "2                 383  \n",
       "3                  65  \n",
       "4                  99  \n",
       "...               ...  \n",
       "119156             13  \n",
       "136702             11  \n",
       "136995             17  \n",
       "150328             19  \n",
       "150685             14  \n",
       "\n",
       "[5714 rows x 14 columns]"
      ]
     },
     "execution_count": 379,
     "metadata": {},
     "output_type": "execute_result"
    }
   ],
   "source": [
    "data_result1 = data_result1.drop_duplicates(subset='Book-Title', keep=\"first\")\n",
    "data_result1"
   ]
  },
  {
   "cell_type": "code",
   "execution_count": null,
   "id": "27324d07-3f5a-4bb1-a4e6-3b2f61bcc099",
   "metadata": {},
   "outputs": [],
   "source": [
    "model = SentenceTransformer('paraphrase-MiniLM-L6-v2')\n",
    "\n",
    "# Encode two sentences\n",
    "query_embeding = \"\"\n",
    "corpus_embedings = \"\"\n",
    "query_embeding = model.encode(query_embeding, convert_to_tensor=True)\n",
    "corpus_embedings = model.encode(corpus_embedings, convert_to_tensor=True)\n",
    "\n",
    "# Calculate cosine similarity\n",
    "cosine_similarity = util.pytorch_cos_sim(query_embeding, corpus_embedings)\n",
    "\n",
    "#Recommend the best one"
   ]
  },
  {
   "cell_type": "markdown",
   "id": "ffab71f6-7a0d-4a18-bfd7-62d588d32014",
   "metadata": {
    "tags": []
   },
   "source": [
    "<div class=\"alert alert-block alert-success\">  \n",
    "<b>➕ diversity, personalization, no need of user interaction data\n",
    "\n",
    "</div>"
   ]
  },
  {
   "cell_type": "markdown",
   "id": "2f4311b8-31a4-450c-a61c-cab87b316031",
   "metadata": {},
   "source": [
    "<div class=\"alert alert-block alert-danger\">  \n",
    "<b>➖  can be computationally expensive, multilingual challenges, complex, data quality dependency\n",
    "</div>"
   ]
  },
  {
   "cell_type": "markdown",
   "id": "cf19c547-312a-4051-9658-832dcf3af02d",
   "metadata": {},
   "source": [
    "### 2. Application architecture"
   ]
  },
  {
   "cell_type": "code",
   "execution_count": 4,
   "id": "197ad128-af6b-478a-b88b-11b6156338a0",
   "metadata": {
    "tags": []
   },
   "outputs": [],
   "source": [
    "def show_svg(filename):\n",
    "    display(SVG(filename))"
   ]
  },
  {
   "cell_type": "code",
   "execution_count": 5,
   "id": "9f58dc7b-f9f3-4935-ac10-014952d6bdd7",
   "metadata": {
    "tags": []
   },
   "outputs": [
    {
     "data": {
      "image/svg+xml": [
       "<svg xmlns=\"http://www.w3.org/2000/svg\" xmlns:xlink=\"http://www.w3.org/1999/xlink\" version=\"1.1\" width=\"639px\" height=\"302px\" viewBox=\"-0.5 -0.5 639 302\" content=\"&lt;mxfile host=&quot;app.diagrams.net&quot; modified=&quot;2023-09-10T12:24:24.472Z&quot; agent=&quot;Mozilla/5.0 (Windows NT 10.0; Win64; x64) AppleWebKit/537.36 (KHTML, like Gecko) Chrome/116.0.0.0 Safari/537.36&quot; etag=&quot;Lwtpcd8BcMPf5HzJpiNR&quot; version=&quot;21.7.4&quot; type=&quot;device&quot;&gt;&lt;diagram id=&quot;C5RBs43oDa-KdzZeNtuy&quot; name=&quot;Page-1&quot;&gt;7VlbV+M2EP41eUyP73EeEwJsW3ZLC5TlUbYV20S2jCxDsr++I1u+Ozc24fSUwoFIo/HInu+bGY0z0i+i9TVDSfCVepiMNMVbj/TFSNMmUwP+C8GmEBiWFPgs9AqRWgvuwh9YChUpzUIPpy1FTinhYdIWujSOsctbMsQYfWurLSlp75ogH/cEdy4ifelj6PGgkNrapJZ/waEflDur1rRYiVCpLJ8kDZBH3xoi/XKkXzBKeTGK1heYCN+Vfnn8dfNIblbW9W9/pi/oYf77/be/x4Wxq2MuqR6B4Zif1rRWmH5FJJP+ks/KN6UDGc1iDwsjykifBzwiMFRh+Iw530jAUcYpiCjjAfVpjMgNpYnUW9KYSzVVzHHszQSwMHcIdVeF6CokRO4BM6lvwyzljK4q7ISBCgihTJCDyRy5Kz+/0QtKKIOlmMZYmPKADPJZ6pu7rKXzA30rMUhpxly8Q0+XFEfMx7vsWYWeuL8GTyVy15hGmLMNKDBMEA9f22RGMib8Sq/GHQYS+iNooPdo8JBiJq6Kk4zD5xj+XjIstxqmh4DmLQg5vktQ7qM3SChtyjSpAE879wlKUwnkHpyXwI8S3JGmL03xK0025MVPZa6xYuU/RyP+ihnH650YlauKTBQyU6pTOX+r846qyuwSNHKOoZwJVqsHq0zvXQwDGjlZuh+/NiLg+SsUhUQ87xdMXjEPXTSAMiKhH8PEBYcDqwahhi3D2IeZVc/u8xQyNvroewjbS3cQZdfGzvKMKOvGtI3yZADlkglNlO1zoaz2k/hf2KVRBHkUcgeN039N0C6x5Q7C5k2mjqJ8YHBqHxqc9kplz/79w+PXebByZvjZfJLVul16LcKlw1t4WS8ZLRfGaQ7FDBRUO1nnLivXYeTLz9yQUwqumLgS+FCuwB07XW2QFTuX4g5pwNO8zYxeYAs8IAeQmVyIQs/LqyzDcNvIyU0JmBMaxjz3qDkfmQthC04QqWRZjyGymjfpJEVbeHAohbbyZdqmizHEloEgPxtb1A9kizhN/U+WI8iiW/vZMlQSzsaW/nlu0YcIMnUihu6GhFANmL6/FDhF3bhxKkF18P4j42CmQkSCYw7UbhPbnjFUBGzN0RsntNPjZCrt2m33cbLOVbmHYDIGgroDUqNZkiT2UBpUpbuBjZDfIg6xFecSTamPwWWBFuW73c+NhtqQ9zu64UlzwJOl7OCuRu5wKzJAjaNmtXHUu4FUtGnyqmZPvMfQpGOnaON6dgARtGmoyQR18P2WpaPmTmGxZlLl0veTy9xPrv94a4/XIf9ebgzjJ7mJGC/WjYWFwGWcJysxvcUsBO+LIvXzMdJ5Z7AjWx/2zuAnXhEMk9OYdshpvTOYLNvYbWhLNJ2K8P1u99MS/hfzIMorWwgPtGab7+WlYvJUWxXT2lQ+K22dMlB2vM/YGyhFR3z6SFH1FsF757dDI0XXOoYs80MjZTIQKZ0e4NjuAlAe7i6+3dxu7RmG2ovP3Ed0U7GmH3ZAPVsfMe0R5SHxEIcMqimLunFkJXwz8Gck10EPCfuxj1PxFupzQ2t2j4DKQI94ImxhWn8rVeSM+qs9/fIf&lt;/diagram&gt;&lt;/mxfile&gt;\" style=\"background-color: rgb(255, 255, 255);\"><defs/><g><path d=\"M 129 170 L 248.88 170\" fill=\"none\" stroke=\"rgb(0, 0, 0)\" stroke-miterlimit=\"10\" pointer-events=\"stroke\"/><path d=\"M 257.88 170 L 248.88 174.5 L 248.88 165.5 Z\" fill=\"none\" stroke=\"rgb(0, 0, 0)\" stroke-miterlimit=\"10\" pointer-events=\"all\"/><rect x=\"10\" y=\"150\" width=\"119\" height=\"40\" rx=\"6\" ry=\"6\" fill=\"#f5f5f5\" stroke=\"#666666\" pointer-events=\"all\"/><g transform=\"translate(-0.5 -0.5)\"><switch><foreignObject pointer-events=\"none\" width=\"100%\" height=\"100%\" requiredFeatures=\"http://www.w3.org/TR/SVG11/feature#Extensibility\" style=\"overflow: visible; text-align: left;\"><div xmlns=\"http://www.w3.org/1999/xhtml\" style=\"display: flex; align-items: unsafe center; justify-content: unsafe center; width: 117px; height: 1px; padding-top: 170px; margin-left: 11px;\"><div data-drawio-colors=\"color: #333333; \" style=\"box-sizing: border-box; font-size: 0px; text-align: center;\"><div style=\"display: inline-block; font-size: 12px; font-family: Helvetica; color: rgb(51, 51, 51); line-height: 1.2; pointer-events: all; white-space: normal; overflow-wrap: normal;\">User input - query</div></div></div></foreignObject><text x=\"70\" y=\"174\" fill=\"#333333\" font-family=\"Helvetica\" font-size=\"12px\" text-anchor=\"middle\">User input - query</text></switch></g><path d=\"M 309 130 L 359 170 L 309 210 L 259 170 Z\" fill=\"#dae8fc\" stroke=\"#6c8ebf\" stroke-miterlimit=\"10\" pointer-events=\"all\"/><g transform=\"translate(-0.5 -0.5)\"><switch><foreignObject pointer-events=\"none\" width=\"100%\" height=\"100%\" requiredFeatures=\"http://www.w3.org/TR/SVG11/feature#Extensibility\" style=\"overflow: visible; text-align: left;\"><div xmlns=\"http://www.w3.org/1999/xhtml\" style=\"display: flex; align-items: unsafe center; justify-content: unsafe center; width: 90px; height: 1px; padding-top: 168px; margin-left: 264px;\"><div data-drawio-colors=\"color: rgb(0, 0, 0); \" style=\"box-sizing: border-box; font-size: 0px; text-align: center;\"><div style=\"display: inline-block; font-size: 12px; font-family: Helvetica; color: rgb(0, 0, 0); line-height: 1.2; pointer-events: all; white-space: normal; overflow-wrap: normal;\">Model</div></div></div></foreignObject><text x=\"309\" y=\"172\" fill=\"rgb(0, 0, 0)\" font-family=\"Helvetica\" font-size=\"12px\" text-anchor=\"middle\">Model</text></switch></g><rect x=\"10\" y=\"250\" width=\"119\" height=\"40\" rx=\"6\" ry=\"6\" fill=\"#ffe6cc\" stroke=\"#d79b00\" pointer-events=\"all\"/><g transform=\"translate(-0.5 -0.5)\"><switch><foreignObject pointer-events=\"none\" width=\"100%\" height=\"100%\" requiredFeatures=\"http://www.w3.org/TR/SVG11/feature#Extensibility\" style=\"overflow: visible; text-align: left;\"><div xmlns=\"http://www.w3.org/1999/xhtml\" style=\"display: flex; align-items: unsafe center; justify-content: unsafe center; width: 117px; height: 1px; padding-top: 270px; margin-left: 11px;\"><div data-drawio-colors=\"color: rgb(0, 0, 0); \" style=\"box-sizing: border-box; font-size: 0px; text-align: center;\"><div style=\"display: inline-block; font-size: 12px; font-family: Helvetica; color: rgb(0, 0, 0); line-height: 1.2; pointer-events: all; white-space: normal; overflow-wrap: normal;\">Recommendations</div></div></div></foreignObject><text x=\"70\" y=\"274\" fill=\"rgb(0, 0, 0)\" font-family=\"Helvetica\" font-size=\"12px\" text-anchor=\"middle\">Recommendations</text></switch></g><rect x=\"0\" y=\"0\" width=\"110\" height=\"40\" fill=\"none\" stroke=\"none\" pointer-events=\"all\"/><g transform=\"translate(-0.5 -0.5)\"><switch><foreignObject pointer-events=\"none\" width=\"100%\" height=\"100%\" requiredFeatures=\"http://www.w3.org/TR/SVG11/feature#Extensibility\" style=\"overflow: visible; text-align: left;\"><div xmlns=\"http://www.w3.org/1999/xhtml\" style=\"display: flex; align-items: unsafe center; justify-content: unsafe center; width: 1px; height: 1px; padding-top: 20px; margin-left: 55px;\"><div data-drawio-colors=\"color: rgb(0, 0, 0); \" style=\"box-sizing: border-box; font-size: 0px; text-align: center;\"><div style=\"display: inline-block; font-size: 12px; font-family: Helvetica; color: rgb(0, 0, 0); line-height: 1.2; pointer-events: all; white-space: nowrap;\"><font style=\"font-size: 18px;\"><b>Front-end</b></font></div></div></div></foreignObject><text x=\"55\" y=\"24\" fill=\"rgb(0, 0, 0)\" font-family=\"Helvetica\" font-size=\"12px\" text-anchor=\"middle\">Front-end</text></switch></g><rect x=\"270\" y=\"0\" width=\"100\" height=\"40\" fill=\"none\" stroke=\"none\" pointer-events=\"all\"/><g transform=\"translate(-0.5 -0.5)\"><switch><foreignObject pointer-events=\"none\" width=\"100%\" height=\"100%\" requiredFeatures=\"http://www.w3.org/TR/SVG11/feature#Extensibility\" style=\"overflow: visible; text-align: left;\"><div xmlns=\"http://www.w3.org/1999/xhtml\" style=\"display: flex; align-items: unsafe center; justify-content: unsafe center; width: 1px; height: 1px; padding-top: 20px; margin-left: 320px;\"><div data-drawio-colors=\"color: rgb(0, 0, 0); \" style=\"box-sizing: border-box; font-size: 0px; text-align: center;\"><div style=\"display: inline-block; font-size: 12px; font-family: Helvetica; color: rgb(0, 0, 0); line-height: 1.2; pointer-events: all; white-space: nowrap;\"><font style=\"font-size: 18px;\"><b>Back-end</b></font></div></div></div></foreignObject><text x=\"320\" y=\"24\" fill=\"rgb(0, 0, 0)\" font-family=\"Helvetica\" font-size=\"12px\" text-anchor=\"middle\">Back-end</text></switch></g><path d=\"M 419 55 C 419 46.72 432.43 40 449 40 C 456.96 40 464.59 41.58 470.21 44.39 C 475.84 47.21 479 51.02 479 55 L 479 105 C 479 113.28 465.57 120 449 120 C 432.43 120 419 113.28 419 105 Z\" fill=\"#d5e8d4\" stroke=\"#82b366\" stroke-miterlimit=\"10\" pointer-events=\"all\"/><path d=\"M 479 55 C 479 63.28 465.57 70 449 70 C 432.43 70 419 63.28 419 55\" fill=\"none\" stroke=\"#82b366\" stroke-miterlimit=\"10\" pointer-events=\"all\"/><g transform=\"translate(-0.5 -0.5)\"><switch><foreignObject pointer-events=\"none\" width=\"100%\" height=\"100%\" requiredFeatures=\"http://www.w3.org/TR/SVG11/feature#Extensibility\" style=\"overflow: visible; text-align: left;\"><div xmlns=\"http://www.w3.org/1999/xhtml\" style=\"display: flex; align-items: unsafe center; justify-content: unsafe center; width: 58px; height: 1px; padding-top: 93px; margin-left: 420px;\"><div data-drawio-colors=\"color: rgb(0, 0, 0); \" style=\"box-sizing: border-box; font-size: 0px; text-align: center;\"><div style=\"display: inline-block; font-size: 12px; font-family: Helvetica; color: rgb(0, 0, 0); line-height: 1.2; pointer-events: all; white-space: normal; overflow-wrap: normal;\">DB</div></div></div></foreignObject><text x=\"449\" y=\"96\" fill=\"rgb(0, 0, 0)\" font-family=\"Helvetica\" font-size=\"12px\" text-anchor=\"middle\">DB</text></switch></g><path d=\"M 179 300 L 179 70 L 179 30\" fill=\"none\" stroke=\"rgb(0, 0, 0)\" stroke-width=\"2\" stroke-miterlimit=\"10\" stroke-dasharray=\"2 6\" pointer-events=\"stroke\"/><path d=\"M 419 105 L 309 105 L 309 119.88\" fill=\"none\" stroke=\"rgb(0, 0, 0)\" stroke-miterlimit=\"10\" pointer-events=\"stroke\"/><path d=\"M 309 128.88 L 304.5 119.88 L 313.5 119.88 Z\" fill=\"none\" stroke=\"rgb(0, 0, 0)\" stroke-miterlimit=\"10\" pointer-events=\"all\"/><path d=\"M 309 210 L 309 270 L 139.12 270\" fill=\"none\" stroke=\"rgb(0, 0, 0)\" stroke-miterlimit=\"10\" pointer-events=\"stroke\"/><path d=\"M 130.12 270 L 139.12 265.5 L 139.12 274.5 Z\" fill=\"none\" stroke=\"rgb(0, 0, 0)\" stroke-miterlimit=\"10\" pointer-events=\"all\"/><rect x=\"409\" y=\"190\" width=\"60\" height=\"40\" fill=\"none\" stroke=\"none\" pointer-events=\"all\"/><g transform=\"translate(-0.5 -0.5)\"><switch><foreignObject pointer-events=\"none\" width=\"100%\" height=\"100%\" requiredFeatures=\"http://www.w3.org/TR/SVG11/feature#Extensibility\" style=\"overflow: visible; text-align: left;\"><div xmlns=\"http://www.w3.org/1999/xhtml\" style=\"display: flex; align-items: unsafe center; justify-content: unsafe center; width: 1px; height: 1px; padding-top: 210px; margin-left: 439px;\"><div data-drawio-colors=\"color: rgb(0, 0, 0); \" style=\"box-sizing: border-box; font-size: 0px; text-align: center;\"><div style=\"display: inline-block; font-size: 12px; font-family: Helvetica; color: rgb(0, 0, 0); line-height: 1.2; pointer-events: all; white-space: nowrap;\"><b><font style=\"font-size: 20px;\">NLP</font></b></div></div></div></foreignObject><text x=\"439\" y=\"214\" fill=\"rgb(0, 0, 0)\" font-family=\"Helvetica\" font-size=\"12px\" text-anchor=\"middle\">NLP</text></switch></g><rect x=\"479\" y=\"60\" width=\"160\" height=\"40\" fill=\"none\" stroke=\"none\" pointer-events=\"all\"/><g transform=\"translate(-0.5 -0.5)\"><switch><foreignObject pointer-events=\"none\" width=\"100%\" height=\"100%\" requiredFeatures=\"http://www.w3.org/TR/SVG11/feature#Extensibility\" style=\"overflow: visible; text-align: left;\"><div xmlns=\"http://www.w3.org/1999/xhtml\" style=\"display: flex; align-items: unsafe center; justify-content: unsafe center; width: 1px; height: 1px; padding-top: 80px; margin-left: 559px;\"><div data-drawio-colors=\"color: rgb(0, 0, 0); \" style=\"box-sizing: border-box; font-size: 0px; text-align: center;\"><div style=\"display: inline-block; font-size: 12px; font-family: Helvetica; color: rgb(0, 0, 0); line-height: 1.2; pointer-events: all; white-space: nowrap;\">Updated DB<br/>Automated data ingestion</div></div></div></foreignObject><text x=\"559\" y=\"84\" fill=\"rgb(0, 0, 0)\" font-family=\"Helvetica\" font-size=\"12px\" text-anchor=\"middle\">Updated DB...</text></switch></g></g><switch><g requiredFeatures=\"http://www.w3.org/TR/SVG11/feature#Extensibility\"/><a transform=\"translate(0,-5)\" xlink:href=\"https://www.drawio.com/doc/faq/svg-export-text-problems\" target=\"_blank\"><text text-anchor=\"middle\" font-size=\"10px\" x=\"50%\" y=\"100%\">Text is not SVG - cannot display</text></a></switch></svg>"
      ],
      "text/plain": [
       "<IPython.core.display.SVG object>"
      ]
     },
     "metadata": {},
     "output_type": "display_data"
    }
   ],
   "source": [
    "show_svg('NLP.drawio.svg')"
   ]
  },
  {
   "cell_type": "code",
   "execution_count": 6,
   "id": "d52d640b-d9dd-4d0f-9a3e-a461987a60b6",
   "metadata": {
    "tags": []
   },
   "outputs": [
    {
     "data": {
      "image/svg+xml": [
       "<svg xmlns=\"http://www.w3.org/2000/svg\" xmlns:xlink=\"http://www.w3.org/1999/xlink\" version=\"1.1\" width=\"659px\" height=\"302px\" viewBox=\"-0.5 -0.5 659 302\" content=\"&lt;mxfile host=&quot;app.diagrams.net&quot; modified=&quot;2023-09-10T13:34:23.498Z&quot; agent=&quot;Mozilla/5.0 (Windows NT 10.0; Win64; x64) AppleWebKit/537.36 (KHTML, like Gecko) Chrome/116.0.0.0 Safari/537.36&quot; etag=&quot;TLX7fa7S2ciQHF3b2Dds&quot; version=&quot;21.7.4&quot; type=&quot;device&quot;&gt;&lt;diagram id=&quot;C5RBs43oDa-KdzZeNtuy&quot; name=&quot;Page-1&quot;&gt;7Vpbd6M2EP41fvQe7saPcW7bbjbdbZJm8yhABmKBvCAn9v76jkBcJd+a4NPTNDknQcMwwHzfzGjGHpnnyfo6Q8voKw0wGRlasB6ZFyPDmEwt+MsFm1JgOUIQZnFQivRGcBf/wkKoCekqDnDeUWSUEhYvu0Kfpin2WUeGsoy+dtXmlHTvukQhlgR3PiKy9DEOWFRKXWPSyD/jOIyqO+vOtDyToEpZvEkeoYC+tkTm5cg8zyhl5VGyPseE+67yy+Nvm0dys3Cuf/+e/0QPsy/3t3+NS2NXx1xSv0KGU/a+po3S9AsiK+Ev8a5sUzkwo6s0wNyINjJnEUsIHOpw+IwZ2wjA0YpRENGMRTSkKSI3lC6F3pymTKjpfI3T4IwDC2uPUH9Riq5iQsQ9YCX0XVjlLKOLGjtuoAaCKxPkYTJD/iIsHvScEprBqZSmmJsKgAziXZqHu2ykswN9KzDI6Srz8Q49U1AcZSHeZc8p9fjztXgqkLvGNMEs24BChgli8UuXzEjERFjriUvBr2jTUljSOGV5y/I3LgAFEd3GRHBbBLc+6XFoj34V5UIfDsonqFatV2lEBS+3cNRd6NlzeP/w+HUWLbwz/Gw/jXVL4uR+WLusVfJSwd8Wu/E6Zj9ax08VOeH4Yt1ebGrawnv+aC+e2ovmomLFrzImn+xK8A1nMXgKZ0JLyY+BiaryvvlGXra4sRv6HQ/ZSk8POXgIrkqXK+ClgxJAc5Z6+bJ2mTJ1cRRfo5jhuyUq3PIKxa4LeDtNwRvPQoLyXICxJwfNIXdViWdkmHOb/wqTLXn5U5trnXGKn6Oz0QvOGF7vzB9VGde7cW6KOH5tSqKui8IXtcqhpQ2ErCMhK3YefQgjmnirfD98XUDA8VcoiQl/38+YvGAW+0gBMiJxmMLCB3/z0FMhDbeM0xBWTrO6L7LI2JLBDxB2574SZN/F3nxAkE1rqszmHZQ1TUbZHQplXd5f/Il9miRQ4iF90DT/18TsHDu+ErZgMvU0bUDYakiqojo9ZXCqcr6m2BU6hAmHd/Byfq5odWKcF1CcgYLuLteFy6rzcBSK/4UhrxJcZfxK4EN1Bp7Y62uDrLxzJe6RBjzNusyQApvjATmAnIkTSRwE5U4Bw2MjrzDFYRZ7JrBrz0b2BbcFm4NcsExiiNhotukkRFt4cCiFtvJl2qWLpWKLIsgHY4t+Qrbwjf7/ZDmCLKazny2qkjAYW+Qt3YUMEWTqJT/0NySGapCZ+0uBV9aNG68W1D3hHysGZmpEBDi2onbb2A0sVRFwDc9sbdDeHydb69ZuV8bJGapyq2CyFEHdb8KaPl6QOEB5VJfuFjZc/g0xiK20kBhaswuuCrQhNW2jt3RAsqNbnrQVnqxkxzXccofsdHE0+4FUNmbiql2tds/QpGenbNwkO0dPAHq30U/R0dv7yfUfnzpV04VqiPA0aiYN8nRhXCQrvhxySrAjWx82znrr9EoipzXtkdP5h8HkuNZuQ1ui6b0IL3e7H5bwn+yDKK9tIXw9ZNM7Q7ZmjqYYs51inOYcGChlR/z+kaKbHYJL+7dDI8U0eoYc+6SRMlFESq8HOLa7AJTV3cWX29utPYOqvfjIfYTlqif/7W3V5JR9xFQiysMyQAwyqKFdNI1jVsF3Bv5MxHnQQ8UQOcQ5n0J9bGjt/hZQU/SIquZjuImCPFL4vsLC8IfFyejNCVXjXRVM5mAwyft48fGMCLAxL2xQ1tIw3/tZzceCcmJ3oFR0+/VHNG+EEpbNVxTKKt18z8O8/Bs=&lt;/diagram&gt;&lt;/mxfile&gt;\" style=\"background-color: rgb(255, 255, 255);\"><defs/><g><path d=\"M 119 130 L 199 130 L 199 170 L 267.88 170\" fill=\"none\" stroke=\"rgb(0, 0, 0)\" stroke-miterlimit=\"10\" pointer-events=\"stroke\"/><path d=\"M 276.88 170 L 267.88 174.5 L 267.88 165.5 Z\" fill=\"none\" stroke=\"rgb(0, 0, 0)\" stroke-miterlimit=\"10\" pointer-events=\"all\"/><path d=\"M 119 90 L 119 67.5 L 431.63 67.5\" fill=\"none\" stroke=\"rgb(0, 0, 0)\" stroke-miterlimit=\"10\" pointer-events=\"stroke\"/><path d=\"M 436.88 67.5 L 429.88 71 L 431.63 67.5 L 429.88 64 Z\" fill=\"rgb(0, 0, 0)\" stroke=\"rgb(0, 0, 0)\" stroke-miterlimit=\"10\" pointer-events=\"all\"/><rect x=\"0\" y=\"90\" width=\"119\" height=\"40\" rx=\"6\" ry=\"6\" fill=\"#f5f5f5\" stroke=\"#666666\" pointer-events=\"all\"/><g transform=\"translate(-0.5 -0.5)\"><switch><foreignObject pointer-events=\"none\" width=\"100%\" height=\"100%\" requiredFeatures=\"http://www.w3.org/TR/SVG11/feature#Extensibility\" style=\"overflow: visible; text-align: left;\"><div xmlns=\"http://www.w3.org/1999/xhtml\" style=\"display: flex; align-items: unsafe center; justify-content: unsafe center; width: 117px; height: 1px; padding-top: 110px; margin-left: 1px;\"><div data-drawio-colors=\"color: #333333; \" style=\"box-sizing: border-box; font-size: 0px; text-align: center;\"><div style=\"display: inline-block; font-size: 12px; font-family: Helvetica; color: rgb(51, 51, 51); line-height: 1.2; pointer-events: all; white-space: normal; overflow-wrap: normal;\">User input </div></div></div></foreignObject><text x=\"60\" y=\"114\" fill=\"#333333\" font-family=\"Helvetica\" font-size=\"12px\" text-anchor=\"middle\">User input </text></switch></g><path d=\"M 328 130 L 378 170 L 328 210 L 278 170 Z\" fill=\"#dae8fc\" stroke=\"#6c8ebf\" stroke-miterlimit=\"10\" pointer-events=\"all\"/><g transform=\"translate(-0.5 -0.5)\"><switch><foreignObject pointer-events=\"none\" width=\"100%\" height=\"100%\" requiredFeatures=\"http://www.w3.org/TR/SVG11/feature#Extensibility\" style=\"overflow: visible; text-align: left;\"><div xmlns=\"http://www.w3.org/1999/xhtml\" style=\"display: flex; align-items: unsafe center; justify-content: unsafe center; width: 90px; height: 1px; padding-top: 168px; margin-left: 283px;\"><div data-drawio-colors=\"color: rgb(0, 0, 0); \" style=\"box-sizing: border-box; font-size: 0px; text-align: center;\"><div style=\"display: inline-block; font-size: 12px; font-family: Helvetica; color: rgb(0, 0, 0); line-height: 1.2; pointer-events: all; white-space: normal; overflow-wrap: normal;\">Model</div></div></div></foreignObject><text x=\"328\" y=\"172\" fill=\"rgb(0, 0, 0)\" font-family=\"Helvetica\" font-size=\"12px\" text-anchor=\"middle\">Model</text></switch></g><rect x=\"29\" y=\"250\" width=\"119\" height=\"40\" rx=\"6\" ry=\"6\" fill=\"#ffe6cc\" stroke=\"#d79b00\" pointer-events=\"all\"/><g transform=\"translate(-0.5 -0.5)\"><switch><foreignObject pointer-events=\"none\" width=\"100%\" height=\"100%\" requiredFeatures=\"http://www.w3.org/TR/SVG11/feature#Extensibility\" style=\"overflow: visible; text-align: left;\"><div xmlns=\"http://www.w3.org/1999/xhtml\" style=\"display: flex; align-items: unsafe center; justify-content: unsafe center; width: 117px; height: 1px; padding-top: 270px; margin-left: 30px;\"><div data-drawio-colors=\"color: rgb(0, 0, 0); \" style=\"box-sizing: border-box; font-size: 0px; text-align: center;\"><div style=\"display: inline-block; font-size: 12px; font-family: Helvetica; color: rgb(0, 0, 0); line-height: 1.2; pointer-events: all; white-space: normal; overflow-wrap: normal;\">Recommendations</div></div></div></foreignObject><text x=\"89\" y=\"274\" fill=\"rgb(0, 0, 0)\" font-family=\"Helvetica\" font-size=\"12px\" text-anchor=\"middle\">Recommendations</text></switch></g><rect x=\"19\" y=\"0\" width=\"110\" height=\"40\" fill=\"none\" stroke=\"none\" pointer-events=\"all\"/><g transform=\"translate(-0.5 -0.5)\"><switch><foreignObject pointer-events=\"none\" width=\"100%\" height=\"100%\" requiredFeatures=\"http://www.w3.org/TR/SVG11/feature#Extensibility\" style=\"overflow: visible; text-align: left;\"><div xmlns=\"http://www.w3.org/1999/xhtml\" style=\"display: flex; align-items: unsafe center; justify-content: unsafe center; width: 1px; height: 1px; padding-top: 20px; margin-left: 74px;\"><div data-drawio-colors=\"color: rgb(0, 0, 0); \" style=\"box-sizing: border-box; font-size: 0px; text-align: center;\"><div style=\"display: inline-block; font-size: 12px; font-family: Helvetica; color: rgb(0, 0, 0); line-height: 1.2; pointer-events: all; white-space: nowrap;\"><font style=\"font-size: 18px;\"><b>Front-end</b></font></div></div></div></foreignObject><text x=\"74\" y=\"24\" fill=\"rgb(0, 0, 0)\" font-family=\"Helvetica\" font-size=\"12px\" text-anchor=\"middle\">Front-end</text></switch></g><rect x=\"289\" y=\"0\" width=\"100\" height=\"40\" fill=\"none\" stroke=\"none\" pointer-events=\"all\"/><g transform=\"translate(-0.5 -0.5)\"><switch><foreignObject pointer-events=\"none\" width=\"100%\" height=\"100%\" requiredFeatures=\"http://www.w3.org/TR/SVG11/feature#Extensibility\" style=\"overflow: visible; text-align: left;\"><div xmlns=\"http://www.w3.org/1999/xhtml\" style=\"display: flex; align-items: unsafe center; justify-content: unsafe center; width: 1px; height: 1px; padding-top: 20px; margin-left: 339px;\"><div data-drawio-colors=\"color: rgb(0, 0, 0); \" style=\"box-sizing: border-box; font-size: 0px; text-align: center;\"><div style=\"display: inline-block; font-size: 12px; font-family: Helvetica; color: rgb(0, 0, 0); line-height: 1.2; pointer-events: all; white-space: nowrap;\"><font style=\"font-size: 18px;\"><b>Back-end</b></font></div></div></div></foreignObject><text x=\"339\" y=\"24\" fill=\"rgb(0, 0, 0)\" font-family=\"Helvetica\" font-size=\"12px\" text-anchor=\"middle\">Back-end</text></switch></g><path d=\"M 438 55 C 438 46.72 451.43 40 468 40 C 475.96 40 483.59 41.58 489.21 44.39 C 494.84 47.21 498 51.02 498 55 L 498 105 C 498 113.28 484.57 120 468 120 C 451.43 120 438 113.28 438 105 Z\" fill=\"#d5e8d4\" stroke=\"#82b366\" stroke-miterlimit=\"10\" pointer-events=\"all\"/><path d=\"M 498 55 C 498 63.28 484.57 70 468 70 C 451.43 70 438 63.28 438 55\" fill=\"none\" stroke=\"#82b366\" stroke-miterlimit=\"10\" pointer-events=\"all\"/><g transform=\"translate(-0.5 -0.5)\"><switch><foreignObject pointer-events=\"none\" width=\"100%\" height=\"100%\" requiredFeatures=\"http://www.w3.org/TR/SVG11/feature#Extensibility\" style=\"overflow: visible; text-align: left;\"><div xmlns=\"http://www.w3.org/1999/xhtml\" style=\"display: flex; align-items: unsafe center; justify-content: unsafe center; width: 58px; height: 1px; padding-top: 93px; margin-left: 439px;\"><div data-drawio-colors=\"color: rgb(0, 0, 0); \" style=\"box-sizing: border-box; font-size: 0px; text-align: center;\"><div style=\"display: inline-block; font-size: 12px; font-family: Helvetica; color: rgb(0, 0, 0); line-height: 1.2; pointer-events: all; white-space: normal; overflow-wrap: normal;\">DB</div></div></div></foreignObject><text x=\"468\" y=\"96\" fill=\"rgb(0, 0, 0)\" font-family=\"Helvetica\" font-size=\"12px\" text-anchor=\"middle\">DB</text></switch></g><path d=\"M 198 300 L 198 70 L 198 30\" fill=\"none\" stroke=\"rgb(0, 0, 0)\" stroke-width=\"2\" stroke-miterlimit=\"10\" stroke-dasharray=\"2 6\" pointer-events=\"stroke\"/><path d=\"M 438 105 L 328 105 L 328 119.88\" fill=\"none\" stroke=\"rgb(0, 0, 0)\" stroke-miterlimit=\"10\" pointer-events=\"stroke\"/><path d=\"M 328 128.88 L 323.5 119.88 L 332.5 119.88 Z\" fill=\"none\" stroke=\"rgb(0, 0, 0)\" stroke-miterlimit=\"10\" pointer-events=\"all\"/><path d=\"M 328 210 L 328 270 L 158.12 270\" fill=\"none\" stroke=\"rgb(0, 0, 0)\" stroke-miterlimit=\"10\" pointer-events=\"stroke\"/><path d=\"M 149.12 270 L 158.12 265.5 L 158.12 274.5 Z\" fill=\"none\" stroke=\"rgb(0, 0, 0)\" stroke-miterlimit=\"10\" pointer-events=\"all\"/><rect x=\"409\" y=\"170\" width=\"70\" height=\"40\" fill=\"none\" stroke=\"none\" pointer-events=\"all\"/><g transform=\"translate(-0.5 -0.5)\"><switch><foreignObject pointer-events=\"none\" width=\"100%\" height=\"100%\" requiredFeatures=\"http://www.w3.org/TR/SVG11/feature#Extensibility\" style=\"overflow: visible; text-align: left;\"><div xmlns=\"http://www.w3.org/1999/xhtml\" style=\"display: flex; align-items: unsafe center; justify-content: unsafe center; width: 1px; height: 1px; padding-top: 190px; margin-left: 444px;\"><div data-drawio-colors=\"color: rgb(0, 0, 0); \" style=\"box-sizing: border-box; font-size: 0px; text-align: center;\"><div style=\"display: inline-block; font-size: 12px; font-family: Helvetica; color: rgb(0, 0, 0); line-height: 1.2; pointer-events: all; white-space: nowrap;\"><b><font style=\"font-size: 20px;\">KNN</font></b></div></div></div></foreignObject><text x=\"444\" y=\"194\" fill=\"rgb(0, 0, 0)\" font-family=\"Helvetica\" font-size=\"12px\" text-anchor=\"middle\">KNN</text></switch></g><rect x=\"498\" y=\"60\" width=\"160\" height=\"40\" fill=\"none\" stroke=\"none\" pointer-events=\"all\"/><g transform=\"translate(-0.5 -0.5)\"><switch><foreignObject pointer-events=\"none\" width=\"100%\" height=\"100%\" requiredFeatures=\"http://www.w3.org/TR/SVG11/feature#Extensibility\" style=\"overflow: visible; text-align: left;\"><div xmlns=\"http://www.w3.org/1999/xhtml\" style=\"display: flex; align-items: unsafe center; justify-content: unsafe center; width: 1px; height: 1px; padding-top: 80px; margin-left: 578px;\"><div data-drawio-colors=\"color: rgb(0, 0, 0); \" style=\"box-sizing: border-box; font-size: 0px; text-align: center;\"><div style=\"display: inline-block; font-size: 12px; font-family: Helvetica; color: rgb(0, 0, 0); line-height: 1.2; pointer-events: all; white-space: nowrap;\">Updated DB<br/>Automated data ingestion</div></div></div></foreignObject><text x=\"578\" y=\"84\" fill=\"rgb(0, 0, 0)\" font-family=\"Helvetica\" font-size=\"12px\" text-anchor=\"middle\">Updated DB...</text></switch></g><rect x=\"129\" y=\"130\" width=\"60\" height=\"30\" fill=\"none\" stroke=\"none\" pointer-events=\"all\"/><g transform=\"translate(-0.5 -0.5)\"><switch><foreignObject pointer-events=\"none\" width=\"100%\" height=\"100%\" requiredFeatures=\"http://www.w3.org/TR/SVG11/feature#Extensibility\" style=\"overflow: visible; text-align: left;\"><div xmlns=\"http://www.w3.org/1999/xhtml\" style=\"display: flex; align-items: unsafe center; justify-content: unsafe center; width: 1px; height: 1px; padding-top: 145px; margin-left: 159px;\"><div data-drawio-colors=\"color: rgb(0, 0, 0); \" style=\"box-sizing: border-box; font-size: 0px; text-align: center;\"><div style=\"display: inline-block; font-size: 12px; font-family: Helvetica; color: rgb(0, 0, 0); line-height: 1.2; pointer-events: all; white-space: nowrap;\">Query</div></div></div></foreignObject><text x=\"159\" y=\"149\" fill=\"rgb(0, 0, 0)\" font-family=\"Helvetica\" font-size=\"12px\" text-anchor=\"middle\">Query</text></switch></g><rect x=\"204\" y=\"40\" width=\"130\" height=\"30\" fill=\"none\" stroke=\"none\" pointer-events=\"all\"/><g transform=\"translate(-0.5 -0.5)\"><switch><foreignObject pointer-events=\"none\" width=\"100%\" height=\"100%\" requiredFeatures=\"http://www.w3.org/TR/SVG11/feature#Extensibility\" style=\"overflow: visible; text-align: left;\"><div xmlns=\"http://www.w3.org/1999/xhtml\" style=\"display: flex; align-items: unsafe center; justify-content: unsafe center; width: 1px; height: 1px; padding-top: 55px; margin-left: 269px;\"><div data-drawio-colors=\"color: rgb(0, 0, 0); \" style=\"box-sizing: border-box; font-size: 0px; text-align: center;\"><div style=\"display: inline-block; font-size: 12px; font-family: Helvetica; color: rgb(0, 0, 0); line-height: 1.2; pointer-events: all; white-space: nowrap;\">User data - ratings </div></div></div></foreignObject><text x=\"269\" y=\"59\" fill=\"rgb(0, 0, 0)\" font-family=\"Helvetica\" font-size=\"12px\" text-anchor=\"middle\">User data - ratings </text></switch></g></g><switch><g requiredFeatures=\"http://www.w3.org/TR/SVG11/feature#Extensibility\"/><a transform=\"translate(0,-5)\" xlink:href=\"https://www.drawio.com/doc/faq/svg-export-text-problems\" target=\"_blank\"><text text-anchor=\"middle\" font-size=\"10px\" x=\"50%\" y=\"100%\">Text is not SVG - cannot display</text></a></switch></svg>"
      ],
      "text/plain": [
       "<IPython.core.display.SVG object>"
      ]
     },
     "metadata": {},
     "output_type": "display_data"
    }
   ],
   "source": [
    "show_svg('KNN.drawio.svg')"
   ]
  },
  {
   "cell_type": "code",
   "execution_count": null,
   "id": "13636c6b-4134-4806-b304-038914ad6092",
   "metadata": {},
   "outputs": [],
   "source": []
  }
 ],
 "metadata": {
  "kernelspec": {
   "display_name": "Python 3 (ipykernel)",
   "language": "python",
   "name": "python3"
  },
  "language_info": {
   "codemirror_mode": {
    "name": "ipython",
    "version": 3
   },
   "file_extension": ".py",
   "mimetype": "text/x-python",
   "name": "python",
   "nbconvert_exporter": "python",
   "pygments_lexer": "ipython3",
   "version": "3.11.4"
  }
 },
 "nbformat": 4,
 "nbformat_minor": 5
}
